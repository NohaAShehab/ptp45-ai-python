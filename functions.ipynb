{
 "cells": [
  {
   "metadata": {},
   "cell_type": "markdown",
   "source": "<h1 style='text-align: center; color:red' > Functions</h1>",
   "id": "11e447d2b8a3f5f9"
  },
  {
   "cell_type": "code",
   "id": "initial_id",
   "metadata": {
    "collapsed": true,
    "ExecuteTime": {
     "end_time": "2024-11-16T09:23:55.554811Z",
     "start_time": "2024-11-16T09:23:55.551270Z"
    }
   },
   "source": [
    "\"1- define function\" \n",
    "def myfun():\n",
    "    pass \n"
   ],
   "outputs": [],
   "execution_count": 1
  },
  {
   "metadata": {},
   "cell_type": "markdown",
   "source": [
    "<pre>to call function \n",
    "this function doesn't accept parameters ??\n",
    "</pre>"
   ],
   "id": "fda6519b55012fd6"
  },
  {
   "metadata": {
    "ExecuteTime": {
     "end_time": "2024-11-16T09:26:53.122082Z",
     "start_time": "2024-11-16T09:26:53.117295Z"
    }
   },
   "cell_type": "code",
   "source": [
    "rs  = myfun()\n",
    "print(rs)"
   ],
   "id": "709d36d959f698a",
   "outputs": [
    {
     "name": "stdout",
     "output_type": "stream",
     "text": [
      "None\n"
     ]
    }
   ],
   "execution_count": 3
  },
  {
   "metadata": {
    "ExecuteTime": {
     "end_time": "2024-11-16T09:27:23.735484Z",
     "start_time": "2024-11-16T09:27:23.723256Z"
    }
   },
   "cell_type": "code",
   "source": [
    "def myfun2():\n",
    "    return  "
   ],
   "id": "f54b5dc4eb7bf8b6",
   "outputs": [],
   "execution_count": 4
  },
  {
   "metadata": {
    "ExecuteTime": {
     "end_time": "2024-11-16T09:27:30.009904Z",
     "start_time": "2024-11-16T09:27:29.994930Z"
    }
   },
   "cell_type": "code",
   "source": [
    "rs2 = myfun2()\n",
    "print(rs2)"
   ],
   "id": "26237d972c2996e2",
   "outputs": [
    {
     "name": "stdout",
     "output_type": "stream",
     "text": [
      "None\n"
     ]
    }
   ],
   "execution_count": 5
  },
  {
   "metadata": {},
   "cell_type": "markdown",
   "source": "# function do something",
   "id": "cd2085a5f5c7ab34"
  },
  {
   "metadata": {
    "ExecuteTime": {
     "end_time": "2024-11-16T09:28:53.383779Z",
     "start_time": "2024-11-16T09:28:53.380116Z"
    }
   },
   "cell_type": "code",
   "source": [
    "def sayhello():\n",
    "    print(\"-- Hello from Ghaza \")\n",
    "\n",
    "sayhello()  # return with no "
   ],
   "id": "198cb42b7df11b9a",
   "outputs": [
    {
     "name": "stdout",
     "output_type": "stream",
     "text": [
      "-- Hello from Ghaza \n"
     ]
    }
   ],
   "execution_count": 6
  },
  {
   "metadata": {},
   "cell_type": "markdown",
   "source": "# function accept arguments then do something ",
   "id": "f5eb1f5a65d86db9"
  },
  {
   "metadata": {},
   "cell_type": "markdown",
   "source": "# <p style=\"padding:10px;background-color:blue;margin:0;color:white;font-family:newtimeroman;font-size:150%;text-align:center;border-radius: 15px 50px;overflow:hidden;font-weight:500\"> functions with mandatory arguments</p>",
   "id": "929a49ad8ba8a71c"
  },
  {
   "metadata": {
    "ExecuteTime": {
     "end_time": "2024-11-16T09:30:38.096054Z",
     "start_time": "2024-11-16T09:30:38.077173Z"
    }
   },
   "cell_type": "code",
   "source": [
    "def sumnum(num1, num2):\n",
    "    res = num1 + num2\n",
    "    print(f\"from inside the funciton \")\n",
    "    print(f\"{num1} + {num2} = {res}\")\n",
    "\n",
    "sumnum(34,34)\n",
    "rs3 = sumnum(30, 40)\n",
    "print(rs3)"
   ],
   "id": "5679eeb6dd6dd549",
   "outputs": [
    {
     "name": "stdout",
     "output_type": "stream",
     "text": [
      "from inside the funciton \n",
      "34 + 34 = 68\n",
      "from inside the funciton \n",
      "30 + 40 = 70\n",
      "None\n"
     ]
    }
   ],
   "execution_count": 9
  },
  {
   "metadata": {
    "ExecuteTime": {
     "end_time": "2024-11-16T09:31:36.908100Z",
     "start_time": "2024-11-16T09:31:36.901323Z"
    }
   },
   "cell_type": "code",
   "source": [
    "def mulnums(num1, num2):\n",
    "    res  = num1 * num2\n",
    "    print(f'{num1} * {num2} = {res}')\n",
    "    return res  # return with res --> num1 * num2 \n",
    "\n",
    "outt = mulnums(10, 20)\n",
    "print(f\"out = {outt}\")"
   ],
   "id": "2697d77650dd1f90",
   "outputs": [
    {
     "name": "stdout",
     "output_type": "stream",
     "text": [
      "10 * 20 = 200\n",
      "out = 200\n"
     ]
    }
   ],
   "execution_count": 10
  },
  {
   "metadata": {},
   "cell_type": "markdown",
   "source": [
    "# <p style=\"padding:10px;background-color:#e5855c;margin:0;color:white;font-family:newtimeroman;font-size:150%;text-align:center;border-radius: 15px 50px;overflow:hidden;font-weight:500\">Check this</p>\n",
    " "
   ],
   "id": "5c8e301e91a35515"
  },
  {
   "metadata": {
    "ExecuteTime": {
     "end_time": "2024-11-16T09:33:33.981740Z",
     "start_time": "2024-11-16T09:33:33.974862Z"
    }
   },
   "cell_type": "code",
   "source": [
    "def sumnum(num1, num2):\n",
    "    res = num1 + num2\n",
    "    print(f\"res = {res}\")"
   ],
   "id": "2a37d53f11386ec6",
   "outputs": [],
   "execution_count": 11
  },
  {
   "metadata": {
    "ExecuteTime": {
     "end_time": "2024-11-16T09:33:41.708162Z",
     "start_time": "2024-11-16T09:33:41.695299Z"
    }
   },
   "cell_type": "code",
   "source": "sumnum(10, 20)",
   "id": "13fb4fd152885f28",
   "outputs": [
    {
     "name": "stdout",
     "output_type": "stream",
     "text": [
      "res = 30\n"
     ]
    }
   ],
   "execution_count": 12
  },
  {
   "metadata": {
    "ExecuteTime": {
     "end_time": "2024-11-16T09:33:54.211377Z",
     "start_time": "2024-11-16T09:33:54.198270Z"
    }
   },
   "cell_type": "code",
   "source": "sumnum(\"Ahmed\", \"iti\")",
   "id": "7f9eaa12801a2f28",
   "outputs": [
    {
     "name": "stdout",
     "output_type": "stream",
     "text": [
      "res = Ahmediti\n"
     ]
    }
   ],
   "execution_count": 13
  },
  {
   "metadata": {
    "ExecuteTime": {
     "end_time": "2024-11-16T09:38:08.293518Z",
     "start_time": "2024-11-16T09:38:08.003754Z"
    }
   },
   "cell_type": "code",
   "source": "sumnum('Ahmed', 3)",
   "id": "695e5f99448e091f",
   "outputs": [
    {
     "ename": "TypeError",
     "evalue": "can only concatenate str (not \"int\") to str",
     "output_type": "error",
     "traceback": [
      "\u001B[0;31m---------------------------------------------------------------------------\u001B[0m",
      "\u001B[0;31mTypeError\u001B[0m                                 Traceback (most recent call last)",
      "Cell \u001B[0;32mIn[14], line 1\u001B[0m\n\u001B[0;32m----> 1\u001B[0m \u001B[43msumnum\u001B[49m\u001B[43m(\u001B[49m\u001B[38;5;124;43m'\u001B[39;49m\u001B[38;5;124;43mAhmed\u001B[39;49m\u001B[38;5;124;43m'\u001B[39;49m\u001B[43m,\u001B[49m\u001B[43m \u001B[49m\u001B[38;5;241;43m3\u001B[39;49m\u001B[43m)\u001B[49m\n",
      "Cell \u001B[0;32mIn[11], line 2\u001B[0m, in \u001B[0;36msumnum\u001B[0;34m(num1, num2)\u001B[0m\n\u001B[1;32m      1\u001B[0m \u001B[38;5;28;01mdef\u001B[39;00m \u001B[38;5;21msumnum\u001B[39m(num1, num2):\n\u001B[0;32m----> 2\u001B[0m     res \u001B[38;5;241m=\u001B[39m \u001B[43mnum1\u001B[49m\u001B[43m \u001B[49m\u001B[38;5;241;43m+\u001B[39;49m\u001B[43m \u001B[49m\u001B[43mnum2\u001B[49m\n\u001B[1;32m      3\u001B[0m     \u001B[38;5;28mprint\u001B[39m(\u001B[38;5;124mf\u001B[39m\u001B[38;5;124m\"\u001B[39m\u001B[38;5;124mres = \u001B[39m\u001B[38;5;132;01m{\u001B[39;00mres\u001B[38;5;132;01m}\u001B[39;00m\u001B[38;5;124m\"\u001B[39m)\n",
      "\u001B[0;31mTypeError\u001B[0m: can only concatenate str (not \"int\") to str"
     ]
    }
   ],
   "execution_count": 14
  },
  {
   "metadata": {},
   "cell_type": "code",
   "outputs": [],
   "execution_count": null,
   "source": "### You need to make sure that num1, num2 int ",
   "id": "af9990f6a05a8417"
  },
  {
   "metadata": {},
   "cell_type": "markdown",
   "source": [
    "<pre style='font-size: large' >\n",
    "int summ(int x , int y) {\n",
    "    int res = 0;\n",
    "    res = x + y;\n",
    "    return res; \n",
    "}\n",
    "</pre>"
   ],
   "id": "dc1eda0f91b95617"
  },
  {
   "metadata": {
    "ExecuteTime": {
     "end_time": "2024-11-16T09:40:22.900957Z",
     "start_time": "2024-11-16T09:40:22.897812Z"
    }
   },
   "cell_type": "code",
   "source": [
    "def mysumnum(num1: int , num2: int ):\n",
    "    res = num1 + num2 \n",
    "    print(f\"res = {res}\")\n"
   ],
   "id": "3a2a2f7e52525a91",
   "outputs": [],
   "execution_count": 15
  },
  {
   "metadata": {
    "ExecuteTime": {
     "end_time": "2024-11-16T09:40:29.905688Z",
     "start_time": "2024-11-16T09:40:29.891395Z"
    }
   },
   "cell_type": "code",
   "source": "mysumnum(10, 20)",
   "id": "dcb7cb6f1d3d3841",
   "outputs": [
    {
     "name": "stdout",
     "output_type": "stream",
     "text": [
      "res = 30\n"
     ]
    }
   ],
   "execution_count": 16
  },
  {
   "metadata": {
    "ExecuteTime": {
     "end_time": "2024-11-16T09:40:59.161491Z",
     "start_time": "2024-11-16T09:40:59.149098Z"
    }
   },
   "cell_type": "code",
   "source": "mysumnum('iti', \"a\")\n",
   "id": "260cbe07e9d9ac25",
   "outputs": [
    {
     "name": "stdout",
     "output_type": "stream",
     "text": [
      "res = itia\n"
     ]
    }
   ],
   "execution_count": 17
  },
  {
   "metadata": {
    "ExecuteTime": {
     "end_time": "2024-11-16T09:41:16.137834Z",
     "start_time": "2024-11-16T09:41:16.102461Z"
    }
   },
   "cell_type": "code",
   "source": "mysumnum(\"abc\", 3)",
   "id": "ee38f77e60b57e5c",
   "outputs": [
    {
     "ename": "TypeError",
     "evalue": "can only concatenate str (not \"int\") to str",
     "output_type": "error",
     "traceback": [
      "\u001B[0;31m---------------------------------------------------------------------------\u001B[0m",
      "\u001B[0;31mTypeError\u001B[0m                                 Traceback (most recent call last)",
      "Cell \u001B[0;32mIn[18], line 1\u001B[0m\n\u001B[0;32m----> 1\u001B[0m \u001B[43mmysumnum\u001B[49m\u001B[43m(\u001B[49m\u001B[38;5;124;43m\"\u001B[39;49m\u001B[38;5;124;43mabc\u001B[39;49m\u001B[38;5;124;43m\"\u001B[39;49m\u001B[43m,\u001B[49m\u001B[43m \u001B[49m\u001B[38;5;241;43m3\u001B[39;49m\u001B[43m)\u001B[49m\n",
      "Cell \u001B[0;32mIn[15], line 2\u001B[0m, in \u001B[0;36mmysumnum\u001B[0;34m(num1, num2)\u001B[0m\n\u001B[1;32m      1\u001B[0m \u001B[38;5;28;01mdef\u001B[39;00m \u001B[38;5;21mmysumnum\u001B[39m(num1: \u001B[38;5;28mint\u001B[39m , num2: \u001B[38;5;28mint\u001B[39m ):\n\u001B[0;32m----> 2\u001B[0m     res \u001B[38;5;241m=\u001B[39m \u001B[43mnum1\u001B[49m\u001B[43m \u001B[49m\u001B[38;5;241;43m+\u001B[39;49m\u001B[43m \u001B[49m\u001B[43mnum2\u001B[49m \n\u001B[1;32m      3\u001B[0m     \u001B[38;5;28mprint\u001B[39m(\u001B[38;5;124mf\u001B[39m\u001B[38;5;124m\"\u001B[39m\u001B[38;5;124mres = \u001B[39m\u001B[38;5;132;01m{\u001B[39;00mres\u001B[38;5;132;01m}\u001B[39;00m\u001B[38;5;124m\"\u001B[39m)\n",
      "\u001B[0;31mTypeError\u001B[0m: can only concatenate str (not \"int\") to str"
     ]
    }
   ],
   "execution_count": 18
  },
  {
   "metadata": {},
   "cell_type": "markdown",
   "source": [
    "<p style='color:orange'>\n",
    "we are loosley dynamically typed lang. --> interpreter detect \n",
    "datatype in the run time ?? \n",
    "sorry you cannot restrict data \n",
    "</p> \n",
    "\n",
    "<pre> \n",
    "    using the below syntax is for documenation purpose only \n",
    "    def mysumnum(num1: <span style='color:red'> int</span> , num2: <span style='color:red'> int</span>):\n",
    "        res = num1 + num2 \n",
    "        print(f\"res = {res}\")\n",
    "\n",
    "</pre>\n",
    "<img src=\"names.jpeg\" width='200' height='200'>"
   ],
   "id": "916f07e9745457c1"
  },
  {
   "metadata": {
    "ExecuteTime": {
     "end_time": "2024-11-16T09:47:42.438203Z",
     "start_time": "2024-11-16T09:47:42.434554Z"
    }
   },
   "cell_type": "code",
   "source": [
    "# if you need to make sure that the arguments must be from specific do it on your own \n",
    "\n",
    "def mysumnum(num1: int , num2: int ):\n",
    "    if type(num1)== int and type(num2)== int:\n",
    "        res = num1 + num2\n",
    "        print(f\"res = {res}\")\n",
    "        \n",
    "    else:\n",
    "        print(\"---- num1 , num2 must be int \")\n",
    "        "
   ],
   "id": "286e177f025fee5c",
   "outputs": [],
   "execution_count": 19
  },
  {
   "metadata": {
    "ExecuteTime": {
     "end_time": "2024-11-16T09:47:48.903549Z",
     "start_time": "2024-11-16T09:47:48.889909Z"
    }
   },
   "cell_type": "code",
   "source": "mysumnum(10, 20)",
   "id": "9959db3995f41b4b",
   "outputs": [
    {
     "name": "stdout",
     "output_type": "stream",
     "text": [
      "res = 30\n"
     ]
    }
   ],
   "execution_count": 20
  },
  {
   "metadata": {
    "ExecuteTime": {
     "end_time": "2024-11-16T09:47:52.062036Z",
     "start_time": "2024-11-16T09:47:52.048896Z"
    }
   },
   "cell_type": "code",
   "source": "mysumnum('abc', 3)",
   "id": "9b3c184797dec84e",
   "outputs": [
    {
     "name": "stdout",
     "output_type": "stream",
     "text": [
      "---- num1 , num2 must be int \n"
     ]
    }
   ],
   "execution_count": 21
  },
  {
   "metadata": {},
   "cell_type": "markdown",
   "source": "",
   "id": "2eb35bfc3a8cd6a1"
  },
  {
   "metadata": {
    "ExecuteTime": {
     "end_time": "2024-11-16T09:49:00.431884Z",
     "start_time": "2024-11-16T09:49:00.418304Z"
    }
   },
   "cell_type": "code",
   "source": [
    "def sumnumm(num1, num2):\n",
    "    res = num1 + num2 \n",
    "    print(res)\n",
    "    \n",
    "sumnumm(\"10\",\"20\")"
   ],
   "id": "2acf5598fafd762e",
   "outputs": [
    {
     "name": "stdout",
     "output_type": "stream",
     "text": [
      "1020\n"
     ]
    }
   ],
   "execution_count": 22
  },
  {
   "metadata": {},
   "cell_type": "markdown",
   "source": "<h2> isinstance(variable , datatype) <span style='color:green'> return true if vairable is instance from the datatype </span>  </h2>",
   "id": "8187c653cfce7254"
  },
  {
   "metadata": {
    "ExecuteTime": {
     "end_time": "2024-11-16T09:50:33.005288Z",
     "start_time": "2024-11-16T09:50:33.001116Z"
    }
   },
   "cell_type": "code",
   "source": "print(isinstance('noha', str))",
   "id": "538b31fc3ce1c188",
   "outputs": [
    {
     "name": "stdout",
     "output_type": "stream",
     "text": [
      "True\n"
     ]
    }
   ],
   "execution_count": 23
  },
  {
   "metadata": {
    "ExecuteTime": {
     "end_time": "2024-11-16T09:50:50.953996Z",
     "start_time": "2024-11-16T09:50:50.940Z"
    }
   },
   "cell_type": "code",
   "source": "print(isinstance(\"2314\", int))",
   "id": "df6adb8171eefe19",
   "outputs": [
    {
     "name": "stdout",
     "output_type": "stream",
     "text": [
      "False\n"
     ]
    }
   ],
   "execution_count": 24
  },
  {
   "metadata": {},
   "cell_type": "code",
   "outputs": [],
   "execution_count": null,
   "source": [
    "def summnum(num1, num2):\n",
    "    if isinstance(num1, int) and isinstance(num2, int):\n",
    "        res = num1 + num2\n",
    "        print(f\"res = {res}\")\n",
    "        return res\n",
    "    print('---- num1, num2 must be integer ')"
   ],
   "id": "2991bbf800578c71"
  },
  {
   "metadata": {},
   "cell_type": "markdown",
   "source": "",
   "id": "499c364f0b95b7ad"
  },
  {
   "metadata": {},
   "cell_type": "markdown",
   "source": "# <p style=\"padding:10px;background-color:purple;margin:0;color:white;font-family:newtimeroman;font-size:150%;text-align:center;border-radius: 15px 50px;overflow:hidden;font-weight:500\"> functions with optional [default] arguments</p>",
   "id": "55b379c024ea668e"
  },
  {
   "metadata": {
    "ExecuteTime": {
     "end_time": "2024-11-16T09:53:09.784075Z",
     "start_time": "2024-11-16T09:53:09.780055Z"
    }
   },
   "cell_type": "code",
   "source": [
    "def mulnum(num1, num2):\n",
    "    print(num1 * num2)\n",
    "\n",
    "mulnum(10,20)"
   ],
   "id": "74a098b6e9d86a50",
   "outputs": [
    {
     "name": "stdout",
     "output_type": "stream",
     "text": [
      "200\n"
     ]
    }
   ],
   "execution_count": 25
  },
  {
   "metadata": {
    "ExecuteTime": {
     "end_time": "2024-11-16T09:53:14.581916Z",
     "start_time": "2024-11-16T09:53:14.511376Z"
    }
   },
   "cell_type": "code",
   "source": "mulnum(3)",
   "id": "54ddc0c3ee482508",
   "outputs": [
    {
     "ename": "TypeError",
     "evalue": "mulnum() missing 1 required positional argument: 'num2'",
     "output_type": "error",
     "traceback": [
      "\u001B[0;31m---------------------------------------------------------------------------\u001B[0m",
      "\u001B[0;31mTypeError\u001B[0m                                 Traceback (most recent call last)",
      "Cell \u001B[0;32mIn[26], line 1\u001B[0m\n\u001B[0;32m----> 1\u001B[0m \u001B[43mmulnum\u001B[49m\u001B[43m(\u001B[49m\u001B[38;5;241;43m3\u001B[39;49m\u001B[43m)\u001B[49m\n",
      "\u001B[0;31mTypeError\u001B[0m: mulnum() missing 1 required positional argument: 'num2'"
     ]
    }
   ],
   "execution_count": 26
  },
  {
   "metadata": {
    "ExecuteTime": {
     "end_time": "2024-11-16T09:55:06.336181Z",
     "start_time": "2024-11-16T09:55:06.329780Z"
    }
   },
   "cell_type": "code",
   "source": [
    "def mulnum(num1, num2=5):\n",
    "    print(f\"num1 ={num1}, num2 ={num2}\")\n",
    "    print(num1 * num2)\n",
    "    print(\"-------------------------------------------\")\n",
    "\n",
    "mulnum(10,20)\n",
    "mulnum(3)\n"
   ],
   "id": "58fd70dabc305823",
   "outputs": [
    {
     "name": "stdout",
     "output_type": "stream",
     "text": [
      "num1 =10, num2 =20\n",
      "200\n",
      "-------------------------------------------\n",
      "num1 =3, num2 =5\n",
      "15\n",
      "-------------------------------------------\n"
     ]
    }
   ],
   "execution_count": 27
  },
  {
   "metadata": {
    "ExecuteTime": {
     "end_time": "2024-11-16T09:55:51.344050Z",
     "start_time": "2024-11-16T09:55:51.330708Z"
    }
   },
   "cell_type": "code",
   "source": [
    "print(3,5,3)\n",
    "print('----------------------')"
   ],
   "id": "1560ab6b8046277e",
   "outputs": [
    {
     "name": "stdout",
     "output_type": "stream",
     "text": [
      "3 5 3\n",
      "----------------------\n"
     ]
    }
   ],
   "execution_count": 29
  },
  {
   "metadata": {
    "ExecuteTime": {
     "end_time": "2024-11-16T09:57:24.913828Z",
     "start_time": "2024-11-16T09:57:24.909338Z"
    }
   },
   "cell_type": "code",
   "source": "print(2,34,5, sep='&')",
   "id": "32ae83902be6117b",
   "outputs": [
    {
     "name": "stdout",
     "output_type": "stream",
     "text": [
      "2&34&5\n"
     ]
    }
   ],
   "execution_count": 31
  },
  {
   "metadata": {
    "ExecuteTime": {
     "end_time": "2024-11-16T09:57:41.211070Z",
     "start_time": "2024-11-16T09:57:41.206920Z"
    }
   },
   "cell_type": "code",
   "source": [
    "print('abbass')\n",
    "print(\"Fernas\")"
   ],
   "id": "46873b8eacd504e8",
   "outputs": [
    {
     "name": "stdout",
     "output_type": "stream",
     "text": [
      "abbass\n",
      "Fernas\n"
     ]
    }
   ],
   "execution_count": 32
  },
  {
   "metadata": {
    "ExecuteTime": {
     "end_time": "2024-11-16T09:57:57.938765Z",
     "start_time": "2024-11-16T09:57:57.933777Z"
    }
   },
   "cell_type": "code",
   "source": [
    "print('abbass', end='+')\n",
    "print(\"Fernas\")"
   ],
   "id": "2b9b8d9b23293e5f",
   "outputs": [
    {
     "name": "stdout",
     "output_type": "stream",
     "text": [
      "abbass+Fernas\n"
     ]
    }
   ],
   "execution_count": 33
  },
  {
   "metadata": {
    "ExecuteTime": {
     "end_time": "2024-11-16T10:00:28.586918Z",
     "start_time": "2024-11-16T10:00:28.573011Z"
    }
   },
   "cell_type": "code",
   "source": [
    "def abcc(num1=10, num2):\n",
    "    print(num1, num2)"
   ],
   "id": "887f1abd014da37d",
   "outputs": [
    {
     "ename": "SyntaxError",
     "evalue": "parameter without a default follows parameter with a default (3985289921.py, line 1)",
     "output_type": "error",
     "traceback": [
      "\u001B[0;36m  Cell \u001B[0;32mIn[34], line 1\u001B[0;36m\u001B[0m\n\u001B[0;31m    def abcc(num1=10, num2):\u001B[0m\n\u001B[0m                      ^\u001B[0m\n\u001B[0;31mSyntaxError\u001B[0m\u001B[0;31m:\u001B[0m parameter without a default follows parameter with a default\n"
     ]
    }
   ],
   "execution_count": 34
  },
  {
   "metadata": {
    "ExecuteTime": {
     "end_time": "2024-11-16T10:01:59.928365Z",
     "start_time": "2024-11-16T10:01:59.925132Z"
    }
   },
   "cell_type": "code",
   "source": [
    "def summnumm(num1=10, num2=10):\n",
    "    print(num1 + num2 )"
   ],
   "id": "6dd50093591835bd",
   "outputs": [],
   "execution_count": 35
  },
  {
   "metadata": {
    "ExecuteTime": {
     "end_time": "2024-11-16T10:02:21.375473Z",
     "start_time": "2024-11-16T10:02:21.357828Z"
    }
   },
   "cell_type": "code",
   "source": [
    "def mmm(num1, num2):\n",
    "    print(num1 , num2)\n",
    "    \n",
    "mmm(13,123,133)"
   ],
   "id": "24b68516fef61b1",
   "outputs": [
    {
     "ename": "TypeError",
     "evalue": "mmm() takes 2 positional arguments but 3 were given",
     "output_type": "error",
     "traceback": [
      "\u001B[0;31m---------------------------------------------------------------------------\u001B[0m",
      "\u001B[0;31mTypeError\u001B[0m                                 Traceback (most recent call last)",
      "Cell \u001B[0;32mIn[37], line 4\u001B[0m\n\u001B[1;32m      1\u001B[0m \u001B[38;5;28;01mdef\u001B[39;00m \u001B[38;5;21mmmm\u001B[39m(num1, num2):\n\u001B[1;32m      2\u001B[0m     \u001B[38;5;28mprint\u001B[39m(num1 , num2)\n\u001B[0;32m----> 4\u001B[0m \u001B[43mmmm\u001B[49m\u001B[43m(\u001B[49m\u001B[38;5;241;43m13\u001B[39;49m\u001B[43m,\u001B[49m\u001B[38;5;241;43m123\u001B[39;49m\u001B[43m,\u001B[49m\u001B[38;5;241;43m133\u001B[39;49m\u001B[43m)\u001B[49m\n",
      "\u001B[0;31mTypeError\u001B[0m: mmm() takes 2 positional arguments but 3 were given"
     ]
    }
   ],
   "execution_count": 37
  },
  {
   "metadata": {},
   "cell_type": "markdown",
   "source": "# <p style=\"padding:10px;background-color:brown;margin:0;color:white;font-family:newtimeroman;font-size:150%;text-align:center;border-radius: 15px 50px;overflow:hidden;font-weight:500\"> functions with variable number of arguments [zero or more ]</p>\n",
   "id": "b70a547e3888367a"
  },
  {
   "metadata": {
    "ExecuteTime": {
     "end_time": "2024-11-16T10:05:56.244111Z",
     "start_time": "2024-11-16T10:05:56.240093Z"
    }
   },
   "cell_type": "code",
   "source": [
    "print(\"abbass\", 2323, 3234.4, 12324, 38992,\"jhjkrhsfh\")\n",
    "\n",
    "\n",
    "def askfornums(*nums):  # *nums - -> this function accept zero or more arguments \n",
    "    print(nums, type(nums))\n",
    "    \n",
    "askfornums()\n",
    "askfornums(1000)\n",
    "askfornums(10, 23, 3124, 3124, \"dassf\", \"Asff\")"
   ],
   "id": "4ad86d893d3919f1",
   "outputs": [
    {
     "name": "stdout",
     "output_type": "stream",
     "text": [
      "abbass 2323 3234.4 12324 38992 jhjkrhsfh\n",
      "() <class 'tuple'>\n",
      "(1000,) <class 'tuple'>\n",
      "(10, 23, 3124, 3124, 'dassf', 'Asff') <class 'tuple'>\n"
     ]
    }
   ],
   "execution_count": 40
  },
  {
   "metadata": {
    "ExecuteTime": {
     "end_time": "2024-11-16T10:08:24.010708Z",
     "start_time": "2024-11-16T10:08:24.005576Z"
    }
   },
   "cell_type": "code",
   "source": [
    "temp = \"My name is {0} I works at {1}\"\n",
    "print(temp.format(\"abc\", \"qweqe\"))"
   ],
   "id": "93060802426596cd",
   "outputs": [
    {
     "name": "stdout",
     "output_type": "stream",
     "text": [
      "My name is abc I works at qweqe\n"
     ]
    }
   ],
   "execution_count": 41
  },
  {
   "metadata": {},
   "cell_type": "code",
   "outputs": [],
   "execution_count": null,
   "source": [
    "temp = \"My name is {anyword1} I works at {anyword2}\"\n",
    "print(temp.format(anyword1=\"sa\", anyword2=\"s\"))"
   ],
   "id": "bc5314e4ff70bac9"
  },
  {
   "metadata": {},
   "cell_type": "markdown",
   "source": "# <p style=\"padding:10px;background-color:darkred;margin:0;color:white;font-family:newtimeroman;font-size:150%;text-align:center;border-radius: 15px 50px;overflow:hidden;font-weight:500\"> functions with variable number of keyword arguments [zero or more ]</p>",
   "id": "21116435396a55e"
  },
  {
   "metadata": {
    "ExecuteTime": {
     "end_time": "2024-11-16T10:11:12.027993Z",
     "start_time": "2024-11-16T10:11:11.959911Z"
    }
   },
   "cell_type": "code",
   "source": [
    "def introduceyourself(info):\n",
    "    print(info)\n",
    "    \n",
    "introduceyourself(name='ahmed')\n",
    "introduceyourself(info='Eng.', name='abbass')\n",
    "introduceyourself()"
   ],
   "id": "5143b6c90b604353",
   "outputs": [
    {
     "ename": "TypeError",
     "evalue": "introduceyourself() got an unexpected keyword argument 'name'",
     "output_type": "error",
     "traceback": [
      "\u001B[0;31m---------------------------------------------------------------------------\u001B[0m",
      "\u001B[0;31mTypeError\u001B[0m                                 Traceback (most recent call last)",
      "Cell \u001B[0;32mIn[42], line 4\u001B[0m\n\u001B[1;32m      1\u001B[0m \u001B[38;5;28;01mdef\u001B[39;00m \u001B[38;5;21mintroduceyourself\u001B[39m(info):\n\u001B[1;32m      2\u001B[0m     \u001B[38;5;28mprint\u001B[39m(info)\n\u001B[0;32m----> 4\u001B[0m \u001B[43mintroduceyourself\u001B[49m\u001B[43m(\u001B[49m\u001B[43mname\u001B[49m\u001B[38;5;241;43m=\u001B[39;49m\u001B[38;5;124;43m'\u001B[39;49m\u001B[38;5;124;43mahmed\u001B[39;49m\u001B[38;5;124;43m'\u001B[39;49m\u001B[43m)\u001B[49m\n\u001B[1;32m      5\u001B[0m introduceyourself(info\u001B[38;5;241m=\u001B[39m\u001B[38;5;124m'\u001B[39m\u001B[38;5;124mEng.\u001B[39m\u001B[38;5;124m'\u001B[39m, name\u001B[38;5;241m=\u001B[39m\u001B[38;5;124m'\u001B[39m\u001B[38;5;124mabbass\u001B[39m\u001B[38;5;124m'\u001B[39m)\n\u001B[1;32m      6\u001B[0m introduceyourself()\n",
      "\u001B[0;31mTypeError\u001B[0m: introduceyourself() got an unexpected keyword argument 'name'"
     ]
    }
   ],
   "execution_count": 42
  },
  {
   "metadata": {
    "ExecuteTime": {
     "end_time": "2024-11-16T10:11:20.202702Z",
     "start_time": "2024-11-16T10:11:20.174053Z"
    }
   },
   "cell_type": "code",
   "source": [
    "def introduceyourself(*info):\n",
    "    print(info)\n",
    "    \n",
    "introduceyourself(name='ahmed')\n",
    "introduceyourself(info='Eng.', name='abbass')\n",
    "introduceyourself()"
   ],
   "id": "fa61c6518c00e536",
   "outputs": [
    {
     "ename": "TypeError",
     "evalue": "introduceyourself() got an unexpected keyword argument 'name'",
     "output_type": "error",
     "traceback": [
      "\u001B[0;31m---------------------------------------------------------------------------\u001B[0m",
      "\u001B[0;31mTypeError\u001B[0m                                 Traceback (most recent call last)",
      "Cell \u001B[0;32mIn[43], line 4\u001B[0m\n\u001B[1;32m      1\u001B[0m \u001B[38;5;28;01mdef\u001B[39;00m \u001B[38;5;21mintroduceyourself\u001B[39m(\u001B[38;5;241m*\u001B[39minfo):\n\u001B[1;32m      2\u001B[0m     \u001B[38;5;28mprint\u001B[39m(info)\n\u001B[0;32m----> 4\u001B[0m \u001B[43mintroduceyourself\u001B[49m\u001B[43m(\u001B[49m\u001B[43mname\u001B[49m\u001B[38;5;241;43m=\u001B[39;49m\u001B[38;5;124;43m'\u001B[39;49m\u001B[38;5;124;43mahmed\u001B[39;49m\u001B[38;5;124;43m'\u001B[39;49m\u001B[43m)\u001B[49m\n\u001B[1;32m      5\u001B[0m introduceyourself(info\u001B[38;5;241m=\u001B[39m\u001B[38;5;124m'\u001B[39m\u001B[38;5;124mEng.\u001B[39m\u001B[38;5;124m'\u001B[39m, name\u001B[38;5;241m=\u001B[39m\u001B[38;5;124m'\u001B[39m\u001B[38;5;124mabbass\u001B[39m\u001B[38;5;124m'\u001B[39m)\n\u001B[1;32m      6\u001B[0m introduceyourself()\n",
      "\u001B[0;31mTypeError\u001B[0m: introduceyourself() got an unexpected keyword argument 'name'"
     ]
    }
   ],
   "execution_count": 43
  },
  {
   "metadata": {
    "ExecuteTime": {
     "end_time": "2024-11-16T10:11:42.118840Z",
     "start_time": "2024-11-16T10:11:42.111682Z"
    }
   },
   "cell_type": "code",
   "source": [
    "def introduceyourself(**info): # accept zero or more --> keyword arguments.\n",
    "    print(info)  # dict \n",
    "    \n",
    "introduceyourself(name='ahmed')\n",
    "introduceyourself(info='Eng.', name='abbass')\n",
    "introduceyourself()"
   ],
   "id": "9ba4483589d9fafd",
   "outputs": [
    {
     "name": "stdout",
     "output_type": "stream",
     "text": [
      "{'name': 'ahmed'}\n",
      "{'info': 'Eng.', 'name': 'abbass'}\n",
      "{}\n"
     ]
    }
   ],
   "execution_count": 44
  },
  {
   "metadata": {
    "ExecuteTime": {
     "end_time": "2024-11-16T10:16:05.667149Z",
     "start_time": "2024-11-16T10:16:05.663159Z"
    }
   },
   "cell_type": "code",
   "source": [
    "def myfun(** kwargs):\n",
    "    print(kwargs)\n",
    "    if \"name\" in kwargs:\n",
    "        print(f\"Welcome {kwargs['name']}\")\n",
    "        \n",
    "myfun(track='ai')"
   ],
   "id": "fc258a53a3859bca",
   "outputs": [
    {
     "name": "stdout",
     "output_type": "stream",
     "text": [
      "{'track': 'ai'}\n"
     ]
    }
   ],
   "execution_count": 45
  },
  {
   "metadata": {
    "ExecuteTime": {
     "end_time": "2024-11-16T10:16:23.513244Z",
     "start_time": "2024-11-16T10:16:23.500089Z"
    }
   },
   "cell_type": "code",
   "source": "myfun(age=133,name='noha')",
   "id": "76eb3d4a1b246340",
   "outputs": [
    {
     "name": "stdout",
     "output_type": "stream",
     "text": [
      "{'age': 133, 'name': 'noha'}\n",
      "Welcome noha\n"
     ]
    }
   ],
   "execution_count": 46
  },
  {
   "metadata": {},
   "cell_type": "code",
   "outputs": [],
   "execution_count": null,
   "source": "",
   "id": "5cd77f201e3077d7"
  }
 ],
 "metadata": {
  "kernelspec": {
   "display_name": "Python 3",
   "language": "python",
   "name": "python3"
  },
  "language_info": {
   "codemirror_mode": {
    "name": "ipython",
    "version": 2
   },
   "file_extension": ".py",
   "mimetype": "text/x-python",
   "name": "python",
   "nbconvert_exporter": "python",
   "pygments_lexer": "ipython2",
   "version": "2.7.6"
  }
 },
 "nbformat": 4,
 "nbformat_minor": 5
}
