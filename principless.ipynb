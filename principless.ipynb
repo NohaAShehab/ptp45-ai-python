{
 "cells": [
  {
   "cell_type": "code",
   "id": "initial_id",
   "metadata": {
    "collapsed": true,
    "ExecuteTime": {
     "end_time": "2024-11-21T09:18:14.505378Z",
     "start_time": "2024-11-21T09:18:14.501319Z"
    }
   },
   "source": [
    "\n",
    "class Course:\n",
    "    pass \n",
    "\n",
    "c = Course()\n",
    "print(isinstance(c, Course))"
   ],
   "outputs": [
    {
     "name": "stdout",
     "output_type": "stream",
     "text": [
      "True\n"
     ]
    }
   ],
   "execution_count": 1
  },
  {
   "metadata": {
    "ExecuteTime": {
     "end_time": "2024-11-21T09:18:30.188148Z",
     "start_time": "2024-11-21T09:18:30.173463Z"
    }
   },
   "cell_type": "code",
   "source": "print(isinstance(c, object))",
   "id": "158765c0053c796d",
   "outputs": [
    {
     "name": "stdout",
     "output_type": "stream",
     "text": [
      "True\n"
     ]
    }
   ],
   "execution_count": 2
  },
  {
   "metadata": {
    "ExecuteTime": {
     "end_time": "2024-11-21T09:18:47.785037Z",
     "start_time": "2024-11-21T09:18:47.777098Z"
    }
   },
   "cell_type": "code",
   "source": "print(c.__dict__)",
   "id": "a05f4deec91e28f2",
   "outputs": [
    {
     "name": "stdout",
     "output_type": "stream",
     "text": [
      "{}\n"
     ]
    }
   ],
   "execution_count": 3
  },
  {
   "metadata": {},
   "cell_type": "markdown",
   "source": [
    "# <p style=\"padding:10px;background-color:#e5855c;margin:0;color:white;font-family:newtimeroman;font-size:150%;text-align:center;border-radius: 15px 50px;overflow:hidden;font-weight:500\">Inheritance</p>\n",
    "<img src=\"inheritance.png\">"
   ],
   "id": "e4bb32fa9fd54fd"
  },
  {
   "metadata": {
    "ExecuteTime": {
     "end_time": "2024-11-21T09:27:15.766934Z",
     "start_time": "2024-11-21T09:27:15.755751Z"
    }
   },
   "cell_type": "code",
   "source": [
    "class Shape:\n",
    "    pass \n",
    "\n",
    "class Square(Shape):\n",
    "    pass\n",
    "\n",
    "a = Square()\n",
    "print(isinstance(a, Shape))"
   ],
   "id": "bb97187e46ded2e9",
   "outputs": [
    {
     "name": "stdout",
     "output_type": "stream",
     "text": [
      "True\n"
     ]
    }
   ],
   "execution_count": 4
  },
  {
   "metadata": {
    "ExecuteTime": {
     "end_time": "2024-11-21T09:29:55.398274Z",
     "start_time": "2024-11-21T09:29:55.335946Z"
    }
   },
   "cell_type": "code",
   "source": [
    "class Shape:\n",
    "    def __init__(self, name):\n",
    "        print('Shape constructor is called')\n",
    "        self.name = name\n",
    "        \n",
    "    def cal_area(self):\n",
    "        print(f\"{self.name} area = \")\n",
    "\n",
    "class Square(Shape):\n",
    "    pass\n",
    "\n",
    "newsquare = Square()"
   ],
   "id": "5eac03fb6bfd3131",
   "outputs": [
    {
     "ename": "TypeError",
     "evalue": "Shape.__init__() missing 1 required positional argument: 'name'",
     "output_type": "error",
     "traceback": [
      "\u001B[0;31m---------------------------------------------------------------------------\u001B[0m",
      "\u001B[0;31mTypeError\u001B[0m                                 Traceback (most recent call last)",
      "Cell \u001B[0;32mIn[6], line 12\u001B[0m\n\u001B[1;32m      9\u001B[0m \u001B[38;5;28;01mclass\u001B[39;00m \u001B[38;5;21;01mSquare\u001B[39;00m(Shape):\n\u001B[1;32m     10\u001B[0m     \u001B[38;5;28;01mpass\u001B[39;00m\n\u001B[0;32m---> 12\u001B[0m newsquare \u001B[38;5;241m=\u001B[39m \u001B[43mSquare\u001B[49m\u001B[43m(\u001B[49m\u001B[43m)\u001B[49m\n",
      "\u001B[0;31mTypeError\u001B[0m: Shape.__init__() missing 1 required positional argument: 'name'"
     ]
    }
   ],
   "execution_count": 6
  },
  {
   "metadata": {
    "ExecuteTime": {
     "end_time": "2024-11-21T09:29:58.149831Z",
     "start_time": "2024-11-21T09:29:58.139868Z"
    }
   },
   "cell_type": "code",
   "source": "newsquare2 = Square(\"s1\")",
   "id": "77abc1b85f60ee7b",
   "outputs": [
    {
     "name": "stdout",
     "output_type": "stream",
     "text": [
      "Shape constructor is called\n"
     ]
    }
   ],
   "execution_count": 7
  },
  {
   "metadata": {
    "ExecuteTime": {
     "end_time": "2024-11-21T09:30:17.985001Z",
     "start_time": "2024-11-21T09:30:17.966425Z"
    }
   },
   "cell_type": "code",
   "source": "newsquare2.cal_area()",
   "id": "f8a15804c04bd928",
   "outputs": [
    {
     "name": "stdout",
     "output_type": "stream",
     "text": [
      "s1 area = \n"
     ]
    }
   ],
   "execution_count": 8
  },
  {
   "metadata": {},
   "cell_type": "markdown",
   "source": "# we need to customize square ",
   "id": "e35b8caad8a7ca72"
  },
  {
   "metadata": {
    "ExecuteTime": {
     "end_time": "2024-11-21T09:31:49.696763Z",
     "start_time": "2024-11-21T09:31:49.656361Z"
    }
   },
   "cell_type": "code",
   "source": [
    "class Shape:\n",
    "    def __init__(self, name):\n",
    "        print('Shape constructor is called')\n",
    "        self.name = name\n",
    "        \n",
    "    def cal_area(self):\n",
    "        print(f\"{self.name} area = \")\n",
    "\n",
    "class Square(Shape):\n",
    "    def __init__(self, length):\n",
    "        self.length = length\n",
    "        \n",
    "\n",
    "news = Square(5)\n",
    "print(news.__dict__)\n",
    "news.cal_area()"
   ],
   "id": "fb6523724f4a228b",
   "outputs": [
    {
     "name": "stdout",
     "output_type": "stream",
     "text": [
      "{'length': 5}\n"
     ]
    },
    {
     "ename": "AttributeError",
     "evalue": "'Square' object has no attribute 'name'",
     "output_type": "error",
     "traceback": [
      "\u001B[0;31m---------------------------------------------------------------------------\u001B[0m",
      "\u001B[0;31mAttributeError\u001B[0m                            Traceback (most recent call last)",
      "Cell \u001B[0;32mIn[11], line 16\u001B[0m\n\u001B[1;32m     14\u001B[0m news \u001B[38;5;241m=\u001B[39m Square(\u001B[38;5;241m5\u001B[39m)\n\u001B[1;32m     15\u001B[0m \u001B[38;5;28mprint\u001B[39m(news\u001B[38;5;241m.\u001B[39m\u001B[38;5;18m__dict__\u001B[39m)\n\u001B[0;32m---> 16\u001B[0m \u001B[43mnews\u001B[49m\u001B[38;5;241;43m.\u001B[39;49m\u001B[43mcal_area\u001B[49m\u001B[43m(\u001B[49m\u001B[43m)\u001B[49m\n",
      "Cell \u001B[0;32mIn[11], line 7\u001B[0m, in \u001B[0;36mShape.cal_area\u001B[0;34m(self)\u001B[0m\n\u001B[1;32m      6\u001B[0m \u001B[38;5;28;01mdef\u001B[39;00m \u001B[38;5;21mcal_area\u001B[39m(\u001B[38;5;28mself\u001B[39m):\n\u001B[0;32m----> 7\u001B[0m     \u001B[38;5;28mprint\u001B[39m(\u001B[38;5;124mf\u001B[39m\u001B[38;5;124m\"\u001B[39m\u001B[38;5;132;01m{\u001B[39;00m\u001B[38;5;28;43mself\u001B[39;49m\u001B[38;5;241;43m.\u001B[39;49m\u001B[43mname\u001B[49m\u001B[38;5;132;01m}\u001B[39;00m\u001B[38;5;124m area = \u001B[39m\u001B[38;5;124m\"\u001B[39m)\n",
      "\u001B[0;31mAttributeError\u001B[0m: 'Square' object has no attribute 'name'"
     ]
    }
   ],
   "execution_count": 11
  },
  {
   "metadata": {},
   "cell_type": "markdown",
   "source": "# I need to explicitly ask the child class to call the parent class constructor ",
   "id": "fe21c0141d9054ed"
  },
  {
   "metadata": {
    "ExecuteTime": {
     "end_time": "2024-11-21T09:34:57.109065Z",
     "start_time": "2024-11-21T09:34:57.084828Z"
    }
   },
   "cell_type": "code",
   "source": [
    "class Shape:\n",
    "    def __init__(self, name):\n",
    "        print('Shape constructor is called')\n",
    "        self.name = name\n",
    "        \n",
    "    def cal_area(self):\n",
    "        print(f\"{self.name} area = \")\n",
    "\n",
    "class Square(Shape):\n",
    "    def __init__(self,name, length):\n",
    "        super().__init__(name)  # call parent constructor \n",
    "        self.length = length\n",
    "        \n",
    "ss = Square(\"s1\",5)\n",
    "print(ss.__dict__)\n",
    "ss.cal_area()\n",
    "\n"
   ],
   "id": "f0cbb9f4a9d0344",
   "outputs": [
    {
     "name": "stdout",
     "output_type": "stream",
     "text": [
      "Shape constructor is called\n",
      "{'name': 's1', 'length': 5}\n",
      "s1 area = \n"
     ]
    }
   ],
   "execution_count": 12
  },
  {
   "metadata": {},
   "cell_type": "markdown",
   "source": "# add extra functionality to the child ",
   "id": "83709f67e877b87f"
  },
  {
   "metadata": {
    "ExecuteTime": {
     "end_time": "2024-11-21T09:38:17.444106Z",
     "start_time": "2024-11-21T09:38:17.437605Z"
    }
   },
   "cell_type": "code",
   "source": [
    "class Shape:\n",
    "    def __init__(self, name):\n",
    "        print('Shape constructor is called')\n",
    "        self.name = name\n",
    "        \n",
    "    def cal_area(self):\n",
    "        print(f\"{self.name} area = \")\n",
    "\n",
    "class Square(Shape):\n",
    "    def __init__(self,name, length):\n",
    "        # super().__init__(name)  # call parent constructor \n",
    "        super(Square, self).__init__(name)\n",
    "        self.length = length\n",
    "        \n",
    "    def printSquare(self):  # self represent the square object \n",
    "        print(f\"I am a square with name {self.name} and length {self.length}\")\n",
    "        \n",
    "        \n",
    "ss = Square(\"s1\",5)\n",
    "ss.printSquare()\n",
    "ss.cal_area()"
   ],
   "id": "f43a514d75d4f9e8",
   "outputs": [
    {
     "name": "stdout",
     "output_type": "stream",
     "text": [
      "Shape constructor is called\n",
      "I am a square with name s1 and length 5\n",
      "s1 area = \n"
     ]
    }
   ],
   "execution_count": 15
  },
  {
   "metadata": {},
   "cell_type": "markdown",
   "source": "# I need to modify behaviour of calarea function ??",
   "id": "dd51a1b980544726"
  },
  {
   "metadata": {
    "ExecuteTime": {
     "end_time": "2024-11-21T09:42:24.121073Z",
     "start_time": "2024-11-21T09:42:24.095008Z"
    }
   },
   "cell_type": "code",
   "source": [
    "class Shape:\n",
    "    def __init__(self, name):\n",
    "        print('Shape constructor is called')\n",
    "        self.name = name\n",
    "        \n",
    "    def cal_area(self):\n",
    "        print(f\"{self.name} area = \")\n",
    "\n",
    "class Square(Shape):\n",
    "    def __init__(self,name, length):\n",
    "        # super().__init__(name)  # call parent constructor \n",
    "        super(Square, self).__init__(name)\n",
    "        self.length = length\n",
    "        \n",
    "    def printSquare(self):  # self represent the square object \n",
    "        print(f\"I am a square with name {self.name} and length {self.length}\")\n",
    "        \n",
    "    def cal_area(self):\n",
    "        # call parent area\n",
    "        super().cal_area()\n",
    "        print(f\"area = {self.length ** 2}\")\n",
    "        \n",
    "s = Square(\"s1\",5)\n",
    "s.cal_area()"
   ],
   "id": "b277845004998c47",
   "outputs": [
    {
     "name": "stdout",
     "output_type": "stream",
     "text": [
      "Shape constructor is called\n",
      "s1 area = \n",
      "area = 25\n"
     ]
    }
   ],
   "execution_count": 17
  },
  {
   "metadata": {},
   "cell_type": "markdown",
   "source": [
    "# <p style=\"padding:10px;background-color:pink;margin:0;color:black;font-family:newtimeroman;font-size:150%;text-align:center;border-radius: 15px 50px;overflow:hidden;font-weight:500\">Multiple Inheritance</p>\n",
    "# class inherits from more than one parent at the same level"
   ],
   "id": "82712af01196ad85"
  },
  {
   "metadata": {
    "ExecuteTime": {
     "end_time": "2024-11-21T09:49:53.970504Z",
     "start_time": "2024-11-21T09:49:53.963295Z"
    }
   },
   "cell_type": "code",
   "source": [
    "class Engineer:\n",
    "    def __init__(self):\n",
    "        print(f\"I am an engineer\")\n",
    "        \n",
    "    \n",
    "class Teacher:\n",
    "    def __init__(self):\n",
    "        print(f\"I am a teacher\")\n",
    "        \n",
    "class Instructor(Engineer, Teacher):\n",
    "    pass \n",
    "\n",
    "pyinst= Instructor()\n"
   ],
   "id": "66c52526bd2b028d",
   "outputs": [
    {
     "name": "stdout",
     "output_type": "stream",
     "text": [
      "I am an engineer\n"
     ]
    }
   ],
   "execution_count": 18
  },
  {
   "metadata": {
    "ExecuteTime": {
     "end_time": "2024-11-21T09:51:07.065894Z",
     "start_time": "2024-11-21T09:51:07.046868Z"
    }
   },
   "cell_type": "code",
   "source": [
    "class Engineer:\n",
    "    def __init__(self):\n",
    "        print(f\"I am an engineer\")\n",
    "        \n",
    "    \n",
    "class Teacher:\n",
    "    def __init__(self):\n",
    "        print(f\"I am a teacher\")\n",
    "        \n",
    "class Instructor(Teacher, Engineer):\n",
    "    pass \n",
    "\n",
    "pyinst= Instructor()"
   ],
   "id": "3abe7123182cadc1",
   "outputs": [
    {
     "name": "stdout",
     "output_type": "stream",
     "text": [
      "I am a teacher\n"
     ]
    }
   ],
   "execution_count": 19
  },
  {
   "metadata": {
    "ExecuteTime": {
     "end_time": "2024-11-21T09:51:37.543691Z",
     "start_time": "2024-11-21T09:51:37.538635Z"
    }
   },
   "cell_type": "code",
   "source": [
    "class Engineer:\n",
    "    def __init__(self):\n",
    "        print(f\"I am an engineer\")\n",
    "        \n",
    "    \n",
    "class Teacher:\n",
    "    pass \n",
    "        \n",
    "class Instructor(Teacher, Engineer):\n",
    "    pass \n",
    "\n",
    "pyinst= Instructor()"
   ],
   "id": "ad8a4579c45ea08e",
   "outputs": [
    {
     "name": "stdout",
     "output_type": "stream",
     "text": [
      "I am an engineer\n"
     ]
    }
   ],
   "execution_count": 20
  },
  {
   "metadata": {
    "ExecuteTime": {
     "end_time": "2024-11-21T09:54:33.773986Z",
     "start_time": "2024-11-21T09:54:33.746188Z"
    }
   },
   "cell_type": "code",
   "source": [
    "class Engineer:\n",
    "    def __init__(self):\n",
    "        print(f\"I am an engineer\")\n",
    "        \n",
    "    def give_advices(self):\n",
    "        print(f\"I know all things so trust me \")\n",
    "class Teacher:\n",
    "    def __init__(self):\n",
    "        print(f\"I am a teacher\")\n",
    "    \n",
    "    def make_exams(self):\n",
    "        print(\"--- I can make different exams \")\n",
    "        \n",
    "class Instructor(Teacher, Engineer):\n",
    "    pass \n",
    "\n",
    "pyinst= Instructor()\n",
    "pyinst.give_advices()  # engineer\n",
    "pyinst.make_exams()\n",
    "\n"
   ],
   "id": "b27e5b42027aa581",
   "outputs": [
    {
     "name": "stdout",
     "output_type": "stream",
     "text": [
      "I am a teacher\n",
      "I know all things so trust me \n",
      "--- I can make different exams \n"
     ]
    }
   ],
   "execution_count": 21
  },
  {
   "metadata": {
    "ExecuteTime": {
     "end_time": "2024-11-21T09:57:26.142703Z",
     "start_time": "2024-11-21T09:57:26.134758Z"
    }
   },
   "cell_type": "code",
   "source": [
    "class Engineer:\n",
    "    def __init__(self):\n",
    "        print(f\"I am an engineer\")\n",
    "        \n",
    "    def give_advices(self):\n",
    "        print(f\"I know all things so trust me \")\n",
    "        \n",
    "class Teacher:\n",
    "    def __init__(self):\n",
    "        print(f\"I am a teacher\")\n",
    "    \n",
    "    def make_exams(self):\n",
    "        print(\"--- I can make different exams \")\n",
    "        \n",
    "class Instructor(Teacher, Engineer):\n",
    "    def __init__(self):\n",
    "        super().__init__()\n",
    "        # call Engineer init \n",
    "        # Engineer.__init__(self)\n",
    "        print(\"I am an instructor\")\n",
    "        \n",
    "inn = Instructor()\n",
    "inn.make_exams()\n",
    "inn.give_advices()"
   ],
   "id": "8293cf1510d3c5a3",
   "outputs": [
    {
     "name": "stdout",
     "output_type": "stream",
     "text": [
      "I am a teacher\n",
      "I am an instructor\n",
      "--- I can make different exams \n",
      "I know all things so trust me \n"
     ]
    }
   ],
   "execution_count": 23
  },
  {
   "metadata": {},
   "cell_type": "code",
   "outputs": [],
   "execution_count": null,
   "source": "",
   "id": "5c4c2984cde4a8e3"
  }
 ],
 "metadata": {
  "kernelspec": {
   "display_name": "Python 3",
   "language": "python",
   "name": "python3"
  },
  "language_info": {
   "codemirror_mode": {
    "name": "ipython",
    "version": 2
   },
   "file_extension": ".py",
   "mimetype": "text/x-python",
   "name": "python",
   "nbconvert_exporter": "python",
   "pygments_lexer": "ipython2",
   "version": "2.7.6"
  }
 },
 "nbformat": 4,
 "nbformat_minor": 5
}
