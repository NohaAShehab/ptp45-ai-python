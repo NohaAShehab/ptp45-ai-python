{
 "cells": [
  {
   "metadata": {},
   "cell_type": "markdown",
   "source": "# <p style=\"padding:10px;background-color:coral;margin:0;color:white;font-family:newtimeroman;font-size:150%;text-align:center;border-radius: 15px 50px;overflow:hidden;font-weight:500\"> Scopes</p>\n",
   "id": "190a9dc1d1b4136b"
  },
  {
   "metadata": {},
   "cell_type": "markdown",
   "source": "# global scope ",
   "id": "418601f059e58a4c"
  },
  {
   "cell_type": "code",
   "id": "initial_id",
   "metadata": {
    "collapsed": true,
    "ExecuteTime": {
     "end_time": "2024-11-16T10:18:42.212696Z",
     "start_time": "2024-11-16T10:18:42.208373Z"
    }
   },
   "source": [
    "# any variable defined in the python script --> variable with global scope ??\n",
    "# can be accessed anywhere in the script \n",
    "\n",
    "name= 'ahmed'\n",
    "\n",
    "print(\"-----\")\n",
    "num = 10 \n",
    "print(name)"
   ],
   "outputs": [
    {
     "name": "stdout",
     "output_type": "stream",
     "text": [
      "-----\n",
      "ahmed\n"
     ]
    }
   ],
   "execution_count": 2
  },
  {
   "metadata": {},
   "cell_type": "markdown",
   "source": "",
   "id": "f140215283bd6f84"
  },
  {
   "metadata": {},
   "cell_type": "markdown",
   "source": "# local scope ??\n",
   "id": "dd844a0ef337d17b"
  },
  {
   "metadata": {
    "ExecuteTime": {
     "end_time": "2024-11-16T10:20:06.961388Z",
     "start_time": "2024-11-16T10:20:06.671880Z"
    }
   },
   "cell_type": "code",
   "source": [
    "# any variable defined inside the function --> local variable \n",
    "# can be accessed only from inside the function\n",
    "\n",
    "def printtrack():\n",
    "    track = 'ai'\n",
    "    print(f\"from inside the function track = {track}\")\n",
    "          \n",
    "          \n",
    "printtrack()\n",
    "printtrack(track)"
   ],
   "id": "a6e578cec4070be5",
   "outputs": [
    {
     "name": "stdout",
     "output_type": "stream",
     "text": [
      "from inside the function track = ai\n"
     ]
    },
    {
     "ename": "NameError",
     "evalue": "name 'track' is not defined",
     "output_type": "error",
     "traceback": [
      "\u001B[0;31m---------------------------------------------------------------------------\u001B[0m",
      "\u001B[0;31mNameError\u001B[0m                                 Traceback (most recent call last)",
      "Cell \u001B[0;32mIn[4], line 9\u001B[0m\n\u001B[1;32m      5\u001B[0m     \u001B[38;5;28mprint\u001B[39m(\u001B[38;5;124mf\u001B[39m\u001B[38;5;124m\"\u001B[39m\u001B[38;5;124mfrom inside the function track = \u001B[39m\u001B[38;5;132;01m{\u001B[39;00mtrack\u001B[38;5;132;01m}\u001B[39;00m\u001B[38;5;124m\"\u001B[39m)\n\u001B[1;32m      8\u001B[0m printtrack()\n\u001B[0;32m----> 9\u001B[0m printtrack(\u001B[43mtrack\u001B[49m)\n",
      "\u001B[0;31mNameError\u001B[0m: name 'track' is not defined"
     ]
    }
   ],
   "execution_count": 4
  },
  {
   "metadata": {},
   "cell_type": "code",
   "outputs": [],
   "execution_count": null,
   "source": "",
   "id": "f759dbd2981a125"
  },
  {
   "metadata": {},
   "cell_type": "markdown",
   "source": "# how can I access global variable from inside the function ",
   "id": "fe71daf52ba06152"
  },
  {
   "metadata": {
    "ExecuteTime": {
     "end_time": "2024-11-16T10:26:22.116256Z",
     "start_time": "2024-11-16T10:26:22.101986Z"
    }
   },
   "cell_type": "code",
   "source": [
    "course=  'python' # global\n",
    "def printCourse():  # you can read global variable from inside the function \n",
    "    print(f\"from the function course ={course}\")\n",
    "\n",
    "printCourse()"
   ],
   "id": "af0625b34dbb0b22",
   "outputs": [
    {
     "name": "stdout",
     "output_type": "stream",
     "text": [
      "from the function course =python\n"
     ]
    }
   ],
   "execution_count": 5
  },
  {
   "metadata": {},
   "cell_type": "markdown",
   "source": "<h1 style='color:green'> I need to modify the global variable ? </h1>",
   "id": "e00512b55b26bfde"
  },
  {
   "metadata": {
    "ExecuteTime": {
     "end_time": "2024-11-16T10:29:14.979854Z",
     "start_time": "2024-11-16T10:29:14.972351Z"
    }
   },
   "cell_type": "code",
   "source": [
    "session = \"Machine learning\"\n",
    "def modifysession():\n",
    "    session = 'deep learning'  # def new local  variable \n",
    "    print(f'session= {session}')\n",
    "    \n",
    "modifysession()\n",
    "print(session)"
   ],
   "id": "f477224697c36627",
   "outputs": [
    {
     "name": "stdout",
     "output_type": "stream",
     "text": [
      "session= deep learning\n",
      "Machine learning\n"
     ]
    }
   ],
   "execution_count": 7
  },
  {
   "metadata": {},
   "cell_type": "markdown",
   "source": " <h3 style='color:red'>I need to modify the global variable from inside the function  </h3>",
   "id": "d9df8c40c00402f3"
  },
  {
   "metadata": {
    "ExecuteTime": {
     "end_time": "2024-11-16T10:30:59.812880Z",
     "start_time": "2024-11-16T10:30:59.803712Z"
    }
   },
   "cell_type": "code",
   "source": [
    "session = \"Machine learning\"\n",
    "def modifysession():\n",
    "    global session  # please don't create new local variable use the global one  \n",
    "    session = 'deep learning'  # please use the global one \n",
    "    print(f'session= {session}')"
   ],
   "id": "8c6a5035130ce1ce",
   "outputs": [],
   "execution_count": 8
  },
  {
   "metadata": {
    "ExecuteTime": {
     "end_time": "2024-11-16T10:31:08.795256Z",
     "start_time": "2024-11-16T10:31:08.791877Z"
    }
   },
   "cell_type": "code",
   "source": [
    "modifysession()\n",
    "print(session)"
   ],
   "id": "894fae0fb85533bf",
   "outputs": [
    {
     "name": "stdout",
     "output_type": "stream",
     "text": [
      "session= deep learning\n",
      "deep learning\n"
     ]
    }
   ],
   "execution_count": 9
  },
  {
   "metadata": {
    "ExecuteTime": {
     "end_time": "2024-11-16T10:33:39.822442Z",
     "start_time": "2024-11-16T10:33:39.802411Z"
    }
   },
   "cell_type": "code",
   "source": [
    "stdname='menna'\n",
    "def formatname():\n",
    "    global stdname='Menna'"
   ],
   "id": "6a46ec0e7c9bf2ea",
   "outputs": [
    {
     "ename": "SyntaxError",
     "evalue": "invalid syntax (4237374798.py, line 3)",
     "output_type": "error",
     "traceback": [
      "\u001B[0;36m  Cell \u001B[0;32mIn[10], line 3\u001B[0;36m\u001B[0m\n\u001B[0;31m    global stdname='Menna'\u001B[0m\n\u001B[0m                  ^\u001B[0m\n\u001B[0;31mSyntaxError\u001B[0m\u001B[0;31m:\u001B[0m invalid syntax\n"
     ]
    }
   ],
   "execution_count": 10
  },
  {
   "metadata": {},
   "cell_type": "markdown",
   "source": "# <p style=\"padding:10px;background-color:beige;margin:0;color:black;font-family:newtimeroman;font-size:150%;text-align:center;border-radius: 15px 50px;overflow:hidden;font-weight:500\"> Function inside a function</p>\n",
   "id": "e9f9d07953c4121"
  },
  {
   "metadata": {
    "ExecuteTime": {
     "end_time": "2024-11-16T10:36:10.142402Z",
     "start_time": "2024-11-16T10:36:10.137853Z"
    }
   },
   "cell_type": "code",
   "source": [
    "def outerfunction():\n",
    "    print(\"--- I am the outer \")\n",
    "    def innerfunction():\n",
    "        print(\"I am the inner\")\n",
    "        \n",
    "outerfunction()"
   ],
   "id": "fd6f582d2e448ba3",
   "outputs": [
    {
     "name": "stdout",
     "output_type": "stream",
     "text": [
      "--- I am the outer \n"
     ]
    }
   ],
   "execution_count": 16
  },
  {
   "metadata": {
    "ExecuteTime": {
     "end_time": "2024-11-16T10:36:12.177508Z",
     "start_time": "2024-11-16T10:36:12.171062Z"
    }
   },
   "cell_type": "code",
   "source": [
    "def outerfunction():\n",
    "    print(\"--- I am the outer \")\n",
    "    def innerfunction():\n",
    "        print(\"I am the inner\")\n",
    "    innerfunction()"
   ],
   "id": "1e51fd264e668e77",
   "outputs": [],
   "execution_count": 17
  },
  {
   "metadata": {
    "ExecuteTime": {
     "end_time": "2024-11-16T10:36:04.811212Z",
     "start_time": "2024-11-16T10:36:04.804175Z"
    }
   },
   "cell_type": "code",
   "source": "outerfunction()",
   "id": "f5818153061fe6e9",
   "outputs": [
    {
     "name": "stdout",
     "output_type": "stream",
     "text": [
      "--- I am the outer \n",
      "I am the inner\n"
     ]
    }
   ],
   "execution_count": 15
  },
  {
   "metadata": {
    "ExecuteTime": {
     "end_time": "2024-11-16T10:38:08.809034Z",
     "start_time": "2024-11-16T10:38:08.800036Z"
    }
   },
   "cell_type": "code",
   "source": [
    "# \n",
    "\n",
    "def trackinfo():\n",
    "    track = 'ai'  # local variable \n",
    "    # local variable can be accessed anywhere in the script \n",
    "    def printtrackvariable():\n",
    "        print(f\"from inside the print track = {track}\")\n",
    "        \n",
    "    printtrackvariable()\n",
    "    \n",
    "    print(f\"from inside the function trackinfo = {track}\")\n",
    "    \n",
    "trackinfo()"
   ],
   "id": "a8a733a6b0cd22e6",
   "outputs": [
    {
     "name": "stdout",
     "output_type": "stream",
     "text": [
      "from inside the print track = ai\n",
      "from inside the function trackinfo = ai\n"
     ]
    }
   ],
   "execution_count": 18
  },
  {
   "metadata": {},
   "cell_type": "markdown",
   "source": "<h2 style='color:blue'> I need to modify  the local variable from inside the function </h2>  ",
   "id": "6e52bf40ccbbf181"
  },
  {
   "metadata": {
    "ExecuteTime": {
     "end_time": "2024-11-16T10:40:13.817731Z",
     "start_time": "2024-11-16T10:40:13.800611Z"
    }
   },
   "cell_type": "code",
   "source": [
    "def trackinfo():\n",
    "    track = 'ai'  # local variable \n",
    "    # local variable can be accessed anywhere in the script \n",
    "    def modifytrackvariable():\n",
    "        track = \"Artificial Intelligence\"  # new local variable for the inner function\n",
    "        print(f\"after modification = {track}\")\n",
    "        \n",
    "    modifytrackvariable()   \n",
    "    print(f\"from inside the function trackinfo = {track}\")\n",
    "    \n",
    "trackinfo()"
   ],
   "id": "c29e9584e78e7af",
   "outputs": [
    {
     "name": "stdout",
     "output_type": "stream",
     "text": [
      "after modification = Artificial Intelligence\n",
      "from inside the function trackinfo = ai\n"
     ]
    }
   ],
   "execution_count": 19
  },
  {
   "metadata": {},
   "cell_type": "markdown",
   "source": "# use keyword  --> nonlocal ",
   "id": "47f1f5e27c130135"
  },
  {
   "metadata": {
    "ExecuteTime": {
     "end_time": "2024-11-16T10:41:21.655824Z",
     "start_time": "2024-11-16T10:41:21.649688Z"
    }
   },
   "cell_type": "code",
   "source": [
    "def trackinfo():\n",
    "    track = 'ai'  # local variable \n",
    "    # local variable can be accessed anywhere in the script \n",
    "    def modifytrackvariable():\n",
    "        nonlocal track\n",
    "        track = \"Artificial Intelligence\"  # please use the local variable of the outer function\n",
    "        # don't create new one \n",
    "        print(f\"after modification = {track}\")\n",
    "        \n",
    "    modifytrackvariable()   \n",
    "    print(f\"from inside the function trackinfo = {track}\")\n",
    "    \n",
    "trackinfo()"
   ],
   "id": "b959aeeda63f4275",
   "outputs": [
    {
     "name": "stdout",
     "output_type": "stream",
     "text": [
      "after modification = Artificial Intelligence\n",
      "from inside the function trackinfo = Artificial Intelligence\n"
     ]
    }
   ],
   "execution_count": 20
  },
  {
   "metadata": {
    "ExecuteTime": {
     "end_time": "2024-11-16T10:44:00.052416Z",
     "start_time": "2024-11-16T10:44:00.047035Z"
    }
   },
   "cell_type": "code",
   "source": [
    "def A():\n",
    "    name= 'ali'\n",
    "    print(f\"from inside the function A = {name}\")\n",
    "    def B():\n",
    "        \n",
    "        def C():\n",
    "            def D():\n",
    "                nonlocal name\n",
    "                name= 'Ali Adel'\n",
    "            D()\n",
    "        C()\n",
    "    B()\n",
    "    print(name)\n",
    "\n",
    "#\n",
    "A()"
   ],
   "id": "249ac30de41e3316",
   "outputs": [
    {
     "name": "stdout",
     "output_type": "stream",
     "text": [
      "from inside the function A = ali\n",
      "Ali Adel\n"
     ]
    }
   ],
   "execution_count": 21
  },
  {
   "metadata": {
    "ExecuteTime": {
     "end_time": "2024-11-16T10:45:13.555696Z",
     "start_time": "2024-11-16T10:45:13.550774Z"
    }
   },
   "cell_type": "code",
   "source": [
    "def A():\n",
    "    name= 'ali'\n",
    "    print(f\"from inside the function A = {name}\")\n",
    "    def B():\n",
    "        nonlocal name\n",
    "        name= 'Ali Adel'\n",
    "        def C():\n",
    "            def D():\n",
    "               print(f\"name= {name}\") \n",
    "            D()\n",
    "        C()\n",
    "    B()\n",
    "    print(name)\n",
    "\n",
    "#\n",
    "A()"
   ],
   "id": "22b5ad7729ce78f1",
   "outputs": [
    {
     "name": "stdout",
     "output_type": "stream",
     "text": [
      "from inside the function A = ali\n",
      "name= Ali Adel\n",
      "Ali Adel\n"
     ]
    }
   ],
   "execution_count": 22
  },
  {
   "metadata": {},
   "cell_type": "code",
   "outputs": [],
   "execution_count": null,
   "source": "",
   "id": "68908152bd2d9d1"
  }
 ],
 "metadata": {
  "kernelspec": {
   "display_name": "Python 3",
   "language": "python",
   "name": "python3"
  },
  "language_info": {
   "codemirror_mode": {
    "name": "ipython",
    "version": 2
   },
   "file_extension": ".py",
   "mimetype": "text/x-python",
   "name": "python",
   "nbconvert_exporter": "python",
   "pygments_lexer": "ipython2",
   "version": "2.7.6"
  }
 },
 "nbformat": 4,
 "nbformat_minor": 5
}
