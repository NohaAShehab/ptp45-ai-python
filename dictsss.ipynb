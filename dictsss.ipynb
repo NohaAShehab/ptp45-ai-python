{
 "cells": [
  {
   "metadata": {},
   "cell_type": "markdown",
   "source": "<h1 style='color:green'>Dictionary</h1>",
   "id": "580c6538a4ea45f2"
  },
  {
   "cell_type": "code",
   "id": "initial_id",
   "metadata": {
    "collapsed": true,
    "ExecuteTime": {
     "end_time": "2024-11-16T07:59:59.622360Z",
     "start_time": "2024-11-16T07:59:59.617192Z"
    }
   },
   "source": [
    "# dict comma seperated key:value pair\n",
    "\"1- define the dict \"\n",
    "d = {}\n",
    "myd = dict ()"
   ],
   "outputs": [],
   "execution_count": 1
  },
  {
   "metadata": {
    "ExecuteTime": {
     "end_time": "2024-11-16T08:00:50.895580Z",
     "start_time": "2024-11-16T08:00:50.888884Z"
    }
   },
   "cell_type": "code",
   "source": [
    "# dict --> doesn't allow key duplication\n",
    "\n",
    "myd= {\n",
    "    \"name\":\"Ahmed\", \n",
    "    'track':\"Ai\",\n",
    "    'name': \"Ahmed Mohamed\"\n",
    "}\n",
    "print(myd)"
   ],
   "id": "ad51aced965c84bb",
   "outputs": [
    {
     "name": "stdout",
     "output_type": "stream",
     "text": [
      "{'name': 'Ahmed Mohamed', 'track': 'Ai'}\n"
     ]
    }
   ],
   "execution_count": 2
  },
  {
   "metadata": {
    "ExecuteTime": {
     "end_time": "2024-11-16T08:06:35.223116Z",
     "start_time": "2024-11-16T08:06:35.207973Z"
    }
   },
   "cell_type": "code",
   "source": [
    "info = ['noha', 'ai', 'iti', 'mansoura', 2014, 2019]\n",
    "# info \n",
    "info ={\n",
    "    \"name\":\"noha\",\n",
    "    'track': 'ai',\n",
    "    \"work\": 'iti',\n",
    "    'city': \"mansoura\",\n",
    "    'grad': 2014, \n",
    "    'workyear': 2019 \n",
    "}"
   ],
   "id": "b5e8002678b3f1f9",
   "outputs": [],
   "execution_count": 3
  },
  {
   "metadata": {},
   "cell_type": "markdown",
   "source": [
    "struct Emp{\n",
    "    int id;\n",
    "    char [] name;\n",
    "};"
   ],
   "id": "f1ea1b45e93c43a9"
  },
  {
   "metadata": {
    "ExecuteTime": {
     "end_time": "2024-11-16T08:06:50.854914Z",
     "start_time": "2024-11-16T08:06:50.839203Z"
    }
   },
   "cell_type": "code",
   "source": "print(info)",
   "id": "693be29b1669d360",
   "outputs": [
    {
     "name": "stdout",
     "output_type": "stream",
     "text": [
      "{'name': 'noha', 'track': 'ai', 'work': 'iti', 'city': 'mansoura', 'grad': 2014, 'workyear': 2019}\n"
     ]
    }
   ],
   "execution_count": 5
  },
  {
   "metadata": {
    "ExecuteTime": {
     "end_time": "2024-11-16T08:07:25.272963Z",
     "start_time": "2024-11-16T08:07:25.266293Z"
    }
   },
   "cell_type": "code",
   "source": "print(len(info))",
   "id": "a28b2067a4609c97",
   "outputs": [
    {
     "name": "stdout",
     "output_type": "stream",
     "text": [
      "6\n"
     ]
    }
   ],
   "execution_count": 6
  },
  {
   "metadata": {
    "ExecuteTime": {
     "end_time": "2024-11-16T08:07:50.026176Z",
     "start_time": "2024-11-16T08:07:50.014624Z"
    }
   },
   "cell_type": "code",
   "source": [
    "# access dict using key  \n",
    "print(info['name'])"
   ],
   "id": "740cccc11848d897",
   "outputs": [
    {
     "name": "stdout",
     "output_type": "stream",
     "text": [
      "noha\n"
     ]
    }
   ],
   "execution_count": 7
  },
  {
   "metadata": {
    "ExecuteTime": {
     "end_time": "2024-11-16T08:08:56.967560Z",
     "start_time": "2024-11-16T08:08:56.958912Z"
    }
   },
   "cell_type": "code",
   "source": [
    "# mutable datatypes ?\n",
    "info['name']='Noha Shehab'\n",
    "print(info)"
   ],
   "id": "c996b7018d9c5774",
   "outputs": [
    {
     "name": "stdout",
     "output_type": "stream",
     "text": [
      "{'name': 'Noha Shehab', 'track': 'ai', 'work': 'iti', 'city': 'mansoura', 'grad': 2014, 'workyear': 2019}\n"
     ]
    }
   ],
   "execution_count": 8
  },
  {
   "metadata": {
    "ExecuteTime": {
     "end_time": "2024-11-16T08:09:47.279057Z",
     "start_time": "2024-11-16T08:09:47.266963Z"
    }
   },
   "cell_type": "code",
   "source": [
    "info['salary']= 3000\n",
    "print(info)"
   ],
   "id": "22bf1d566470b079",
   "outputs": [
    {
     "name": "stdout",
     "output_type": "stream",
     "text": [
      "{'name': 'Noha Shehab', 'track': 'ai', 'work': 'iti', 'city': 'mansoura', 'grad': 2014, 'workyear': 2019, 'salary': 3000}\n"
     ]
    }
   ],
   "execution_count": 9
  },
  {
   "metadata": {
    "ExecuteTime": {
     "end_time": "2024-11-16T08:11:12.863225Z",
     "start_time": "2024-11-16T08:11:12.856697Z"
    }
   },
   "cell_type": "code",
   "source": [
    "info[\"courses\"]=[\"python\", \"linux\", \"ml\"]\n",
    "print(info)"
   ],
   "id": "26014154e58c474a",
   "outputs": [
    {
     "name": "stdout",
     "output_type": "stream",
     "text": [
      "{'name': 'Noha Shehab', 'track': 'ai', 'work': 'iti', 'city': 'mansoura', 'grad': 2014, 'workyear': 2019, 'salary': 3000, 'courses': ['python', 'linux', 'ml']}\n"
     ]
    }
   ],
   "execution_count": 10
  },
  {
   "metadata": {
    "ExecuteTime": {
     "end_time": "2024-11-16T08:12:12.407960Z",
     "start_time": "2024-11-16T08:12:12.401379Z"
    }
   },
   "cell_type": "code",
   "source": [
    "info['name']='israa'\n",
    "print(info)"
   ],
   "id": "8df246bfe8cc13e1",
   "outputs": [
    {
     "name": "stdout",
     "output_type": "stream",
     "text": [
      "{'name': 'israa', 'track': 'ai', 'work': 'iti', 'city': 'mansoura', 'grad': 2014, 'workyear': 2019, 'salary': 3000, 'courses': ['python', 'linux', 'ml']}\n"
     ]
    }
   ],
   "execution_count": 11
  },
  {
   "metadata": {
    "ExecuteTime": {
     "end_time": "2024-11-16T08:13:48.806680Z",
     "start_time": "2024-11-16T08:13:48.790084Z"
    }
   },
   "cell_type": "code",
   "source": [
    "stds = [\n",
    "    {'name':\"a\", 'grade': 'a'},\n",
    "     {'name':\"b\", 'grade': 'b'},\n",
    "     {'name':\"c\", 'grade': 'c'},\n",
    "     {'name':\"d\", 'grade': 'd'}\n",
    "]\n",
    "\n",
    "stds[0]['leader']=True\n",
    "print(stds)"
   ],
   "id": "1d83d36334a4feae",
   "outputs": [
    {
     "name": "stdout",
     "output_type": "stream",
     "text": [
      "[{'name': 'a', 'grade': 'a', 'leader': True}, {'name': 'b', 'grade': 'b'}, {'name': 'c', 'grade': 'c'}, {'name': 'd', 'grade': 'd'}]\n"
     ]
    }
   ],
   "execution_count": 12
  },
  {
   "metadata": {},
   "cell_type": "markdown",
   "source": " len of the dict ?",
   "id": "c09bcede73aec442"
  },
  {
   "metadata": {
    "ExecuteTime": {
     "end_time": "2024-11-16T08:14:39.567371Z",
     "start_time": "2024-11-16T08:14:39.551412Z"
    }
   },
   "cell_type": "code",
   "source": "print(len(info))",
   "id": "f579d6fc188c23a0",
   "outputs": [
    {
     "name": "stdout",
     "output_type": "stream",
     "text": [
      "8\n"
     ]
    }
   ],
   "execution_count": 13
  },
  {
   "metadata": {
    "ExecuteTime": {
     "end_time": "2024-11-16T08:15:20.017879Z",
     "start_time": "2024-11-16T08:15:20.003033Z"
    }
   },
   "cell_type": "code",
   "source": [
    "# pop element from dict ?? --> I need to know the key \n",
    "popped_val = info.pop(\"courses\")\n",
    "print(popped_val)\n",
    "print(info)"
   ],
   "id": "449c00007f7be50f",
   "outputs": [
    {
     "name": "stdout",
     "output_type": "stream",
     "text": [
      "['python', 'linux', 'ml']\n",
      "{'name': 'israa', 'track': 'ai', 'work': 'iti', 'city': 'mansoura', 'grad': 2014, 'workyear': 2019, 'salary': 3000}\n"
     ]
    }
   ],
   "execution_count": 14
  },
  {
   "metadata": {},
   "cell_type": "markdown",
   "source": [
    "# dict is iterable \n",
    "<img src=\"mared.jpeg\" width='200' height='200'>"
   ],
   "id": "31dee38ab2ade77f"
  },
  {
   "metadata": {
    "ExecuteTime": {
     "end_time": "2024-11-16T08:17:03.887619Z",
     "start_time": "2024-11-16T08:17:03.872845Z"
    }
   },
   "cell_type": "code",
   "source": [
    "for mared in info:\n",
    "    print(f'mared= {mared}')\n"
   ],
   "id": "8a772df998a3a72a",
   "outputs": [
    {
     "name": "stdout",
     "output_type": "stream",
     "text": [
      "mared= name\n",
      "mared= track\n",
      "mared= work\n",
      "mared= city\n",
      "mared= grad\n",
      "mared= workyear\n",
      "mared= salary\n"
     ]
    }
   ],
   "execution_count": 15
  },
  {
   "metadata": {
    "ExecuteTime": {
     "end_time": "2024-11-16T08:18:27.549306Z",
     "start_time": "2024-11-16T08:18:27.533669Z"
    }
   },
   "cell_type": "code",
   "source": [
    "# get keys, values \n",
    "for mared in info:\n",
    "    print(f\"key={mared}, value={info[mared]}\")\n"
   ],
   "id": "61937c852036d11a",
   "outputs": [
    {
     "name": "stdout",
     "output_type": "stream",
     "text": [
      "key=name, value=israa\n",
      "key=track, value=ai\n",
      "key=work, value=iti\n",
      "key=city, value=mansoura\n",
      "key=grad, value=2014\n",
      "key=workyear, value=2019\n",
      "key=salary, value=3000\n"
     ]
    }
   ],
   "execution_count": 16
  },
  {
   "metadata": {},
   "cell_type": "markdown",
   "source": "get dict keys ",
   "id": "6cce348e7dd97423"
  },
  {
   "metadata": {
    "ExecuteTime": {
     "end_time": "2024-11-16T08:19:47.510136Z",
     "start_time": "2024-11-16T08:19:47.503770Z"
    }
   },
   "cell_type": "code",
   "source": [
    "keys = info.keys()\n",
    "print(keys)  # dict_keys\n",
    "keys_list= list(keys)\n",
    "print(keys_list)"
   ],
   "id": "f2d4418db4cc0c4c",
   "outputs": [
    {
     "name": "stdout",
     "output_type": "stream",
     "text": [
      "dict_keys(['name', 'track', 'work', 'city', 'grad', 'workyear', 'salary'])\n",
      "['name', 'track', 'work', 'city', 'grad', 'workyear', 'salary']\n"
     ]
    }
   ],
   "execution_count": 19
  },
  {
   "metadata": {
    "ExecuteTime": {
     "end_time": "2024-11-16T08:21:10.913002Z",
     "start_time": "2024-11-16T08:21:10.899705Z"
    }
   },
   "cell_type": "code",
   "source": [
    "# get values \n",
    "values = info.values()\n",
    "print(values)\n",
    "values_tuple  = tuple(values)\n",
    "print(values_tuple)"
   ],
   "id": "2316de5707500b07",
   "outputs": [
    {
     "name": "stdout",
     "output_type": "stream",
     "text": [
      "dict_values(['israa', 'ai', 'iti', 'mansoura', 2014, 2019, 3000])\n",
      "('israa', 'ai', 'iti', 'mansoura', 2014, 2019, 3000)\n"
     ]
    }
   ],
   "execution_count": 21
  },
  {
   "metadata": {
    "ExecuteTime": {
     "end_time": "2024-11-16T08:22:26.484908Z",
     "start_time": "2024-11-16T08:22:26.471259Z"
    }
   },
   "cell_type": "code",
   "source": [
    "# get keys , values \n",
    "items =  info.items()\n",
    "print(items)"
   ],
   "id": "fbe246381b022dfd",
   "outputs": [
    {
     "name": "stdout",
     "output_type": "stream",
     "text": [
      "dict_items([('name', 'israa'), ('track', 'ai'), ('work', 'iti'), ('city', 'mansoura'), ('grad', 2014), ('workyear', 2019), ('salary', 3000)])\n"
     ]
    }
   ],
   "execution_count": 22
  },
  {
   "metadata": {
    "ExecuteTime": {
     "end_time": "2024-11-16T08:22:51.322877Z",
     "start_time": "2024-11-16T08:22:51.308644Z"
    }
   },
   "cell_type": "code",
   "source": [
    "items_list= list(items)\n",
    "print(items_list)"
   ],
   "id": "d8020c4bfb52feaf",
   "outputs": [
    {
     "name": "stdout",
     "output_type": "stream",
     "text": [
      "[('name', 'israa'), ('track', 'ai'), ('work', 'iti'), ('city', 'mansoura'), ('grad', 2014), ('workyear', 2019), ('salary', 3000)]\n"
     ]
    }
   ],
   "execution_count": 23
  },
  {
   "metadata": {},
   "cell_type": "markdown",
   "source": "",
   "id": "82f97d05092f060e"
  },
  {
   "metadata": {
    "ExecuteTime": {
     "end_time": "2024-11-16T08:23:45.508983Z",
     "start_time": "2024-11-16T08:23:45.493542Z"
    }
   },
   "cell_type": "code",
   "source": [
    "for index , item in enumerate(info):\n",
    "    print(f'{index}: {item}')"
   ],
   "id": "89fc595bdd580a1d",
   "outputs": [
    {
     "name": "stdout",
     "output_type": "stream",
     "text": [
      "0: name\n",
      "1: track\n",
      "2: work\n",
      "3: city\n",
      "4: grad\n",
      "5: workyear\n",
      "6: salary\n"
     ]
    }
   ],
   "execution_count": 24
  },
  {
   "metadata": {
    "ExecuteTime": {
     "end_time": "2024-11-16T08:25:44.530Z",
     "start_time": "2024-11-16T08:25:44.509911Z"
    }
   },
   "cell_type": "code",
   "source": [
    "additional_info ={\n",
    "    \"hoppy\":'reading',\n",
    "    'age': 32,\n",
    "    \"name\": \"Noha\"\n",
    "}\n",
    "\n",
    "# update content of the info dict ??\n",
    "info.update(additional_info)\n",
    "print(info)\n"
   ],
   "id": "235878056ec96be",
   "outputs": [
    {
     "name": "stdout",
     "output_type": "stream",
     "text": [
      "{'name': 'Noha', 'track': 'ai', 'work': 'iti', 'city': 'mansoura', 'grad': 2014, 'workyear': 2019, 'salary': 3000, 'hoppy': 'reading', 'age': 32}\n"
     ]
    }
   ],
   "execution_count": 25
  },
  {
   "metadata": {
    "ExecuteTime": {
     "end_time": "2024-11-16T08:28:59.464496Z",
     "start_time": "2024-11-16T08:28:59.453957Z"
    }
   },
   "cell_type": "code",
   "source": [
    "# del variable from memory \n",
    "del info"
   ],
   "id": "a992dba21e54b8dd",
   "outputs": [],
   "execution_count": 26
  },
  {
   "metadata": {
    "ExecuteTime": {
     "end_time": "2024-11-16T08:29:04.161386Z",
     "start_time": "2024-11-16T08:29:04.130727Z"
    }
   },
   "cell_type": "code",
   "source": "print(info)",
   "id": "d8fd4e8ee2699ce0",
   "outputs": [
    {
     "ename": "NameError",
     "evalue": "name 'info' is not defined",
     "output_type": "error",
     "traceback": [
      "\u001B[0;31m---------------------------------------------------------------------------\u001B[0m",
      "\u001B[0;31mNameError\u001B[0m                                 Traceback (most recent call last)",
      "Cell \u001B[0;32mIn[27], line 1\u001B[0m\n\u001B[0;32m----> 1\u001B[0m \u001B[38;5;28mprint\u001B[39m(\u001B[43minfo\u001B[49m)\n",
      "\u001B[0;31mNameError\u001B[0m: name 'info' is not defined"
     ]
    }
   ],
   "execution_count": 27
  },
  {
   "metadata": {
    "ExecuteTime": {
     "end_time": "2024-11-16T08:29:12.756488Z",
     "start_time": "2024-11-16T08:29:12.750147Z"
    }
   },
   "cell_type": "code",
   "source": "info = {'name': 'Noha', 'track': 'ai', 'work': 'iti', 'city': 'mansoura', 'grad': 2014, 'workyear': 2019, 'salary': 3000, 'hoppy': 'reading', 'age': 32}",
   "id": "cb073d5c20adf77",
   "outputs": [],
   "execution_count": 28
  },
  {
   "metadata": {
    "ExecuteTime": {
     "end_time": "2024-11-16T08:29:27.696755Z",
     "start_time": "2024-11-16T08:29:27.681114Z"
    }
   },
   "cell_type": "code",
   "source": [
    "# \n",
    "del info['grad']\n",
    "print(info)"
   ],
   "id": "66898d2ffecba700",
   "outputs": [
    {
     "name": "stdout",
     "output_type": "stream",
     "text": [
      "{'name': 'Noha', 'track': 'ai', 'work': 'iti', 'city': 'mansoura', 'workyear': 2019, 'salary': 3000, 'hoppy': 'reading', 'age': 32}\n"
     ]
    }
   ],
   "execution_count": 29
  },
  {
   "metadata": {
    "ExecuteTime": {
     "end_time": "2024-11-16T08:29:36.588625Z",
     "start_time": "2024-11-16T08:29:36.578102Z"
    }
   },
   "cell_type": "code",
   "source": "info.clear()",
   "id": "c2cc99595b6a4ec1",
   "outputs": [],
   "execution_count": 30
  },
  {
   "metadata": {
    "ExecuteTime": {
     "end_time": "2024-11-16T08:29:39.730682Z",
     "start_time": "2024-11-16T08:29:39.717741Z"
    }
   },
   "cell_type": "code",
   "source": "print(info)",
   "id": "f2c6a4f19118c6cc",
   "outputs": [
    {
     "name": "stdout",
     "output_type": "stream",
     "text": [
      "{}\n"
     ]
    }
   ],
   "execution_count": 31
  },
  {
   "metadata": {
    "ExecuteTime": {
     "end_time": "2024-11-16T08:33:05.477841Z",
     "start_time": "2024-11-16T08:33:05.462292Z"
    }
   },
   "cell_type": "code",
   "source": [
    "info = {'name': 'Noha', 'track': 'ai', 'work': 'iti', 'city': 'mansoura', 'grad': 2014, 'workyear': 2019, 'salary': 3000, 'hoppy': 'reading', 'age': 32}\n",
    "\n",
    "print(\"Noha\" in info) # in operator --> check if value exists in keys or not. "
   ],
   "id": "d4629656c2d51f91",
   "outputs": [
    {
     "name": "stdout",
     "output_type": "stream",
     "text": [
      "False\n"
     ]
    }
   ],
   "execution_count": 32
  },
  {
   "metadata": {},
   "cell_type": "code",
   "outputs": [],
   "execution_count": null,
   "source": "print(\"Noha\" in info.values())",
   "id": "f4018067413cc412"
  },
  {
   "metadata": {},
   "cell_type": "markdown",
   "source": "",
   "id": "440182f197759a45"
  },
  {
   "metadata": {
    "ExecuteTime": {
     "end_time": "2024-11-16T08:34:37.566473Z",
     "start_time": "2024-11-16T08:34:37.560168Z"
    }
   },
   "cell_type": "code",
   "source": "print(list(info)) # list contains keys ",
   "id": "3c9a88eefd46bbe3",
   "outputs": [
    {
     "name": "stdout",
     "output_type": "stream",
     "text": [
      "['name', 'track', 'work', 'city', 'grad', 'workyear', 'salary', 'hoppy', 'age']\n"
     ]
    }
   ],
   "execution_count": 33
  },
  {
   "metadata": {
    "ExecuteTime": {
     "end_time": "2024-11-16T08:36:22.988526Z",
     "start_time": "2024-11-16T08:36:22.978548Z"
    }
   },
   "cell_type": "code",
   "source": [
    "mm = {\n",
    "    \"a\":\"abbass\", \n",
    "    \"b\":\"abbass\"\n",
    "}"
   ],
   "id": "9273452cf7a2fef",
   "outputs": [],
   "execution_count": 34
  },
  {
   "metadata": {},
   "cell_type": "code",
   "outputs": [],
   "execution_count": null,
   "source": "",
   "id": "497f5ab99164dd36"
  }
 ],
 "metadata": {
  "kernelspec": {
   "display_name": "Python 3",
   "language": "python",
   "name": "python3"
  },
  "language_info": {
   "codemirror_mode": {
    "name": "ipython",
    "version": 2
   },
   "file_extension": ".py",
   "mimetype": "text/x-python",
   "name": "python",
   "nbconvert_exporter": "python",
   "pygments_lexer": "ipython2",
   "version": "2.7.6"
  }
 },
 "nbformat": 4,
 "nbformat_minor": 5
}
