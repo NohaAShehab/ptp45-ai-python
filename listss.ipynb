{
 "cells": [
  {
   "metadata": {},
   "cell_type": "markdown",
   "source": [
    "# define a list \n",
    "<h3> Lists are the most verstaile datatype in python </h3>\n",
    "<p> lists are based on sequences </p>"
   ],
   "id": "de1abc6a5d818b3c"
  },
  {
   "metadata": {},
   "cell_type": "markdown",
   "source": "<h4 style='color:red'>Define a list </h4>",
   "id": "bc2c4f3c1deef68c"
  },
  {
   "cell_type": "code",
   "id": "initial_id",
   "metadata": {
    "collapsed": true,
    "ExecuteTime": {
     "end_time": "2024-11-14T09:17:26.222573Z",
     "start_time": "2024-11-14T09:17:26.218315Z"
    }
   },
   "source": [
    "#\n",
    "l = []\n",
    "myl= list()\n",
    "print(l , myl)"
   ],
   "outputs": [
    {
     "name": "stdout",
     "output_type": "stream",
     "text": [
      "[] []\n"
     ]
    }
   ],
   "execution_count": 1
  },
  {
   "metadata": {
    "ExecuteTime": {
     "end_time": "2024-11-14T09:20:21.477426Z",
     "start_time": "2024-11-14T09:20:21.472742Z"
    }
   },
   "cell_type": "code",
   "source": [
    "myl= [\"Ahmed\", \"Mohamed\", \"Alaa\", \"hajar\", \"abc\", 234.44, True, [\"python\", \"machine learning\", \"DL\"], None]\n",
    "print(myl)"
   ],
   "id": "6c41a02f03d7c76e",
   "outputs": [
    {
     "name": "stdout",
     "output_type": "stream",
     "text": [
      "['Ahmed', 'Mohamed', 'Alaa', 'hajar', 'abc', 234.44, True, ['python', 'machine learning', 'DL'], None]\n"
     ]
    }
   ],
   "execution_count": 2
  },
  {
   "metadata": {},
   "cell_type": "markdown",
   "source": "<h3 style='color:green'>Access elements using index start from zero </h3>",
   "id": "31b779105267d366"
  },
  {
   "metadata": {
    "ExecuteTime": {
     "end_time": "2024-11-14T09:21:37.724509Z",
     "start_time": "2024-11-14T09:21:37.720385Z"
    }
   },
   "cell_type": "code",
   "source": "print(myl[3])",
   "id": "76c7f2cd851e0d59",
   "outputs": [
    {
     "name": "stdout",
     "output_type": "stream",
     "text": [
      "hajar\n"
     ]
    }
   ],
   "execution_count": 3
  },
  {
   "metadata": {
    "ExecuteTime": {
     "end_time": "2024-11-14T09:22:15.083762Z",
     "start_time": "2024-11-14T09:22:15.079918Z"
    }
   },
   "cell_type": "code",
   "source": "print(myl[7][1])",
   "id": "49d5b42289e68614",
   "outputs": [
    {
     "name": "stdout",
     "output_type": "stream",
     "text": [
      "machine learning\n"
     ]
    }
   ],
   "execution_count": 5
  },
  {
   "metadata": {},
   "cell_type": "markdown",
   "source": "<h3 style='color:gree'>check if  element exist or not </h3>\n",
   "id": "2c1b4865c29e26ff"
  },
  {
   "metadata": {
    "ExecuteTime": {
     "end_time": "2024-11-14T09:23:08.009747Z",
     "start_time": "2024-11-14T09:23:08.003345Z"
    }
   },
   "cell_type": "code",
   "source": [
    "print(\"abbass\" in myl)\n",
    "print(\"Alaa\" in myl)"
   ],
   "id": "57d48f278c30fca9",
   "outputs": [
    {
     "name": "stdout",
     "output_type": "stream",
     "text": [
      "False\n",
      "True\n"
     ]
    }
   ],
   "execution_count": 7
  },
  {
   "metadata": {},
   "cell_type": "markdown",
   "source": "# gen len of the list",
   "id": "41439cfcf31b7f1c"
  },
  {
   "metadata": {
    "ExecuteTime": {
     "end_time": "2024-11-14T09:23:30.860233Z",
     "start_time": "2024-11-14T09:23:30.856625Z"
    }
   },
   "cell_type": "code",
   "source": "print(len(myl))",
   "id": "8ee613ca9cede6da",
   "outputs": [
    {
     "name": "stdout",
     "output_type": "stream",
     "text": [
      "9\n"
     ]
    }
   ],
   "execution_count": 8
  },
  {
   "metadata": {
    "ExecuteTime": {
     "end_time": "2024-11-14T09:24:42.081087Z",
     "start_time": "2024-11-14T09:24:42.076699Z"
    }
   },
   "cell_type": "code",
   "source": [
    "myl = [\"Alaa\", \"Ali\", \"Mohamed\", \"reham\", \"rehab\", \"nagwa\", \"Ali\", \"Ali\", 24, 24234, \n",
    "       [\"python\", \"DB\", \"DL\"]]\n",
    "\n",
    "print(myl)"
   ],
   "id": "7acd8d0939e9693f",
   "outputs": [
    {
     "name": "stdout",
     "output_type": "stream",
     "text": [
      "['Alaa', 'Ali', 'Mohamed', 'reham', 'rehab', 'nagwa', 'Ali', 'Ali', 24, 24234, ['python', 'DB', 'DL']]\n"
     ]
    }
   ],
   "execution_count": 9
  },
  {
   "metadata": {},
   "cell_type": "markdown",
   "source": "get count of element ",
   "id": "945f4b44f64eae77"
  },
  {
   "metadata": {
    "ExecuteTime": {
     "end_time": "2024-11-14T09:25:01.979990Z",
     "start_time": "2024-11-14T09:25:01.976408Z"
    }
   },
   "cell_type": "code",
   "source": "print(myl.count(\"Ali\"))",
   "id": "3e389c4f46b9633",
   "outputs": [
    {
     "name": "stdout",
     "output_type": "stream",
     "text": [
      "3\n"
     ]
    }
   ],
   "execution_count": 10
  },
  {
   "metadata": {},
   "cell_type": "markdown",
   "source": "get index of element ",
   "id": "446902f7d9384640"
  },
  {
   "metadata": {
    "ExecuteTime": {
     "end_time": "2024-11-14T09:25:32.537692Z",
     "start_time": "2024-11-14T09:25:32.532185Z"
    }
   },
   "cell_type": "code",
   "source": "print(myl.index('Ali')) # get first occurrence ",
   "id": "d6b3711816d69564",
   "outputs": [
    {
     "name": "stdout",
     "output_type": "stream",
     "text": [
      "1\n"
     ]
    }
   ],
   "execution_count": 11
  },
  {
   "metadata": {},
   "cell_type": "markdown",
   "source": [
    "# loop over the list \n",
    "<img src=\"mared.jpeg\" width='200'  height='200'>"
   ],
   "id": "5cfe435c587c2fc9"
  },
  {
   "metadata": {
    "ExecuteTime": {
     "end_time": "2024-11-14T09:26:30.353050Z",
     "start_time": "2024-11-14T09:26:30.348791Z"
    }
   },
   "cell_type": "code",
   "source": [
    "for mared in myl:\n",
    "    print(f\"mared {mared}\")"
   ],
   "id": "620574eb6aff9a78",
   "outputs": [
    {
     "name": "stdout",
     "output_type": "stream",
     "text": [
      "mared Alaa\n",
      "mared Ali\n",
      "mared Mohamed\n",
      "mared reham\n",
      "mared rehab\n",
      "mared nagwa\n",
      "mared Ali\n",
      "mared Ali\n",
      "mared 24\n",
      "mared 24234\n",
      "mared ['python', 'DB', 'DL']\n"
     ]
    }
   ],
   "execution_count": 12
  },
  {
   "metadata": {
    "ExecuteTime": {
     "end_time": "2024-11-14T09:29:59.609764Z",
     "start_time": "2024-11-14T09:29:59.605956Z"
    }
   },
   "cell_type": "code",
   "source": [
    "index = 0\n",
    "for mared in myl:\n",
    "    print(f'index= {index}, item={mared}')\n",
    "    index +=1"
   ],
   "id": "73476fec65c296d2",
   "outputs": [
    {
     "name": "stdout",
     "output_type": "stream",
     "text": [
      "index= 0, item=Alaa\n",
      "index= 1, item=Ali\n",
      "index= 2, item=Mohamed\n",
      "index= 3, item=reham\n",
      "index= 4, item=rehab\n",
      "index= 5, item=nagwa\n",
      "index= 6, item=Ali\n",
      "index= 7, item=Ali\n",
      "index= 8, item=24\n",
      "index= 9, item=24234\n",
      "index= 10, item=['python', 'DB', 'DL']\n"
     ]
    }
   ],
   "execution_count": 13
  },
  {
   "metadata": {},
   "cell_type": "markdown",
   "source": "# enumarate  ==> works with any iterable --> need an index --> generate it ",
   "id": "68fb522c5cad0f27"
  },
  {
   "metadata": {
    "ExecuteTime": {
     "end_time": "2024-11-14T09:36:26.694429Z",
     "start_time": "2024-11-14T09:36:26.690333Z"
    }
   },
   "cell_type": "code",
   "source": [
    "indexed_list = enumerate(myl)\n",
    "print(indexed_list)\n",
    "# print(list(indexed_list))"
   ],
   "id": "36fdeae4451f71d",
   "outputs": [
    {
     "name": "stdout",
     "output_type": "stream",
     "text": [
      "<enumerate object at 0x78f00c154900>\n"
     ]
    }
   ],
   "execution_count": 21
  },
  {
   "metadata": {
    "ExecuteTime": {
     "end_time": "2024-11-14T09:36:34.862562Z",
     "start_time": "2024-11-14T09:36:34.858272Z"
    }
   },
   "cell_type": "code",
   "source": [
    "for i , item in indexed_list:\n",
    "    print(f\"i={i}, item={item}\")"
   ],
   "id": "d268b79305bb0f4b",
   "outputs": [
    {
     "name": "stdout",
     "output_type": "stream",
     "text": [
      "i=0, item=Alaa\n",
      "i=1, item=Ali\n",
      "i=2, item=Mohamed\n",
      "i=3, item=reham\n",
      "i=4, item=rehab\n",
      "i=5, item=nagwa\n",
      "i=6, item=Ali\n",
      "i=7, item=Ali\n",
      "i=8, item=24\n",
      "i=9, item=24234\n",
      "i=10, item=['python', 'DB', 'DL']\n"
     ]
    }
   ],
   "execution_count": 22
  },
  {
   "metadata": {
    "ExecuteTime": {
     "end_time": "2024-11-14T09:36:45.951043Z",
     "start_time": "2024-11-14T09:36:45.947109Z"
    }
   },
   "cell_type": "code",
   "source": [
    "for i , item in indexed_list:\n",
    "    print(f\"i={i}, item={item}\")"
   ],
   "id": "4792d12f8043a37c",
   "outputs": [],
   "execution_count": 23
  },
  {
   "metadata": {
    "ExecuteTime": {
     "end_time": "2024-11-14T09:42:42.420504Z",
     "start_time": "2024-11-14T09:42:42.416064Z"
    }
   },
   "cell_type": "code",
   "source": [
    "for i , item in enumerate(myl):\n",
    "    print(f\"{i}:{item}\")"
   ],
   "id": "b1fdf40246f878d8",
   "outputs": [
    {
     "name": "stdout",
     "output_type": "stream",
     "text": [
      "0:Alaa\n",
      "1:Ali\n",
      "2:Mohamed\n",
      "3:reham\n",
      "4:rehab\n",
      "5:nagwa\n",
      "6:Ali\n",
      "7:Ali\n",
      "8:24\n",
      "9:24234\n",
      "10:['python', 'DB', 'DL']\n"
     ]
    }
   ],
   "execution_count": 24
  },
  {
   "metadata": {},
   "cell_type": "markdown",
   "source": "<h2 style='color:purple'>List is mutable datatype </h2>",
   "id": "c5651a8d7842f489"
  },
  {
   "metadata": {},
   "cell_type": "markdown",
   "source": "1- update value at existing index ",
   "id": "cc058454f9a41bb3"
  },
  {
   "metadata": {
    "ExecuteTime": {
     "end_time": "2024-11-14T09:44:19.624753Z",
     "start_time": "2024-11-14T09:44:19.621355Z"
    }
   },
   "cell_type": "code",
   "source": "print(myl)",
   "id": "aae359f53dd03c9b",
   "outputs": [
    {
     "name": "stdout",
     "output_type": "stream",
     "text": [
      "['Alaa', 'Ali', 'Mohamed', 'reham', 'rehab', 'nagwa', 'Ali', 'Ali', 24, 24234, ['python', 'DB', 'DL']]\n"
     ]
    }
   ],
   "execution_count": 25
  },
  {
   "metadata": {
    "ExecuteTime": {
     "end_time": "2024-11-14T09:44:57.814149Z",
     "start_time": "2024-11-14T09:44:57.809765Z"
    }
   },
   "cell_type": "code",
   "source": [
    "myl[3]=\"Reham ElQasby\"\n",
    "print(myl)"
   ],
   "id": "abe6b5df422d52e3",
   "outputs": [
    {
     "name": "stdout",
     "output_type": "stream",
     "text": [
      "['Alaa', 'Ali', 'Mohamed', 'Reham ElQasby', 'rehab', 'nagwa', 'Ali', 'Ali', 24, 24234, ['python', 'DB', 'DL']]\n"
     ]
    }
   ],
   "execution_count": 26
  },
  {
   "metadata": {
    "ExecuteTime": {
     "end_time": "2024-11-14T09:45:22.655084Z",
     "start_time": "2024-11-14T09:45:22.429266Z"
    }
   },
   "cell_type": "code",
   "source": "myl[300]='abbass'",
   "id": "219035c110ae8fe7",
   "outputs": [
    {
     "ename": "IndexError",
     "evalue": "list assignment index out of range",
     "output_type": "error",
     "traceback": [
      "\u001B[0;31m---------------------------------------------------------------------------\u001B[0m",
      "\u001B[0;31mIndexError\u001B[0m                                Traceback (most recent call last)",
      "Cell \u001B[0;32mIn[27], line 1\u001B[0m\n\u001B[0;32m----> 1\u001B[0m \u001B[43mmyl\u001B[49m\u001B[43m[\u001B[49m\u001B[38;5;241;43m300\u001B[39;49m\u001B[43m]\u001B[49m\u001B[38;5;241m=\u001B[39m\u001B[38;5;124m'\u001B[39m\u001B[38;5;124mabbass\u001B[39m\u001B[38;5;124m'\u001B[39m\n",
      "\u001B[0;31mIndexError\u001B[0m: list assignment index out of range"
     ]
    }
   ],
   "execution_count": 27
  },
  {
   "metadata": {},
   "cell_type": "markdown",
   "source": "# add element to the list ",
   "id": "5fcb9d2c32c4638"
  },
  {
   "metadata": {
    "ExecuteTime": {
     "end_time": "2024-11-14T09:46:16.957410Z",
     "start_time": "2024-11-14T09:46:16.946755Z"
    }
   },
   "cell_type": "code",
   "source": [
    "# 1- append \n",
    "myl.append(\"new item\")\n",
    "print(myl)"
   ],
   "id": "93749cdbac0ecad3",
   "outputs": [
    {
     "name": "stdout",
     "output_type": "stream",
     "text": [
      "['Alaa', 'Ali', 'Mohamed', 'Reham ElQasby', 'rehab', 'nagwa', 'Ali', 'Ali', 24, 24234, ['python', 'DB', 'DL'], 'new item']\n"
     ]
    }
   ],
   "execution_count": 28
  },
  {
   "metadata": {
    "ExecuteTime": {
     "end_time": "2024-11-14T09:46:48.933627Z",
     "start_time": "2024-11-14T09:46:48.928522Z"
    }
   },
   "cell_type": "code",
   "source": [
    "# insert at specific index \n",
    "myl.insert(5, \"inserted element\")\n",
    "print(myl)"
   ],
   "id": "47a425d9601d2ec0",
   "outputs": [
    {
     "name": "stdout",
     "output_type": "stream",
     "text": [
      "['Alaa', 'Ali', 'Mohamed', 'Reham ElQasby', 'rehab', 'inserted element', 'nagwa', 'Ali', 'Ali', 24, 24234, ['python', 'DB', 'DL'], 'new item']\n"
     ]
    }
   ],
   "execution_count": 29
  },
  {
   "metadata": {
    "ExecuteTime": {
     "end_time": "2024-11-14T09:47:41.541021Z",
     "start_time": "2024-11-14T09:47:41.537779Z"
    }
   },
   "cell_type": "code",
   "source": "myl.insert(300, \"Mohamed Salama\")",
   "id": "dcdf4f366ff93a5e",
   "outputs": [],
   "execution_count": 30
  },
  {
   "metadata": {},
   "cell_type": "markdown",
   "source": "slicing the list ",
   "id": "d4e8d372124f1db9"
  },
  {
   "metadata": {
    "ExecuteTime": {
     "end_time": "2024-11-14T09:48:33.875851Z",
     "start_time": "2024-11-14T09:48:33.872351Z"
    }
   },
   "cell_type": "code",
   "source": "print(myl[4:])",
   "id": "3eb799ba735fb07b",
   "outputs": [
    {
     "name": "stdout",
     "output_type": "stream",
     "text": [
      "['rehab', 'inserted element', 'nagwa', 'Ali', 'Ali', 24, 24234, ['python', 'DB', 'DL'], 'new item', 'Mohamed Salama']\n"
     ]
    }
   ],
   "execution_count": 31
  },
  {
   "metadata": {
    "ExecuteTime": {
     "end_time": "2024-11-14T09:48:40.623016Z",
     "start_time": "2024-11-14T09:48:40.619424Z"
    }
   },
   "cell_type": "code",
   "source": "print(myl[::-1])",
   "id": "37a0a76fa73f856c",
   "outputs": [
    {
     "name": "stdout",
     "output_type": "stream",
     "text": [
      "['Mohamed Salama', 'new item', ['python', 'DB', 'DL'], 24234, 24, 'Ali', 'Ali', 'nagwa', 'inserted element', 'rehab', 'Reham ElQasby', 'Mohamed', 'Ali', 'Alaa']\n"
     ]
    }
   ],
   "execution_count": 32
  },
  {
   "metadata": {},
   "cell_type": "markdown",
   "source": "# remove element from the list ",
   "id": "b2fd1c22baf2e368"
  },
  {
   "metadata": {
    "ExecuteTime": {
     "end_time": "2024-11-14T09:49:45.308800Z",
     "start_time": "2024-11-14T09:49:45.305124Z"
    }
   },
   "cell_type": "code",
   "source": [
    "# pop the element \n",
    "print(myl)\n",
    "popped_element=myl.pop()\n",
    "print(myl)"
   ],
   "id": "d5f392a3ec28ffae",
   "outputs": [
    {
     "name": "stdout",
     "output_type": "stream",
     "text": [
      "['Alaa', 'Ali', 'Mohamed', 'Reham ElQasby', 'rehab', 'inserted element', 'nagwa', 'Ali', 'Ali', 24, 24234, ['python', 'DB', 'DL'], 'new item', 'Mohamed Salama']\n",
      "['Alaa', 'Ali', 'Mohamed', 'Reham ElQasby', 'rehab', 'inserted element', 'nagwa', 'Ali', 'Ali', 24, 24234, ['python', 'DB', 'DL'], 'new item']\n"
     ]
    }
   ],
   "execution_count": 33
  },
  {
   "metadata": {
    "ExecuteTime": {
     "end_time": "2024-11-14T09:49:57.922386Z",
     "start_time": "2024-11-14T09:49:57.918530Z"
    }
   },
   "cell_type": "code",
   "source": "print(popped_element)",
   "id": "b928e98bb5c93e39",
   "outputs": [
    {
     "name": "stdout",
     "output_type": "stream",
     "text": [
      "Mohamed Salama\n"
     ]
    }
   ],
   "execution_count": 34
  },
  {
   "metadata": {
    "ExecuteTime": {
     "end_time": "2024-11-14T09:50:38.138960Z",
     "start_time": "2024-11-14T09:50:38.135211Z"
    }
   },
   "cell_type": "code",
   "source": [
    "# pop element at specific index ??\n",
    "popped_element2= myl.pop(5)\n",
    "print(popped_element2)\n",
    "print(myl)"
   ],
   "id": "53c7679e8594e1fc",
   "outputs": [
    {
     "name": "stdout",
     "output_type": "stream",
     "text": [
      "inserted element\n",
      "['Alaa', 'Ali', 'Mohamed', 'Reham ElQasby', 'rehab', 'nagwa', 'Ali', 'Ali', 24, 24234, ['python', 'DB', 'DL'], 'new item']\n"
     ]
    }
   ],
   "execution_count": 35
  },
  {
   "metadata": {},
   "cell_type": "markdown",
   "source": "I need to remove the element",
   "id": "451436c887015183"
  },
  {
   "metadata": {
    "ExecuteTime": {
     "end_time": "2024-11-14T09:51:34.656577Z",
     "start_time": "2024-11-14T09:51:34.652396Z"
    }
   },
   "cell_type": "code",
   "source": [
    "print(myl.remove(\"Ali\")) # remove first occurrence \n",
    "print(myl)"
   ],
   "id": "6e22588a7b88aba8",
   "outputs": [
    {
     "name": "stdout",
     "output_type": "stream",
     "text": [
      "None\n",
      "['Alaa', 'Mohamed', 'Reham ElQasby', 'rehab', 'nagwa', 'Ali', 'Ali', 24, 24234, ['python', 'DB', 'DL'], 'new item']\n"
     ]
    }
   ],
   "execution_count": 36
  },
  {
   "metadata": {},
   "cell_type": "markdown",
   "source": "# concat the list ",
   "id": "d2d99cc958ae154b"
  },
  {
   "metadata": {
    "ExecuteTime": {
     "end_time": "2024-11-14T09:53:14.031425Z",
     "start_time": "2024-11-14T09:53:14.027511Z"
    }
   },
   "cell_type": "code",
   "source": [
    "l1  = ['linux', 'python', 'c', 'c++']\n",
    "l2 = ['linear algebra', 'probaility','ml', 'dl' ]\n",
    "list_of_courses=  l1 + l2 \n",
    "print(list_of_courses)"
   ],
   "id": "40c51cfad17567da",
   "outputs": [
    {
     "name": "stdout",
     "output_type": "stream",
     "text": [
      "['linux', 'python', 'c', 'c++', 'linear algebra', 'probaility', 'ml', 'dl']\n"
     ]
    }
   ],
   "execution_count": 37
  },
  {
   "metadata": {
    "ExecuteTime": {
     "end_time": "2024-11-14T09:55:06.181627Z",
     "start_time": "2024-11-14T09:55:06.176930Z"
    }
   },
   "cell_type": "code",
   "source": [
    "# extend a list ?\n",
    "l1.extend(l2)\n",
    "\n",
    "print(l1)\n",
    "print(l2)"
   ],
   "id": "72e4414776801e99",
   "outputs": [
    {
     "name": "stdout",
     "output_type": "stream",
     "text": [
      "['linux', 'python', 'c', 'c++', 'linear algebra', 'probaility', 'ml', 'dl']\n",
      "['linear algebra', 'probaility', 'ml', 'dl']\n"
     ]
    }
   ],
   "execution_count": 38
  },
  {
   "metadata": {},
   "cell_type": "markdown",
   "source": "# sorting the list ??",
   "id": "a4720f90a7fa09f"
  },
  {
   "metadata": {
    "ExecuteTime": {
     "end_time": "2024-11-14T09:56:55.979027Z",
     "start_time": "2024-11-14T09:56:55.975502Z"
    }
   },
   "cell_type": "code",
   "source": [
    "l1.sort() # sort elements and save it in the current variable # sorting asc \n",
    "print(l1)"
   ],
   "id": "f020f1ebe95ea47c",
   "outputs": [
    {
     "name": "stdout",
     "output_type": "stream",
     "text": [
      "['c', 'c++', 'dl', 'linear algebra', 'linux', 'ml', 'probaility', 'python']\n"
     ]
    }
   ],
   "execution_count": 40
  },
  {
   "metadata": {
    "ExecuteTime": {
     "end_time": "2024-11-14T09:57:31.110854Z",
     "start_time": "2024-11-14T09:57:31.106638Z"
    }
   },
   "cell_type": "code",
   "source": [
    "l1.sort(reverse=True)\n",
    "print(l1)"
   ],
   "id": "280a3efec78a99fe",
   "outputs": [
    {
     "name": "stdout",
     "output_type": "stream",
     "text": [
      "['python', 'probaility', 'ml', 'linux', 'linear algebra', 'dl', 'c++', 'c']\n"
     ]
    }
   ],
   "execution_count": 41
  },
  {
   "metadata": {},
   "cell_type": "markdown",
   "source": "# reverse ",
   "id": "5671fde740a2c2be"
  },
  {
   "metadata": {
    "ExecuteTime": {
     "end_time": "2024-11-14T09:57:55.952440Z",
     "start_time": "2024-11-14T09:57:55.948689Z"
    }
   },
   "cell_type": "code",
   "source": [
    "print(myl)\n",
    "myl.reverse()\n",
    "print(myl)"
   ],
   "id": "48d187a3ed1f1fe8",
   "outputs": [
    {
     "name": "stdout",
     "output_type": "stream",
     "text": [
      "['Alaa', 'Ali', 'Ali', 'Mohamed', 'Reham ElQasby', 'nagwa', 'rehab', 24, 24234, ['python', 'DB', 'DL'], 'new item']\n",
      "['new item', ['python', 'DB', 'DL'], 24234, 24, 'rehab', 'nagwa', 'Reham ElQasby', 'Mohamed', 'Ali', 'Ali', 'Alaa']\n"
     ]
    }
   ],
   "execution_count": 42
  },
  {
   "metadata": {
    "ExecuteTime": {
     "end_time": "2024-11-14T10:01:07.911522Z",
     "start_time": "2024-11-14T10:01:07.907588Z"
    }
   },
   "cell_type": "code",
   "source": [
    "nums = [3,4356,23,5,-10, 21]\n",
    "print(max(nums))\n",
    "print(min(nums))\n",
    "print(sum(nums))"
   ],
   "id": "64885baab2c636bc",
   "outputs": [
    {
     "name": "stdout",
     "output_type": "stream",
     "text": [
      "4356\n",
      "-10\n",
      "4398\n"
     ]
    }
   ],
   "execution_count": 43
  },
  {
   "metadata": {
    "ExecuteTime": {
     "end_time": "2024-11-14T10:01:36.315425Z",
     "start_time": "2024-11-14T10:01:36.299073Z"
    }
   },
   "cell_type": "code",
   "source": [
    "ss = [24, \"424\", 24343]\n",
    "print(sum(ss))"
   ],
   "id": "53c2e1c7a6d63013",
   "outputs": [
    {
     "ename": "TypeError",
     "evalue": "unsupported operand type(s) for +: 'int' and 'str'",
     "output_type": "error",
     "traceback": [
      "\u001B[0;31m---------------------------------------------------------------------------\u001B[0m",
      "\u001B[0;31mTypeError\u001B[0m                                 Traceback (most recent call last)",
      "Cell \u001B[0;32mIn[44], line 2\u001B[0m\n\u001B[1;32m      1\u001B[0m ss \u001B[38;5;241m=\u001B[39m [\u001B[38;5;241m24\u001B[39m, \u001B[38;5;124m\"\u001B[39m\u001B[38;5;124m424\u001B[39m\u001B[38;5;124m\"\u001B[39m, \u001B[38;5;241m24343\u001B[39m]\n\u001B[0;32m----> 2\u001B[0m \u001B[38;5;28mprint\u001B[39m(\u001B[38;5;28;43msum\u001B[39;49m\u001B[43m(\u001B[49m\u001B[43mss\u001B[49m\u001B[43m)\u001B[49m)\n",
      "\u001B[0;31mTypeError\u001B[0m: unsupported operand type(s) for +: 'int' and 'str'"
     ]
    }
   ],
   "execution_count": 44
  },
  {
   "metadata": {
    "ExecuteTime": {
     "end_time": "2024-11-14T10:01:58.138763Z",
     "start_time": "2024-11-14T10:01:58.119027Z"
    }
   },
   "cell_type": "code",
   "source": "print(sum(['a', \"ds\", 'fdfdf']))",
   "id": "6a0a2f6379295a6d",
   "outputs": [
    {
     "ename": "TypeError",
     "evalue": "unsupported operand type(s) for +: 'int' and 'str'",
     "output_type": "error",
     "traceback": [
      "\u001B[0;31m---------------------------------------------------------------------------\u001B[0m",
      "\u001B[0;31mTypeError\u001B[0m                                 Traceback (most recent call last)",
      "Cell \u001B[0;32mIn[45], line 1\u001B[0m\n\u001B[0;32m----> 1\u001B[0m \u001B[38;5;28mprint\u001B[39m(\u001B[38;5;28;43msum\u001B[39;49m\u001B[43m(\u001B[49m\u001B[43m[\u001B[49m\u001B[38;5;124;43m'\u001B[39;49m\u001B[38;5;124;43ma\u001B[39;49m\u001B[38;5;124;43m'\u001B[39;49m\u001B[43m,\u001B[49m\u001B[43m \u001B[49m\u001B[38;5;124;43m\"\u001B[39;49m\u001B[38;5;124;43mds\u001B[39;49m\u001B[38;5;124;43m\"\u001B[39;49m\u001B[43m,\u001B[49m\u001B[43m \u001B[49m\u001B[38;5;124;43m'\u001B[39;49m\u001B[38;5;124;43mfdfdf\u001B[39;49m\u001B[38;5;124;43m'\u001B[39;49m\u001B[43m]\u001B[49m\u001B[43m)\u001B[49m)\n",
      "\u001B[0;31mTypeError\u001B[0m: unsupported operand type(s) for +: 'int' and 'str'"
     ]
    }
   ],
   "execution_count": 45
  },
  {
   "metadata": {},
   "cell_type": "code",
   "outputs": [],
   "execution_count": null,
   "source": "",
   "id": "10efad1ec70ffc9c"
  }
 ],
 "metadata": {
  "kernelspec": {
   "display_name": "Python 3",
   "language": "python",
   "name": "python3"
  },
  "language_info": {
   "codemirror_mode": {
    "name": "ipython",
    "version": 2
   },
   "file_extension": ".py",
   "mimetype": "text/x-python",
   "name": "python",
   "nbconvert_exporter": "python",
   "pygments_lexer": "ipython2",
   "version": "2.7.6"
  }
 },
 "nbformat": 4,
 "nbformat_minor": 5
}
