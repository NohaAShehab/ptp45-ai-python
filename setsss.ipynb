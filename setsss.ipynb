{
 "cells": [
  {
   "cell_type": "code",
   "id": "initial_id",
   "metadata": {
    "collapsed": true,
    "ExecuteTime": {
     "end_time": "2024-11-16T07:34:13.550536Z",
     "start_time": "2024-11-16T07:34:13.543158Z"
    }
   },
   "source": "print(\"Hello World\")",
   "outputs": [
    {
     "name": "stdout",
     "output_type": "stream",
     "text": [
      "Hello World\n"
     ]
    }
   ],
   "execution_count": 1
  },
  {
   "metadata": {
    "ExecuteTime": {
     "end_time": "2024-11-16T07:38:59.356116Z",
     "start_time": "2024-11-16T07:38:59.342469Z"
    }
   },
   "cell_type": "code",
   "source": [
    "# set is unordered datatype \n",
    "# no index \n",
    "# remove duplication \n",
    "mys = {\"iti\", \"Ahmed\", \"Menna\", 'ali', \"iti\", 'iti', 323,2432.333, True , None}\n",
    "print(mys)"
   ],
   "id": "71657c90580d1dcf",
   "outputs": [
    {
     "name": "stdout",
     "output_type": "stream",
     "text": [
      "{2432.333, True, None, 323, 'ali', 'iti', 'Ahmed', 'Menna'}\n"
     ]
    }
   ],
   "execution_count": 2
  },
  {
   "metadata": {
    "ExecuteTime": {
     "end_time": "2024-11-16T07:39:26.071136Z",
     "start_time": "2024-11-16T07:39:26.056716Z"
    }
   },
   "cell_type": "code",
   "source": [
    "mys = {\"iti\", \"Ahmed\", \"Menna\",( 'ali', \"iti\"),  'iti', 323,2432.333, True , None}\n",
    "print(mys)"
   ],
   "id": "915cc67b1a40f555",
   "outputs": [
    {
     "name": "stdout",
     "output_type": "stream",
     "text": [
      "{2432.333, True, None, 323, 'iti', 'Ahmed', ('ali', 'iti'), 'Menna'}\n"
     ]
    }
   ],
   "execution_count": 3
  },
  {
   "metadata": {
    "ExecuteTime": {
     "end_time": "2024-11-16T07:40:11.145998Z",
     "start_time": "2024-11-16T07:40:10.644455Z"
    }
   },
   "cell_type": "code",
   "source": [
    "mys = {\"iti\", \"Ahmed\", \"Menna\",( 'ali', \"iti\"),  ['iti', 323,2432.333], True , None}\n",
    "print(mys)"
   ],
   "id": "cd48dac871892c01",
   "outputs": [
    {
     "ename": "TypeError",
     "evalue": "unhashable type: 'list'",
     "output_type": "error",
     "traceback": [
      "\u001B[0;31m---------------------------------------------------------------------------\u001B[0m",
      "\u001B[0;31mTypeError\u001B[0m                                 Traceback (most recent call last)",
      "Cell \u001B[0;32mIn[4], line 1\u001B[0m\n\u001B[0;32m----> 1\u001B[0m mys \u001B[38;5;241m=\u001B[39m {\u001B[38;5;124m\"\u001B[39m\u001B[38;5;124miti\u001B[39m\u001B[38;5;124m\"\u001B[39m, \u001B[38;5;124m\"\u001B[39m\u001B[38;5;124mAhmed\u001B[39m\u001B[38;5;124m\"\u001B[39m, \u001B[38;5;124m\"\u001B[39m\u001B[38;5;124mMenna\u001B[39m\u001B[38;5;124m\"\u001B[39m,( \u001B[38;5;124m'\u001B[39m\u001B[38;5;124mali\u001B[39m\u001B[38;5;124m'\u001B[39m, \u001B[38;5;124m\"\u001B[39m\u001B[38;5;124miti\u001B[39m\u001B[38;5;124m\"\u001B[39m),  [\u001B[38;5;124m'\u001B[39m\u001B[38;5;124miti\u001B[39m\u001B[38;5;124m'\u001B[39m, \u001B[38;5;241m323\u001B[39m,\u001B[38;5;241m2432.333\u001B[39m], \u001B[38;5;28;01mTrue\u001B[39;00m , \u001B[38;5;28;01mNone\u001B[39;00m}\n\u001B[1;32m      2\u001B[0m \u001B[38;5;28mprint\u001B[39m(mys)\n",
      "\u001B[0;31mTypeError\u001B[0m: unhashable type: 'list'"
     ]
    }
   ],
   "execution_count": 4
  },
  {
   "metadata": {},
   "cell_type": "code",
   "outputs": [],
   "execution_count": null,
   "source": [
    "# hashable types ?? hashing --> one way encryption \n",
    "# list non-hashable ,[ tuple , string , int] --> hashable ==> immutable "
   ],
   "id": "29af33bd0a82d426"
  },
  {
   "metadata": {},
   "cell_type": "markdown",
   "source": "# set is mutable ?",
   "id": "cf96a4a05cbe70ad"
  },
  {
   "metadata": {
    "ExecuteTime": {
     "end_time": "2024-11-16T07:45:48.524358Z",
     "start_time": "2024-11-16T07:45:48.512094Z"
    }
   },
   "cell_type": "code",
   "source": [
    "# add item in set ?\n",
    "mys.add('new item')\n",
    "print(mys)"
   ],
   "id": "145c6505845bece3",
   "outputs": [
    {
     "name": "stdout",
     "output_type": "stream",
     "text": [
      "{2432.333, True, None, 323, 'iti', 'Ahmed', ('ali', 'iti'), 'new item', 'Menna'}\n"
     ]
    }
   ],
   "execution_count": 5
  },
  {
   "metadata": {
    "ExecuteTime": {
     "end_time": "2024-11-16T07:46:27.342068Z",
     "start_time": "2024-11-16T07:46:27.322081Z"
    }
   },
   "cell_type": "code",
   "source": [
    "# remove item ??\n",
    "# 1- pop item randomly \n",
    "popped_items = mys.pop()\n",
    "print(popped_items)\n",
    "print(mys)"
   ],
   "id": "4ed1b986a7d86981",
   "outputs": [
    {
     "name": "stdout",
     "output_type": "stream",
     "text": [
      "2432.333\n",
      "{True, None, 323, 'iti', 'Ahmed', ('ali', 'iti'), 'new item', 'Menna'}\n"
     ]
    }
   ],
   "execution_count": 6
  },
  {
   "metadata": {
    "ExecuteTime": {
     "end_time": "2024-11-16T07:46:51.476879Z",
     "start_time": "2024-11-16T07:46:51.470895Z"
    }
   },
   "cell_type": "code",
   "source": [
    "# get len of mys \n",
    "print(len(mys))"
   ],
   "id": "b82a4ec4745800fa",
   "outputs": [
    {
     "name": "stdout",
     "output_type": "stream",
     "text": [
      "8\n"
     ]
    }
   ],
   "execution_count": 7
  },
  {
   "metadata": {
    "ExecuteTime": {
     "end_time": "2024-11-16T07:47:06.166846Z",
     "start_time": "2024-11-16T07:47:06.160943Z"
    }
   },
   "cell_type": "code",
   "source": [
    "# check element exists?\n",
    "print('noha' in mys)"
   ],
   "id": "b8c7cc3dabfa7e14",
   "outputs": [
    {
     "name": "stdout",
     "output_type": "stream",
     "text": [
      "False\n"
     ]
    }
   ],
   "execution_count": 8
  },
  {
   "metadata": {
    "ExecuteTime": {
     "end_time": "2024-11-16T07:48:11.117177Z",
     "start_time": "2024-11-16T07:48:11.104009Z"
    }
   },
   "cell_type": "code",
   "source": [
    "# remove specific element \n",
    "if 'Ahmed' in mys:\n",
    "    mys.remove('Ahmed')\n",
    "    print(mys)\n",
    "else:\n",
    "    print(\"=--- not found ---=\")"
   ],
   "id": "29a50b1a24542be7",
   "outputs": [
    {
     "name": "stdout",
     "output_type": "stream",
     "text": [
      "{True, None, 323, 'iti', ('ali', 'iti'), 'new item', 'Menna'}\n"
     ]
    }
   ],
   "execution_count": 9
  },
  {
   "metadata": {
    "ExecuteTime": {
     "end_time": "2024-11-16T07:48:45.319018Z",
     "start_time": "2024-11-16T07:48:45.238427Z"
    }
   },
   "cell_type": "code",
   "source": [
    "# count element occurrence \n",
    "print(mys.count('iti'))"
   ],
   "id": "d158644409e446c3",
   "outputs": [
    {
     "ename": "AttributeError",
     "evalue": "'set' object has no attribute 'count'",
     "output_type": "error",
     "traceback": [
      "\u001B[0;31m---------------------------------------------------------------------------\u001B[0m",
      "\u001B[0;31mAttributeError\u001B[0m                            Traceback (most recent call last)",
      "Cell \u001B[0;32mIn[10], line 2\u001B[0m\n\u001B[1;32m      1\u001B[0m \u001B[38;5;66;03m# count element occurrence \u001B[39;00m\n\u001B[0;32m----> 2\u001B[0m \u001B[38;5;28mprint\u001B[39m(\u001B[43mmys\u001B[49m\u001B[38;5;241;43m.\u001B[39;49m\u001B[43mcount\u001B[49m(\u001B[38;5;124m'\u001B[39m\u001B[38;5;124miti\u001B[39m\u001B[38;5;124m'\u001B[39m))\n",
      "\u001B[0;31mAttributeError\u001B[0m: 'set' object has no attribute 'count'"
     ]
    }
   ],
   "execution_count": 10
  },
  {
   "metadata": {},
   "cell_type": "markdown",
   "source": "<img src=\"mared.jpeg\" width='200' height='200'>",
   "id": "42b7389fcf03ac46"
  },
  {
   "metadata": {
    "ExecuteTime": {
     "end_time": "2024-11-16T07:50:26.671944Z",
     "start_time": "2024-11-16T07:50:26.661739Z"
    }
   },
   "cell_type": "code",
   "source": [
    "# loop over set ?\n",
    "for mared in mys:\n",
    "    print(f\"item= {mared}\")\n"
   ],
   "id": "b45655e77c1873d8",
   "outputs": [
    {
     "name": "stdout",
     "output_type": "stream",
     "text": [
      "item= True\n",
      "item= None\n",
      "item= 323\n",
      "item= iti\n",
      "item= ('ali', 'iti')\n",
      "item= new item\n",
      "item= Menna\n"
     ]
    }
   ],
   "execution_count": 11
  },
  {
   "metadata": {},
   "cell_type": "code",
   "outputs": [],
   "execution_count": null,
   "source": "",
   "id": "87eb8c826f76c2ab"
  }
 ],
 "metadata": {
  "kernelspec": {
   "display_name": "Python 3",
   "language": "python",
   "name": "python3"
  },
  "language_info": {
   "codemirror_mode": {
    "name": "ipython",
    "version": 2
   },
   "file_extension": ".py",
   "mimetype": "text/x-python",
   "name": "python",
   "nbconvert_exporter": "python",
   "pygments_lexer": "ipython2",
   "version": "2.7.6"
  }
 },
 "nbformat": 4,
 "nbformat_minor": 5
}
