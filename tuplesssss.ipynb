{
 "cells": [
  {
   "metadata": {},
   "cell_type": "markdown",
   "source": [
    "# define a tuple \n",
    "<h3> tuples are immutable data types </h3>\n",
    "<p> tuples are based on sequences </p>"
   ],
   "id": "de1abc6a5d818b3c"
  },
  {
   "metadata": {},
   "cell_type": "markdown",
   "source": "<h4 style='color:red'>Define a tuple </h4>",
   "id": "bc2c4f3c1deef68c"
  },
  {
   "cell_type": "code",
   "id": "initial_id",
   "metadata": {
    "collapsed": true,
    "ExecuteTime": {
     "end_time": "2024-11-14T10:07:14.208540Z",
     "start_time": "2024-11-14T10:07:14.202705Z"
    }
   },
   "source": [
    "#\n",
    "t = ()\n",
    "myt= tuple()\n",
    "print(t , myt)"
   ],
   "outputs": [
    {
     "name": "stdout",
     "output_type": "stream",
     "text": [
      "() ()\n"
     ]
    }
   ],
   "execution_count": 1
  },
  {
   "metadata": {
    "ExecuteTime": {
     "end_time": "2024-11-14T10:07:47.804196Z",
     "start_time": "2024-11-14T10:07:47.799355Z"
    }
   },
   "cell_type": "code",
   "source": [
    "myt= (\"Ahmed\", \"Mohamed\", \"Alaa\", \"hajar\", \"abc\", 234.44, True, [\"python\", \"machine learning\", \"DL\"], None)\n",
    "print(myt)"
   ],
   "id": "6c41a02f03d7c76e",
   "outputs": [
    {
     "name": "stdout",
     "output_type": "stream",
     "text": [
      "('Ahmed', 'Mohamed', 'Alaa', 'hajar', 'abc', 234.44, True, ['python', 'machine learning', 'DL'], None)\n"
     ]
    }
   ],
   "execution_count": 3
  },
  {
   "metadata": {},
   "cell_type": "markdown",
   "source": "<h3 style='color:green'>Access elements using index start from zero </h3>",
   "id": "31b779105267d366"
  },
  {
   "metadata": {
    "ExecuteTime": {
     "end_time": "2024-11-14T10:09:28.616589Z",
     "start_time": "2024-11-14T10:09:28.612954Z"
    }
   },
   "cell_type": "code",
   "source": "print(myt[3])",
   "id": "76c7f2cd851e0d59",
   "outputs": [
    {
     "name": "stdout",
     "output_type": "stream",
     "text": [
      "hajar\n"
     ]
    }
   ],
   "execution_count": 4
  },
  {
   "metadata": {
    "ExecuteTime": {
     "end_time": "2024-11-14T10:09:39.867043Z",
     "start_time": "2024-11-14T10:09:39.859650Z"
    }
   },
   "cell_type": "code",
   "source": "print(myt[7][1])",
   "id": "49d5b42289e68614",
   "outputs": [
    {
     "name": "stdout",
     "output_type": "stream",
     "text": [
      "machine learning\n"
     ]
    }
   ],
   "execution_count": 5
  },
  {
   "metadata": {},
   "cell_type": "markdown",
   "source": "<h3 style='color:gree'>check if  element exist or not </h3>\n",
   "id": "2c1b4865c29e26ff"
  },
  {
   "metadata": {
    "ExecuteTime": {
     "end_time": "2024-11-14T10:10:44.401055Z",
     "start_time": "2024-11-14T10:10:44.397851Z"
    }
   },
   "cell_type": "code",
   "source": [
    "print(\"abbass\" in myt)\n",
    "print(\"Alaa\" in myt)\n",
    "print(\"abc\" in myt[7])"
   ],
   "id": "57d48f278c30fca9",
   "outputs": [
    {
     "name": "stdout",
     "output_type": "stream",
     "text": [
      "False\n",
      "True\n",
      "False\n"
     ]
    }
   ],
   "execution_count": 7
  },
  {
   "metadata": {},
   "cell_type": "markdown",
   "source": "# gen len of the tuple",
   "id": "41439cfcf31b7f1c"
  },
  {
   "metadata": {
    "ExecuteTime": {
     "end_time": "2024-11-14T10:11:08.150755Z",
     "start_time": "2024-11-14T10:11:08.147261Z"
    }
   },
   "cell_type": "code",
   "source": "print(len(myt))",
   "id": "8ee613ca9cede6da",
   "outputs": [
    {
     "name": "stdout",
     "output_type": "stream",
     "text": [
      "11\n"
     ]
    }
   ],
   "execution_count": 10
  },
  {
   "metadata": {
    "ExecuteTime": {
     "end_time": "2024-11-14T10:11:10.177069Z",
     "start_time": "2024-11-14T10:11:10.171778Z"
    }
   },
   "cell_type": "code",
   "source": [
    "myt = (\"Alaa\", \"Ali\", \"Mohamed\", \"reham\", \"rehab\", \"nagwa\", \"Ali\", \"Ali\", 24, 24234, \n",
    "       [\"python\", \"DB\", \"DL\"])\n",
    "\n",
    "print(myt)"
   ],
   "id": "7acd8d0939e9693f",
   "outputs": [
    {
     "name": "stdout",
     "output_type": "stream",
     "text": [
      "('Alaa', 'Ali', 'Mohamed', 'reham', 'rehab', 'nagwa', 'Ali', 'Ali', 24, 24234, ['python', 'DB', 'DL'])\n"
     ]
    }
   ],
   "execution_count": 11
  },
  {
   "metadata": {},
   "cell_type": "markdown",
   "source": "get count of element ",
   "id": "945f4b44f64eae77"
  },
  {
   "metadata": {
    "ExecuteTime": {
     "end_time": "2024-11-14T10:11:15.072791Z",
     "start_time": "2024-11-14T10:11:15.069108Z"
    }
   },
   "cell_type": "code",
   "source": "print(myt.count(\"Ali\"))",
   "id": "3e389c4f46b9633",
   "outputs": [
    {
     "name": "stdout",
     "output_type": "stream",
     "text": [
      "3\n"
     ]
    }
   ],
   "execution_count": 12
  },
  {
   "metadata": {},
   "cell_type": "markdown",
   "source": "get index of element ",
   "id": "446902f7d9384640"
  },
  {
   "metadata": {
    "ExecuteTime": {
     "end_time": "2024-11-14T10:11:20.312985Z",
     "start_time": "2024-11-14T10:11:20.309027Z"
    }
   },
   "cell_type": "code",
   "source": "print(myt.index('Ali')) # get first occurrence ",
   "id": "d6b3711816d69564",
   "outputs": [
    {
     "name": "stdout",
     "output_type": "stream",
     "text": [
      "1\n"
     ]
    }
   ],
   "execution_count": 13
  },
  {
   "metadata": {},
   "cell_type": "markdown",
   "source": [
    "# loop over the tuple \n",
    "<img src=\"mared.jpeg\" width='200'  height='200'>"
   ],
   "id": "5cfe435c587c2fc9"
  },
  {
   "metadata": {
    "ExecuteTime": {
     "end_time": "2024-11-14T10:11:43.095238Z",
     "start_time": "2024-11-14T10:11:43.088549Z"
    }
   },
   "cell_type": "code",
   "source": [
    "for mared in myt:\n",
    "    print(f\"mared {mared}\")"
   ],
   "id": "620574eb6aff9a78",
   "outputs": [
    {
     "name": "stdout",
     "output_type": "stream",
     "text": [
      "mared Alaa\n",
      "mared Ali\n",
      "mared Mohamed\n",
      "mared reham\n",
      "mared rehab\n",
      "mared nagwa\n",
      "mared Ali\n",
      "mared Ali\n",
      "mared 24\n",
      "mared 24234\n",
      "mared ['python', 'DB', 'DL']\n"
     ]
    }
   ],
   "execution_count": 14
  },
  {
   "metadata": {
    "ExecuteTime": {
     "end_time": "2024-11-14T10:11:46.244234Z",
     "start_time": "2024-11-14T10:11:46.238159Z"
    }
   },
   "cell_type": "code",
   "source": [
    "index = 0\n",
    "for mared in myt:\n",
    "    print(f'index= {index}, item={mared}')\n",
    "    index +=1"
   ],
   "id": "73476fec65c296d2",
   "outputs": [
    {
     "name": "stdout",
     "output_type": "stream",
     "text": [
      "index= 0, item=Alaa\n",
      "index= 1, item=Ali\n",
      "index= 2, item=Mohamed\n",
      "index= 3, item=reham\n",
      "index= 4, item=rehab\n",
      "index= 5, item=nagwa\n",
      "index= 6, item=Ali\n",
      "index= 7, item=Ali\n",
      "index= 8, item=24\n",
      "index= 9, item=24234\n",
      "index= 10, item=['python', 'DB', 'DL']\n"
     ]
    }
   ],
   "execution_count": 15
  },
  {
   "metadata": {},
   "cell_type": "markdown",
   "source": "# enumarate  ==> works with any iterable --> need an index --> generate it ",
   "id": "68fb522c5cad0f27"
  },
  {
   "metadata": {
    "ExecuteTime": {
     "end_time": "2024-11-14T10:11:55.192184Z",
     "start_time": "2024-11-14T10:11:55.186775Z"
    }
   },
   "cell_type": "code",
   "source": [
    "indexed_tuple = enumerate(myt)\n",
    "print(indexed_tuple)\n",
    "# print(tuple(indexed_tuple))"
   ],
   "id": "36fdeae4451f71d",
   "outputs": [
    {
     "name": "stdout",
     "output_type": "stream",
     "text": [
      "<enumerate object at 0x75aa47549d00>\n"
     ]
    }
   ],
   "execution_count": 16
  },
  {
   "metadata": {
    "ExecuteTime": {
     "end_time": "2024-11-14T10:11:57.059866Z",
     "start_time": "2024-11-14T10:11:57.055880Z"
    }
   },
   "cell_type": "code",
   "source": [
    "for i , item in indexed_tuple:\n",
    "    print(f\"i={i}, item={item}\")"
   ],
   "id": "d268b79305bb0f4b",
   "outputs": [
    {
     "name": "stdout",
     "output_type": "stream",
     "text": [
      "i=0, item=Alaa\n",
      "i=1, item=Ali\n",
      "i=2, item=Mohamed\n",
      "i=3, item=reham\n",
      "i=4, item=rehab\n",
      "i=5, item=nagwa\n",
      "i=6, item=Ali\n",
      "i=7, item=Ali\n",
      "i=8, item=24\n",
      "i=9, item=24234\n",
      "i=10, item=['python', 'DB', 'DL']\n"
     ]
    }
   ],
   "execution_count": 17
  },
  {
   "metadata": {
    "ExecuteTime": {
     "end_time": "2024-11-14T10:11:58.875242Z",
     "start_time": "2024-11-14T10:11:58.872276Z"
    }
   },
   "cell_type": "code",
   "source": [
    "for i , item in indexed_tuple:\n",
    "    print(f\"i={i}, item={item}\")"
   ],
   "id": "4792d12f8043a37c",
   "outputs": [],
   "execution_count": 18
  },
  {
   "metadata": {
    "ExecuteTime": {
     "end_time": "2024-11-14T10:11:59.939500Z",
     "start_time": "2024-11-14T10:11:59.935695Z"
    }
   },
   "cell_type": "code",
   "source": [
    "for i , item in enumerate(myt):\n",
    "    print(f\"{i}:{item}\")"
   ],
   "id": "b1fdf40246f878d8",
   "outputs": [
    {
     "name": "stdout",
     "output_type": "stream",
     "text": [
      "0:Alaa\n",
      "1:Ali\n",
      "2:Mohamed\n",
      "3:reham\n",
      "4:rehab\n",
      "5:nagwa\n",
      "6:Ali\n",
      "7:Ali\n",
      "8:24\n",
      "9:24234\n",
      "10:['python', 'DB', 'DL']\n"
     ]
    }
   ],
   "execution_count": 19
  },
  {
   "metadata": {},
   "cell_type": "markdown",
   "source": "<h2 style='color:purple'>tuple is immutable datatype </h2>",
   "id": "c5651a8d7842f489"
  },
  {
   "metadata": {},
   "cell_type": "markdown",
   "source": "1- update value at existing index ",
   "id": "cc058454f9a41bb3"
  },
  {
   "metadata": {},
   "cell_type": "markdown",
   "source": "slicing the tuple ",
   "id": "d4e8d372124f1db9"
  },
  {
   "metadata": {
    "ExecuteTime": {
     "end_time": "2024-11-14T10:12:51.164798Z",
     "start_time": "2024-11-14T10:12:51.161067Z"
    }
   },
   "cell_type": "code",
   "source": "print(myt[4:])",
   "id": "3eb799ba735fb07b",
   "outputs": [
    {
     "name": "stdout",
     "output_type": "stream",
     "text": [
      "('rehab', 'nagwa', 'Ali', 'Ali', 24, 24234, ['python', 'DB', 'DL'])\n"
     ]
    }
   ],
   "execution_count": 21
  },
  {
   "metadata": {
    "ExecuteTime": {
     "end_time": "2024-11-14T10:12:52.529799Z",
     "start_time": "2024-11-14T10:12:52.526343Z"
    }
   },
   "cell_type": "code",
   "source": "print(myt[::-1])",
   "id": "37a0a76fa73f856c",
   "outputs": [
    {
     "name": "stdout",
     "output_type": "stream",
     "text": [
      "(['python', 'DB', 'DL'], 24234, 24, 'Ali', 'Ali', 'nagwa', 'rehab', 'reham', 'Mohamed', 'Ali', 'Alaa')\n"
     ]
    }
   ],
   "execution_count": 22
  },
  {
   "metadata": {},
   "cell_type": "markdown",
   "source": "# concat the tuple ",
   "id": "d2d99cc958ae154b"
  },
  {
   "metadata": {
    "ExecuteTime": {
     "end_time": "2024-11-14T10:13:40.921525Z",
     "start_time": "2024-11-14T10:13:40.916611Z"
    }
   },
   "cell_type": "code",
   "source": [
    "l1  = ('linux', 'python', 'c', 'c++')\n",
    "l2 = ('linear algebra', 'probaility','ml', 'dl' )\n",
    "tuple_of_courses=  l1 + l2 \n",
    "print(tuple_of_courses)"
   ],
   "id": "40c51cfad17567da",
   "outputs": [
    {
     "name": "stdout",
     "output_type": "stream",
     "text": [
      "('linux', 'python', 'c', 'c++', 'linear algebra', 'probaility', 'ml', 'dl')\n"
     ]
    }
   ],
   "execution_count": 23
  },
  {
   "metadata": {
    "ExecuteTime": {
     "end_time": "2024-11-14T10:14:17.228538Z",
     "start_time": "2024-11-14T10:14:17.223958Z"
    }
   },
   "cell_type": "code",
   "source": [
    "nums = (3,4356,23,5,-10, 21)\n",
    "print(max(nums))\n",
    "print(min(nums))\n",
    "print(sum(nums))"
   ],
   "id": "64885baab2c636bc",
   "outputs": [
    {
     "name": "stdout",
     "output_type": "stream",
     "text": [
      "4356\n",
      "-10\n",
      "4398\n"
     ]
    }
   ],
   "execution_count": 24
  },
  {
   "metadata": {},
   "cell_type": "markdown",
   "source": [
    "# check this \n",
    "# tuple of one item"
   ],
   "id": "be46bf626a268f7c"
  },
  {
   "metadata": {
    "ExecuteTime": {
     "end_time": "2024-11-14T10:15:47.378985Z",
     "start_time": "2024-11-14T10:15:47.375602Z"
    }
   },
   "cell_type": "code",
   "source": [
    "stds = (\"noha\",)\n",
    "print(stds, type(stds))"
   ],
   "id": "10efad1ec70ffc9c",
   "outputs": [
    {
     "name": "stdout",
     "output_type": "stream",
     "text": [
      "('noha',) <class 'tuple'>\n"
     ]
    }
   ],
   "execution_count": 26
  },
  {
   "metadata": {
    "ExecuteTime": {
     "end_time": "2024-11-14T10:16:29.581467Z",
     "start_time": "2024-11-14T10:16:29.567393Z"
    }
   },
   "cell_type": "code",
   "source": [
    "name = tuple(\"noha\")\n",
    "print(name)"
   ],
   "id": "886aaa3adfad5df7",
   "outputs": [
    {
     "name": "stdout",
     "output_type": "stream",
     "text": [
      "('n', 'o', 'h', 'a')\n"
     ]
    }
   ],
   "execution_count": 28
  },
  {
   "metadata": {
    "ExecuteTime": {
     "end_time": "2024-11-14T10:17:00.810096Z",
     "start_time": "2024-11-14T10:17:00.805783Z"
    }
   },
   "cell_type": "code",
   "source": [
    "name = tuple([\"noha\"])\n",
    "print(name)\n"
   ],
   "id": "14a44eb21a431edc",
   "outputs": [
    {
     "name": "stdout",
     "output_type": "stream",
     "text": [
      "('noha',)\n"
     ]
    }
   ],
   "execution_count": 29
  },
  {
   "metadata": {
    "ExecuteTime": {
     "end_time": "2024-11-14T10:17:47.694182Z",
     "start_time": "2024-11-14T10:17:47.690153Z"
    }
   },
   "cell_type": "code",
   "source": [
    "name = tuple([\"noha\"])\n",
    "print(name)"
   ],
   "id": "c8557e8cb5f79bad",
   "outputs": [
    {
     "name": "stdout",
     "output_type": "stream",
     "text": [
      "('noha',)\n"
     ]
    }
   ],
   "execution_count": 31
  },
  {
   "metadata": {
    "ExecuteTime": {
     "end_time": "2024-11-14T10:18:09.195632Z",
     "start_time": "2024-11-14T10:18:09.191827Z"
    }
   },
   "cell_type": "code",
   "source": "print(myt)",
   "id": "6bd33a1d193f9862",
   "outputs": [
    {
     "name": "stdout",
     "output_type": "stream",
     "text": [
      "('Alaa', 'Ali', 'Mohamed', 'reham', 'rehab', 'nagwa', 'Ali', 'Ali', 24, 24234, ['python', 'DB', 'DL'])\n"
     ]
    }
   ],
   "execution_count": 32
  },
  {
   "metadata": {
    "ExecuteTime": {
     "end_time": "2024-11-14T10:20:03.746653Z",
     "start_time": "2024-11-14T10:20:03.743244Z"
    }
   },
   "cell_type": "code",
   "source": [
    "myt[10].append(\"abbassss\")\n",
    "print(myt)"
   ],
   "id": "7782da40d4db54ac",
   "outputs": [
    {
     "name": "stdout",
     "output_type": "stream",
     "text": [
      "('Alaa', 'Ali', 'Mohamed', 'reham', 'rehab', 'nagwa', 'Ali', 'Ali', 24, 24234, ['python', 'DB', 'DL', 'abbassss'])\n"
     ]
    }
   ],
   "execution_count": 33
  },
  {
   "metadata": {},
   "cell_type": "code",
   "outputs": [],
   "execution_count": null,
   "source": "",
   "id": "c92b8df0ba9bbde0"
  }
 ],
 "metadata": {
  "kernelspec": {
   "display_name": "Python 3",
   "language": "python",
   "name": "python3"
  },
  "language_info": {
   "codemirror_mode": {
    "name": "ipython",
    "version": 2
   },
   "file_extension": ".py",
   "mimetype": "text/x-python",
   "name": "python",
   "nbconvert_exporter": "python",
   "pygments_lexer": "ipython2",
   "version": "2.7.6"
  }
 },
 "nbformat": 4,
 "nbformat_minor": 5
}
