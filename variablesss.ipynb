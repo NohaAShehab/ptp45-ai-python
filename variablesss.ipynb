{
 "cells": [
  {
   "cell_type": "code",
   "id": "initial_id",
   "metadata": {
    "collapsed": true,
    "ExecuteTime": {
     "end_time": "2024-11-12T08:11:20.196759Z",
     "start_time": "2024-11-12T08:11:20.187455Z"
    }
   },
   "source": "print(\"hello world \")",
   "outputs": [
    {
     "name": "stdout",
     "output_type": "stream",
     "text": [
      "hello world \n"
     ]
    }
   ],
   "execution_count": 1
  },
  {
   "metadata": {},
   "cell_type": "markdown",
   "source": "# define string variables ",
   "id": "e46b19e99f5326ac"
  },
  {
   "metadata": {
    "ExecuteTime": {
     "end_time": "2024-11-12T08:25:10.616697Z",
     "start_time": "2024-11-12T08:25:10.611045Z"
    }
   },
   "cell_type": "code",
   "source": [
    "bio= '''My name is Noha\n",
    "I works at ITI\n",
    "I lives in Mansoura.'''\n",
    "\n",
    "print(bio)"
   ],
   "id": "d16016fd0dada8b2",
   "outputs": [
    {
     "name": "stdout",
     "output_type": "stream",
     "text": [
      "My name is Noha\n",
      "I works at ITI\n",
      "I lives in Mansoura.\n"
     ]
    }
   ],
   "execution_count": 2
  },
  {
   "metadata": {},
   "cell_type": "markdown",
   "source": "# check data type of variable",
   "id": "e2fec9cecdf2c945"
  },
  {
   "metadata": {
    "ExecuteTime": {
     "end_time": "2024-11-12T08:52:56.561085Z",
     "start_time": "2024-11-12T08:52:56.549883Z"
    }
   },
   "cell_type": "code",
   "source": [
    "name= 'Mohamed Sharkawy'\n",
    "print(type(name))"
   ],
   "id": "29d0ea0056937eec",
   "outputs": [
    {
     "name": "stdout",
     "output_type": "stream",
     "text": [
      "<class 'str'>\n"
     ]
    }
   ],
   "execution_count": 3
  },
  {
   "metadata": {},
   "cell_type": "markdown",
   "source": "# convert between types ",
   "id": "d66755fdd3b08c92"
  },
  {
   "metadata": {
    "ExecuteTime": {
     "end_time": "2024-11-12T08:54:32.039429Z",
     "start_time": "2024-11-12T08:54:32.024973Z"
    }
   },
   "cell_type": "code",
   "source": [
    "# convert int to string \n",
    "num = 10 \n",
    "print(num, type(num))\n",
    "num =  str(num)\n",
    "print(num, type(num))\n"
   ],
   "id": "b792cdbc08a523b3",
   "outputs": [
    {
     "name": "stdout",
     "output_type": "stream",
     "text": [
      "10 <class 'int'>\n",
      "10 <class 'str'>\n"
     ]
    }
   ],
   "execution_count": 4
  },
  {
   "metadata": {
    "ExecuteTime": {
     "end_time": "2024-11-12T08:55:22.207854Z",
     "start_time": "2024-11-12T08:55:22.201086Z"
    }
   },
   "cell_type": "code",
   "source": [
    "email = 'm@gmail.com'\n",
    "print(email, type(email))\n",
    "email = bool(email)\n",
    "print(email, type(email))"
   ],
   "id": "25e6daa00520418b",
   "outputs": [
    {
     "name": "stdout",
     "output_type": "stream",
     "text": [
      "m@gmail.com <class 'str'>\n",
      "True <class 'bool'>\n"
     ]
    }
   ],
   "execution_count": 5
  },
  {
   "metadata": {
    "ExecuteTime": {
     "end_time": "2024-11-12T08:56:03.954043Z",
     "start_time": "2024-11-12T08:56:03.934564Z"
    }
   },
   "cell_type": "code",
   "source": [
    "# convert string to int \n",
    "mystring = \"10000\"\n",
    "mystring = int(mystring)\n",
    "print(mystring, type(mystring))"
   ],
   "id": "d42d854c1254f8b2",
   "outputs": [
    {
     "name": "stdout",
     "output_type": "stream",
     "text": [
      "10000 <class 'int'>\n"
     ]
    }
   ],
   "execution_count": 6
  },
  {
   "metadata": {
    "ExecuteTime": {
     "end_time": "2024-11-12T08:56:23.392211Z",
     "start_time": "2024-11-12T08:56:22.666300Z"
    }
   },
   "cell_type": "code",
   "source": [
    "message = \"hi from iti\"\n",
    "message = int(message)"
   ],
   "id": "46e68b7425a37ac3",
   "outputs": [
    {
     "ename": "ValueError",
     "evalue": "invalid literal for int() with base 10: 'hi from iti'",
     "output_type": "error",
     "traceback": [
      "\u001B[0;31m---------------------------------------------------------------------------\u001B[0m",
      "\u001B[0;31mValueError\u001B[0m                                Traceback (most recent call last)",
      "Cell \u001B[0;32mIn[7], line 2\u001B[0m\n\u001B[1;32m      1\u001B[0m message \u001B[38;5;241m=\u001B[39m \u001B[38;5;124m\"\u001B[39m\u001B[38;5;124mhi from iti\u001B[39m\u001B[38;5;124m\"\u001B[39m\n\u001B[0;32m----> 2\u001B[0m message \u001B[38;5;241m=\u001B[39m \u001B[38;5;28;43mint\u001B[39;49m\u001B[43m(\u001B[49m\u001B[43mmessage\u001B[49m\u001B[43m)\u001B[49m\n",
      "\u001B[0;31mValueError\u001B[0m: invalid literal for int() with base 10: 'hi from iti'"
     ]
    }
   ],
   "execution_count": 7
  },
  {
   "metadata": {},
   "cell_type": "markdown",
   "source": "# check this scenario",
   "id": "69a7e9e338ca7811"
  },
  {
   "metadata": {
    "ExecuteTime": {
     "end_time": "2024-11-12T08:57:33.961145Z",
     "start_time": "2024-11-12T08:57:33.946012Z"
    }
   },
   "cell_type": "code",
   "source": [
    "num = 0\n",
    "print(bool(num))"
   ],
   "id": "a3bb6f9701ee915a",
   "outputs": [
    {
     "name": "stdout",
     "output_type": "stream",
     "text": [
      "False\n"
     ]
    }
   ],
   "execution_count": 8
  },
  {
   "metadata": {
    "ExecuteTime": {
     "end_time": "2024-11-12T08:57:56.784073Z",
     "start_time": "2024-11-12T08:57:56.772395Z"
    }
   },
   "cell_type": "code",
   "source": [
    "message = \"                 \"\n",
    "print(bool(message))"
   ],
   "id": "ad7c47913b0bfc66",
   "outputs": [
    {
     "name": "stdout",
     "output_type": "stream",
     "text": [
      "True\n"
     ]
    }
   ],
   "execution_count": 9
  },
  {
   "metadata": {
    "ExecuteTime": {
     "end_time": "2024-11-12T08:58:07.649795Z",
     "start_time": "2024-11-12T08:58:07.632974Z"
    }
   },
   "cell_type": "code",
   "source": [
    "message2 = ''\n",
    "print(bool(message2))"
   ],
   "id": "e17044adcb917075",
   "outputs": [
    {
     "name": "stdout",
     "output_type": "stream",
     "text": [
      "False\n"
     ]
    }
   ],
   "execution_count": 10
  },
  {
   "metadata": {},
   "cell_type": "markdown",
   "source": "# assignement operators ",
   "id": "1370745905092a4"
  },
  {
   "metadata": {
    "ExecuteTime": {
     "end_time": "2024-11-12T09:02:44.256078Z",
     "start_time": "2024-11-12T09:02:44.237883Z"
    }
   },
   "cell_type": "code",
   "source": [
    "num1 = 10 \n",
    "num1 += 300\n",
    "print(num1)"
   ],
   "id": "d311db4fbe91dff0",
   "outputs": [
    {
     "name": "stdout",
     "output_type": "stream",
     "text": [
      "310\n"
     ]
    }
   ],
   "execution_count": 11
  },
  {
   "metadata": {
    "ExecuteTime": {
     "end_time": "2024-11-12T09:03:29.995243Z",
     "start_time": "2024-11-12T09:03:29.986668Z"
    }
   },
   "cell_type": "code",
   "source": [
    "num1 = 100\n",
    "num2 =3\n",
    "print(num1 / num2)"
   ],
   "id": "1812025ae81f8d1f",
   "outputs": [
    {
     "name": "stdout",
     "output_type": "stream",
     "text": [
      "33.333333333333336\n"
     ]
    }
   ],
   "execution_count": 12
  },
  {
   "metadata": {
    "ExecuteTime": {
     "end_time": "2024-11-12T09:03:44.674556Z",
     "start_time": "2024-11-12T09:03:44.668621Z"
    }
   },
   "cell_type": "code",
   "source": "print(num1 % num2)",
   "id": "9be1e2d63492aa85",
   "outputs": [
    {
     "name": "stdout",
     "output_type": "stream",
     "text": [
      "1\n"
     ]
    }
   ],
   "execution_count": 13
  },
  {
   "metadata": {
    "ExecuteTime": {
     "end_time": "2024-11-12T09:03:59.753241Z",
     "start_time": "2024-11-12T09:03:59.744976Z"
    }
   },
   "cell_type": "code",
   "source": "print(num1// num2)",
   "id": "320d97b5a8d0d121",
   "outputs": [
    {
     "name": "stdout",
     "output_type": "stream",
     "text": [
      "33\n"
     ]
    }
   ],
   "execution_count": 14
  },
  {
   "metadata": {
    "ExecuteTime": {
     "end_time": "2024-11-12T09:05:17.869002Z",
     "start_time": "2024-11-12T09:05:17.851452Z"
    }
   },
   "cell_type": "code",
   "source": [
    "name=\"test\"\n",
    "rr= 234\n",
    "print(name==rr)"
   ],
   "id": "1e5364c1763f8999",
   "outputs": [
    {
     "name": "stdout",
     "output_type": "stream",
     "text": [
      "False\n"
     ]
    }
   ],
   "execution_count": 15
  },
  {
   "metadata": {},
   "cell_type": "markdown",
   "source": "# comparison --> items must be from the same type ",
   "id": "2a071acbcd1a38f4"
  },
  {
   "metadata": {
    "ExecuteTime": {
     "end_time": "2024-11-12T09:06:09.013489Z",
     "start_time": "2024-11-12T09:06:09.001492Z"
    }
   },
   "cell_type": "code",
   "source": "print('100'== 100 )",
   "id": "bf59ee96a343ae30",
   "outputs": [
    {
     "name": "stdout",
     "output_type": "stream",
     "text": [
      "False\n"
     ]
    }
   ],
   "execution_count": 16
  },
  {
   "metadata": {
    "ExecuteTime": {
     "end_time": "2024-11-12T09:06:15.693839Z",
     "start_time": "2024-11-12T09:06:15.680221Z"
    }
   },
   "cell_type": "code",
   "source": "print(True == 1)",
   "id": "12687a93d95ba3a0",
   "outputs": [
    {
     "name": "stdout",
     "output_type": "stream",
     "text": [
      "True\n"
     ]
    }
   ],
   "execution_count": 17
  },
  {
   "metadata": {
    "ExecuteTime": {
     "end_time": "2024-11-12T09:06:40.315861Z",
     "start_time": "2024-11-12T09:06:40.298006Z"
    }
   },
   "cell_type": "code",
   "source": "print(\"Ali Ayman\"== True )",
   "id": "e12621958ec6bacd",
   "outputs": [
    {
     "name": "stdout",
     "output_type": "stream",
     "text": [
      "False\n"
     ]
    }
   ],
   "execution_count": 18
  },
  {
   "metadata": {},
   "cell_type": "markdown",
   "source": "# And , or , Not ",
   "id": "b125882fe322490a"
  },
  {
   "metadata": {
    "ExecuteTime": {
     "end_time": "2024-11-12T09:07:45.775744Z",
     "start_time": "2024-11-12T09:07:45.768573Z"
    }
   },
   "cell_type": "code",
   "source": "print(True and False )",
   "id": "cb489c1897809faa",
   "outputs": [
    {
     "name": "stdout",
     "output_type": "stream",
     "text": [
      "False\n"
     ]
    }
   ],
   "execution_count": 19
  },
  {
   "metadata": {
    "ExecuteTime": {
     "end_time": "2024-11-12T09:10:22.333314Z",
     "start_time": "2024-11-12T09:10:22.325589Z"
    }
   },
   "cell_type": "code",
   "source": "print(\"Abass\" and \"Ahmed\")",
   "id": "71894f1288e7df01",
   "outputs": [
    {
     "name": "stdout",
     "output_type": "stream",
     "text": [
      "Ahmed\n"
     ]
    }
   ],
   "execution_count": 24
  },
  {
   "metadata": {
    "ExecuteTime": {
     "end_time": "2024-11-12T09:15:10.977404Z",
     "start_time": "2024-11-12T09:15:10.962630Z"
    }
   },
   "cell_type": "code",
   "source": "print(\"abbass\" or 'Israa' or 'Alaa')",
   "id": "3e32163c17b24750",
   "outputs": [
    {
     "name": "stdout",
     "output_type": "stream",
     "text": [
      "abbass\n"
     ]
    }
   ],
   "execution_count": 25
  },
  {
   "metadata": {
    "ExecuteTime": {
     "end_time": "2024-11-12T09:15:23.373706Z",
     "start_time": "2024-11-12T09:15:23.356877Z"
    }
   },
   "cell_type": "code",
   "source": "print(not \"jkhasjk\")",
   "id": "32af4d21e1bca088",
   "outputs": [
    {
     "name": "stdout",
     "output_type": "stream",
     "text": [
      "False\n"
     ]
    }
   ],
   "execution_count": 26
  },
  {
   "metadata": {},
   "cell_type": "markdown",
   "source": "# if condition",
   "id": "114be59db0fd9ed2"
  },
  {
   "metadata": {
    "ExecuteTime": {
     "end_time": "2024-11-12T09:16:43.411136Z",
     "start_time": "2024-11-12T09:16:43.390505Z"
    }
   },
   "cell_type": "code",
   "source": [
    "day=\"Tuesday\"\n",
    "if day == 'Sunday':\n",
    "    print(\"Wish you a happy week ^^ \")\n",
    "elif day == \"Thursday\":\n",
    "    print(\"Enjoy your weekend\")\n",
    "else:\n",
    "    print(\"It seems impossible until it is done ;) \")"
   ],
   "id": "eccbe11a34bc3090",
   "outputs": [
    {
     "name": "stdout",
     "output_type": "stream",
     "text": [
      "It seems impossible until it is done ;) \n"
     ]
    }
   ],
   "execution_count": 27
  },
  {
   "metadata": {},
   "cell_type": "code",
   "outputs": [],
   "execution_count": null,
   "source": "",
   "id": "1dddc4d6dca95d83"
  }
 ],
 "metadata": {
  "kernelspec": {
   "display_name": "Python 3",
   "language": "python",
   "name": "python3"
  },
  "language_info": {
   "codemirror_mode": {
    "name": "ipython",
    "version": 2
   },
   "file_extension": ".py",
   "mimetype": "text/x-python",
   "name": "python",
   "nbconvert_exporter": "python",
   "pygments_lexer": "ipython2",
   "version": "2.7.6"
  }
 },
 "nbformat": 4,
 "nbformat_minor": 5
}
