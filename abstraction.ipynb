{
 "cells": [
  {
   "cell_type": "code",
   "id": "initial_id",
   "metadata": {
    "collapsed": true,
    "ExecuteTime": {
     "end_time": "2024-11-21T12:24:15.854019Z",
     "start_time": "2024-11-21T12:24:15.847610Z"
    }
   },
   "source": [
    "from abc import  ABC, abstractmethod\n",
    "class Shape(ABC):\n",
    "    @abstractmethod\n",
    "    def calculate_area(self):\n",
    "        pass\n",
    "\n",
    "\n",
    "# s = Shape()\n",
    "# TypeError: Can't instantiate abstract class Shape without an\n",
    "# implementation for abstract method 'calculate_area'\n",
    "\n",
    "\"inherit from shape\"\n",
    "class Square(Shape):\n",
    "    def __init__(self, side):\n",
    "        self.side = side\n",
    "    def calculate_area(self):\n",
    "        return self.side * self.side\n",
    "\n",
    "mysquare = Square(4)\n",
    "print(mysquare.calculate_area())"
   ],
   "outputs": [
    {
     "name": "stdout",
     "output_type": "stream",
     "text": [
      "16\n"
     ]
    }
   ],
   "execution_count": 1
  },
  {
   "metadata": {},
   "cell_type": "markdown",
   "source": "# check this scenario",
   "id": "391ba84937473eb"
  },
  {
   "metadata": {
    "ExecuteTime": {
     "end_time": "2024-11-21T12:25:01.634051Z",
     "start_time": "2024-11-21T12:25:01.367206Z"
    }
   },
   "cell_type": "code",
   "source": [
    "from abc import  ABC, abstractmethod\n",
    "class Shape(ABC):\n",
    "    @abstractmethod\n",
    "    def calculate_area(self):\n",
    "        pass\n",
    "    \n",
    "    \n",
    "class Square(Shape):\n",
    "    def __init__(self, side):\n",
    "        self.side = side\n",
    "        \n",
    "# TypeError: Can't instantiate abstract class Square without an implementation for abstract method 'calculate_area'\n",
    "ss = Square(4)"
   ],
   "id": "de54d9c3c5a722c7",
   "outputs": [
    {
     "ename": "TypeError",
     "evalue": "Can't instantiate abstract class Square without an implementation for abstract method 'calculate_area'",
     "output_type": "error",
     "traceback": [
      "\u001B[0;31m---------------------------------------------------------------------------\u001B[0m",
      "\u001B[0;31mTypeError\u001B[0m                                 Traceback (most recent call last)",
      "Cell \u001B[0;32mIn[2], line 12\u001B[0m\n\u001B[1;32m      9\u001B[0m     \u001B[38;5;28;01mdef\u001B[39;00m \u001B[38;5;21m__init__\u001B[39m(\u001B[38;5;28mself\u001B[39m, side):\n\u001B[1;32m     10\u001B[0m         \u001B[38;5;28mself\u001B[39m\u001B[38;5;241m.\u001B[39mside \u001B[38;5;241m=\u001B[39m side\n\u001B[0;32m---> 12\u001B[0m ss \u001B[38;5;241m=\u001B[39m \u001B[43mSquare\u001B[49m\u001B[43m(\u001B[49m\u001B[38;5;241;43m4\u001B[39;49m\u001B[43m)\u001B[49m\n",
      "\u001B[0;31mTypeError\u001B[0m: Can't instantiate abstract class Square without an implementation for abstract method 'calculate_area'"
     ]
    }
   ],
   "execution_count": 2
  },
  {
   "metadata": {},
   "cell_type": "code",
   "outputs": [],
   "execution_count": null,
   "source": "",
   "id": "3694d6a1f421839d"
  },
  {
   "metadata": {},
   "cell_type": "markdown",
   "source": "# check this scenario",
   "id": "a4e5939a5042309b"
  },
  {
   "metadata": {
    "ExecuteTime": {
     "end_time": "2024-11-21T12:26:21.328100Z",
     "start_time": "2024-11-21T12:26:21.322817Z"
    }
   },
   "cell_type": "code",
   "source": [
    "from abc import ABC, abstractmethod\n",
    "# to declare abstract method you must inherit from ABC and define at least one abstract method\n",
    "class NewShape(ABC):\n",
    "    pass \n",
    "\n",
    "n= NewShape()\n",
    "print(n)"
   ],
   "id": "7e3ede23ee7f3495",
   "outputs": [
    {
     "name": "stdout",
     "output_type": "stream",
     "text": [
      "<__main__.NewShape object at 0x756ab4fae8d0>\n"
     ]
    }
   ],
   "execution_count": 4
  },
  {
   "metadata": {
    "ExecuteTime": {
     "end_time": "2024-11-21T12:28:05.719502Z",
     "start_time": "2024-11-21T12:28:05.712864Z"
    }
   },
   "cell_type": "code",
   "source": [
    "from abc import ABC, abstractmethod\n",
    "\n",
    "class Motor:\n",
    "    @abstractmethod\n",
    "    def cal_storage(self):\n",
    "        pass \n",
    "    \n",
    "    \n",
    "m = Motor()\n",
    "print(m)\n",
    "m.cal_storage()\n",
    "    "
   ],
   "id": "deb8fc63a9b063a6",
   "outputs": [
    {
     "name": "stdout",
     "output_type": "stream",
     "text": [
      "<__main__.Motor object at 0x756ab4fae810>\n"
     ]
    }
   ],
   "execution_count": 6
  },
  {
   "metadata": {},
   "cell_type": "code",
   "outputs": [],
   "execution_count": null,
   "source": "",
   "id": "3ffa035a7e1e0ef9"
  }
 ],
 "metadata": {
  "kernelspec": {
   "display_name": "Python 3",
   "language": "python",
   "name": "python3"
  },
  "language_info": {
   "codemirror_mode": {
    "name": "ipython",
    "version": 2
   },
   "file_extension": ".py",
   "mimetype": "text/x-python",
   "name": "python",
   "nbconvert_exporter": "python",
   "pygments_lexer": "ipython2",
   "version": "2.7.6"
  }
 },
 "nbformat": 4,
 "nbformat_minor": 5
}
