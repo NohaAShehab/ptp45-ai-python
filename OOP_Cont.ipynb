{
 "cells": [
  {
   "cell_type": "code",
   "id": "initial_id",
   "metadata": {
    "collapsed": true,
    "ExecuteTime": {
     "end_time": "2024-11-21T07:24:02.347890Z",
     "start_time": "2024-11-21T07:24:02.332067Z"
    }
   },
   "source": "print(\"hello world\")",
   "outputs": [
    {
     "name": "stdout",
     "output_type": "stream",
     "text": [
      "hello world\n"
     ]
    }
   ],
   "execution_count": 1
  },
  {
   "metadata": {
    "ExecuteTime": {
     "end_time": "2024-11-21T07:27:48.041028Z",
     "start_time": "2024-11-21T07:27:47.986127Z"
    }
   },
   "cell_type": "code",
   "source": [
    "class Student:\n",
    "    def __init__(self, id, name, age):  \n",
    "        self.id = id \n",
    "        self.name = name  # id , name , age  --> instance variables \n",
    "        self.age = age \n",
    "        \n",
    "        \n",
    "    def welcome():\n",
    "        print(\"welcome to student \")\n",
    "    def printstd(self):\n",
    "        print(f\"My name is {self.name}, my id is {self.id}, My age is {self.age}\")\n",
    "        \n",
    "std = Student(2, 'abc', 23)\n",
    "std.welcome()"
   ],
   "id": "3c31f5362919554e",
   "outputs": [
    {
     "ename": "TypeError",
     "evalue": "Student.welcome() takes 0 positional arguments but 1 was given",
     "output_type": "error",
     "traceback": [
      "\u001B[0;31m---------------------------------------------------------------------------\u001B[0m",
      "\u001B[0;31mTypeError\u001B[0m                                 Traceback (most recent call last)",
      "Cell \u001B[0;32mIn[4], line 14\u001B[0m\n\u001B[1;32m     11\u001B[0m         \u001B[38;5;28mprint\u001B[39m(\u001B[38;5;124mf\u001B[39m\u001B[38;5;124m\"\u001B[39m\u001B[38;5;124mMy name is \u001B[39m\u001B[38;5;132;01m{\u001B[39;00m\u001B[38;5;28mself\u001B[39m\u001B[38;5;241m.\u001B[39mname\u001B[38;5;132;01m}\u001B[39;00m\u001B[38;5;124m, my id is \u001B[39m\u001B[38;5;132;01m{\u001B[39;00m\u001B[38;5;28mself\u001B[39m\u001B[38;5;241m.\u001B[39mid\u001B[38;5;132;01m}\u001B[39;00m\u001B[38;5;124m, My age is \u001B[39m\u001B[38;5;132;01m{\u001B[39;00m\u001B[38;5;28mself\u001B[39m\u001B[38;5;241m.\u001B[39mage\u001B[38;5;132;01m}\u001B[39;00m\u001B[38;5;124m\"\u001B[39m)\n\u001B[1;32m     13\u001B[0m std \u001B[38;5;241m=\u001B[39m Student(\u001B[38;5;241m2\u001B[39m, \u001B[38;5;124m'\u001B[39m\u001B[38;5;124mabc\u001B[39m\u001B[38;5;124m'\u001B[39m, \u001B[38;5;241m23\u001B[39m)\n\u001B[0;32m---> 14\u001B[0m \u001B[43mstd\u001B[49m\u001B[38;5;241;43m.\u001B[39;49m\u001B[43mwelcome\u001B[49m\u001B[43m(\u001B[49m\u001B[43m)\u001B[49m\n",
      "\u001B[0;31mTypeError\u001B[0m: Student.welcome() takes 0 positional arguments but 1 was given"
     ]
    }
   ],
   "execution_count": 4
  },
  {
   "metadata": {
    "ExecuteTime": {
     "end_time": "2024-11-21T07:28:23.207659Z",
     "start_time": "2024-11-21T07:28:23.192041Z"
    }
   },
   "cell_type": "code",
   "source": "Student.welcome()",
   "id": "dd44ac074dce34ad",
   "outputs": [
    {
     "name": "stdout",
     "output_type": "stream",
     "text": [
      "welcome to student \n"
     ]
    }
   ],
   "execution_count": 5
  },
  {
   "metadata": {
    "ExecuteTime": {
     "end_time": "2024-11-21T07:31:16.066885Z",
     "start_time": "2024-11-21T07:31:16.040369Z"
    }
   },
   "cell_type": "code",
   "source": [
    "class Student:\n",
    "    no_of_students=  0 # class variable -->represent class property \n",
    "    # shared property between all class instance \n",
    "    def __init__(self, id, name, age):  \n",
    "        self.id = id \n",
    "        self.name = name  # id , name , age  --> instance variables \n",
    "        self.age = age \n",
    "        Student.no_of_students+=1\n",
    "        \n",
    "    def welcome():\n",
    "        print(Student.no_of_students)\n",
    "        print(\"welcome to student \")\n",
    "    def printstd(self):\n",
    "        print(f\"My name is {self.name}, my id is {self.id}, My age is {self.age}\")\n",
    "        \n",
    "std = Student(2, 'abc', 23)\n",
    "Student.welcome()\n",
    "print(Student.no_of_students)"
   ],
   "id": "170624a67cd45d17",
   "outputs": [
    {
     "name": "stdout",
     "output_type": "stream",
     "text": [
      "1\n",
      "welcome to student \n"
     ]
    }
   ],
   "execution_count": 7
  },
  {
   "metadata": {
    "ExecuteTime": {
     "end_time": "2024-11-21T07:32:55.405914Z",
     "start_time": "2024-11-21T07:32:55.384612Z"
    }
   },
   "cell_type": "code",
   "source": [
    "class Student:\n",
    "    no_of_students=  0 # class variable -->represent class property \n",
    "    # shared property between all class instance \n",
    "    def __init__(self, id, name, age):  \n",
    "        self.id = id \n",
    "        self.name = name  # id , name , age  --> instance variables \n",
    "        self.age = age \n",
    "        Student.no_of_students+=1\n",
    "        \n",
    "    # instance method ==> first param refers to the object address --> self \n",
    "    # Usually first parameter of a method is named 'self' \n",
    "    def hi(abbass):  # abbass --> is the object address \n",
    "        print(f\"hi {abbass}\")\n",
    "        \n",
    "s = Student(2, 'abc', 23)\n",
    "s.hi()\n",
    "        \n"
   ],
   "id": "cf5b4de6d69e299a",
   "outputs": [
    {
     "name": "stdout",
     "output_type": "stream",
     "text": [
      "hi <__main__.Student object at 0x75c8c40d4710>\n"
     ]
    }
   ],
   "execution_count": 8
  },
  {
   "metadata": {
    "ExecuteTime": {
     "end_time": "2024-11-21T07:36:47.408812Z",
     "start_time": "2024-11-21T07:36:47.387117Z"
    }
   },
   "cell_type": "code",
   "source": [
    "class Shape:\n",
    "    def __init__(duck): \n",
    "        print(duck)\n",
    "        \n",
    "    def setdim(num):\n",
    "        print(num)\n",
    "        \n",
    "news = Shape()\n",
    "# news.setdim(10)\n",
    "Shape.setdim(10)"
   ],
   "id": "dd34d9d55b830b2a",
   "outputs": [
    {
     "name": "stdout",
     "output_type": "stream",
     "text": [
      "<__main__.Shape object at 0x75c8c40db860>\n",
      "10\n"
     ]
    }
   ],
   "execution_count": 11
  },
  {
   "metadata": {},
   "cell_type": "markdown",
   "source": "# <p style=\"padding:10px;background-color:#e5855c;margin:0;color:white;font-family:newtimeroman;font-size:150%;text-align:center;border-radius: 15px 50px;overflow:hidden;font-weight:500\">Class Method</p>",
   "id": "a8ab7cca3ec8e467"
  },
  {
   "metadata": {
    "ExecuteTime": {
     "end_time": "2024-11-21T07:49:18.279075Z",
     "start_time": "2024-11-21T07:49:18.251976Z"
    }
   },
   "cell_type": "code",
   "source": [
    "class Employee:\n",
    "    commission = 10 \n",
    "    def __init__(self, name, salary=1000):\n",
    "        self.name = name\n",
    "        self.salary = salary\n",
    "        \n",
    "    # please consider the first arguement in the function refers to the class not the instance \n",
    "    # I need to use this function without using instance \n",
    "    # I need the class name not the instance \n",
    "    # I need to till the interpreter that this methods refers to the class --> define class behaviour \n",
    "    # Usually first parameter of such methods is named 'cls' \n",
    "    @classmethod\n",
    "    def modifyCommission(cls, newvalue):\n",
    "        print(cls) # first parameter refer to the class \n",
    "        if isinstance(newvalue, int):\n",
    "            # Employee.commission = newvalue\n",
    "            cls.commission = newvalue\n",
    "            \n",
    "\n",
    "    \n",
    "    \n",
    "Employee.modifyCommission(100)\n",
    "emp = Employee('<NAME>')\n",
    "\n"
   ],
   "id": "80044eb271fa2506",
   "outputs": [
    {
     "name": "stdout",
     "output_type": "stream",
     "text": [
      "<class '__main__.Employee'>\n"
     ]
    }
   ],
   "execution_count": 15
  },
  {
   "metadata": {},
   "cell_type": "markdown",
   "source": [
    "# reading\n",
    "1- https://refactoring.guru/design-patterns/decorator\n",
    "2- https://www.datacamp.com/tutorial/decorators-python\n"
   ],
   "id": "e1d09dbd175bacf3"
  },
  {
   "metadata": {
    "ExecuteTime": {
     "end_time": "2024-11-21T07:56:34.975527Z",
     "start_time": "2024-11-21T07:56:34.860473Z"
    }
   },
   "cell_type": "code",
   "source": [
    "class Employee:\n",
    "    commission = 10 \n",
    "    def __init__(self, name, salary):\n",
    "        self.name = name\n",
    "        self.salary = salary\n",
    "\n",
    "    def __init__(self):\n",
    "        self.name = 'abc'\n",
    "        self.salary=1000\n",
    "        \n",
    "e = Employee('<NAME>', 2000)\n",
    "e2 = Employee()\n"
   ],
   "id": "bc0f2d6924c5c922",
   "outputs": [
    {
     "ename": "TypeError",
     "evalue": "Employee.__init__() takes 1 positional argument but 3 were given",
     "output_type": "error",
     "traceback": [
      "\u001B[0;31m---------------------------------------------------------------------------\u001B[0m",
      "\u001B[0;31mTypeError\u001B[0m                                 Traceback (most recent call last)",
      "Cell \u001B[0;32mIn[17], line 11\u001B[0m\n\u001B[1;32m      8\u001B[0m         \u001B[38;5;28mself\u001B[39m\u001B[38;5;241m.\u001B[39mname \u001B[38;5;241m=\u001B[39m \u001B[38;5;124m'\u001B[39m\u001B[38;5;124mabc\u001B[39m\u001B[38;5;124m'\u001B[39m\n\u001B[1;32m      9\u001B[0m         \u001B[38;5;28mself\u001B[39m\u001B[38;5;241m.\u001B[39msalary\u001B[38;5;241m=\u001B[39m\u001B[38;5;241m1000\u001B[39m\n\u001B[0;32m---> 11\u001B[0m e \u001B[38;5;241m=\u001B[39m \u001B[43mEmployee\u001B[49m\u001B[43m(\u001B[49m\u001B[38;5;124;43m'\u001B[39;49m\u001B[38;5;124;43m<NAME>\u001B[39;49m\u001B[38;5;124;43m'\u001B[39;49m\u001B[43m,\u001B[49m\u001B[43m \u001B[49m\u001B[38;5;241;43m2000\u001B[39;49m\u001B[43m)\u001B[49m\n\u001B[1;32m     12\u001B[0m e2 \u001B[38;5;241m=\u001B[39m Employee()\n",
      "\u001B[0;31mTypeError\u001B[0m: Employee.__init__() takes 1 positional argument but 3 were given"
     ]
    }
   ],
   "execution_count": 17
  },
  {
   "metadata": {
    "ExecuteTime": {
     "end_time": "2024-11-21T07:57:56.219845Z",
     "start_time": "2024-11-21T07:57:56.205364Z"
    }
   },
   "cell_type": "code",
   "source": [
    "class Employee:\n",
    "    commission = 10 \n",
    "    def __init__(self, name=\"\", salary=212):\n",
    "        self.name = name\n",
    "        self.salary = salary\n",
    "\n",
    "\n",
    "        \n",
    "e = Employee('<NAME>', 2000)\n",
    "e2 = Employee()"
   ],
   "id": "6e46321996356be4",
   "outputs": [],
   "execution_count": 18
  },
  {
   "metadata": {
    "ExecuteTime": {
     "end_time": "2024-11-21T07:59:06.040672Z",
     "start_time": "2024-11-21T07:59:06.020502Z"
    }
   },
   "cell_type": "code",
   "source": [
    "class Employee:\n",
    "    commission = 10 \n",
    "    def __init__(self, name, salary):\n",
    "        self.name = name\n",
    "        self.salary = salary\n",
    "    @classmethod\n",
    "    def create_default_object (cls):\n",
    "        return Employee('<NAME>', 2000)\n",
    "        \n",
    "e = Employee('<NAME>', 2000)\n",
    "e2 = Employee.create_default_object()"
   ],
   "id": "7f64aef8d6791573",
   "outputs": [],
   "execution_count": 19
  },
  {
   "metadata": {
    "ExecuteTime": {
     "end_time": "2024-11-21T08:00:29.661173Z",
     "start_time": "2024-11-21T08:00:29.646480Z"
    }
   },
   "cell_type": "code",
   "source": [
    "class Employee:\n",
    "    commission = 10 \n",
    "    def __init__(self, name, salary):\n",
    "        self.name = name\n",
    "        self.salary = salary\n",
    "        \n",
    "    # classmethod --> can be used as object factory \n",
    "    @classmethod\n",
    "    def create_default_object (cls):\n",
    "        return cls(\"emp\", 1000)\n",
    "        \n",
    "e = Employee(\"Marioma\", 2000)\n",
    "e2 = Employee.create_default_object()\n",
    "\n",
    "print(e.__dict__)\n",
    "print(e2.__dict__)"
   ],
   "id": "1b6ec0744cc2b9f8",
   "outputs": [
    {
     "name": "stdout",
     "output_type": "stream",
     "text": [
      "{'name': '<NAME>', 'salary': 2000}\n",
      "{'name': 'emp', 'salary': 1000}\n"
     ]
    }
   ],
   "execution_count": 20
  },
  {
   "metadata": {},
   "cell_type": "markdown",
   "source": "# helper",
   "id": "572e8abf6bbdc8ab"
  },
  {
   "metadata": {
    "ExecuteTime": {
     "end_time": "2024-11-21T08:07:57.317502Z",
     "start_time": "2024-11-21T08:07:57.296707Z"
    }
   },
   "cell_type": "code",
   "source": [
    "class Employee:\n",
    "    def __init__(self, name, salary ):\n",
    "        self.name= name\n",
    "        self.salary = salary\n",
    "        \n",
    "    \n",
    "\n",
    "emp = Employee(\"Alaa\", 20000)\n",
    "\n",
    "def cal_net_salary(salary):\n",
    "    return salary * .8 \n",
    "print(cal_net_salary(emp.salary))\n",
    "print(cal_net_salary(50000))"
   ],
   "id": "b6061fcae24d3492",
   "outputs": [
    {
     "name": "stdout",
     "output_type": "stream",
     "text": [
      "16000.0\n",
      "40000.0\n"
     ]
    }
   ],
   "execution_count": 22
  },
  {
   "metadata": {
    "ExecuteTime": {
     "end_time": "2024-11-21T08:10:58.603050Z",
     "start_time": "2024-11-21T08:10:58.580368Z"
    }
   },
   "cell_type": "code",
   "source": [
    "class Employee:\n",
    "    def __init__(self, name, salary ):\n",
    "        self.name= name\n",
    "        self.salary = salary\n",
    "    \n",
    "    # please this parameter is neither self nor cls --> this is only a helper \n",
    "    # use decorator \n",
    "    @staticmethod\n",
    "    def cal_net_salary(abbassssss):\n",
    "        return abbassssss * .8 \n",
    "    \n",
    "\n",
    "print(Employee.cal_net_salary(124412445255))   \n",
    "\n",
    "# emp = Employee(\"Alaa\" ,289428964689)\n",
    "# emp.cal_net_salary(emp.salary)        "
   ],
   "id": "82f7b2d8b8d14a47",
   "outputs": [
    {
     "name": "stdout",
     "output_type": "stream",
     "text": [
      "99529956204.0\n"
     ]
    }
   ],
   "execution_count": 24
  },
  {
   "metadata": {},
   "cell_type": "code",
   "outputs": [],
   "execution_count": null,
   "source": "",
   "id": "d5e9c7e8b1700637"
  }
 ],
 "metadata": {
  "kernelspec": {
   "display_name": "Python 3",
   "language": "python",
   "name": "python3"
  },
  "language_info": {
   "codemirror_mode": {
    "name": "ipython",
    "version": 2
   },
   "file_extension": ".py",
   "mimetype": "text/x-python",
   "name": "python",
   "nbconvert_exporter": "python",
   "pygments_lexer": "ipython2",
   "version": "2.7.6"
  }
 },
 "nbformat": 4,
 "nbformat_minor": 5
}
