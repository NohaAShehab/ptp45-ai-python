{
 "cells": [
  {
   "cell_type": "code",
   "id": "initial_id",
   "metadata": {
    "collapsed": true,
    "ExecuteTime": {
     "end_time": "2024-11-20T13:16:19.380678Z",
     "start_time": "2024-11-20T13:16:19.359254Z"
    }
   },
   "source": [
    "info = [\"noha\", \"iti\", 'python', 2014]\n",
    "\n",
    "info = {\n",
    "    \"name\":\"noha\",\n",
    "    \"work\":\"iti\",\n",
    "    \"grad\":2014,\n",
    "    \"course\": \"python\"\n",
    "}"
   ],
   "outputs": [],
   "execution_count": 3
  },
  {
   "metadata": {},
   "cell_type": "markdown",
   "source": "# students",
   "id": "914cd93ea9debf2b"
  },
  {
   "metadata": {
    "ExecuteTime": {
     "end_time": "2024-11-20T13:18:09.155567Z",
     "start_time": "2024-11-20T13:18:09.148097Z"
    }
   },
   "cell_type": "code",
   "source": [
    "std1 = {\"id\":1, \"name\": \"Ali\", \"grade\": 100}\n",
    "std2= {\"id\":2, \"stdname\": \"Bob\", \"grade\": 200}\n",
    "std3= {\"id\":3, \"stdname\": \"Ali\", \"stdgrade\": 300}\n",
    "\n",
    "def printstd(std):\n",
    "    print(f\"{std['name']}, {std['id']}, {std['grade']}\")\n",
    "    \n",
    "printstd(std1)"
   ],
   "id": "fd835056d6c5f28d",
   "outputs": [
    {
     "name": "stdout",
     "output_type": "stream",
     "text": [
      "Ali, 1, 100\n"
     ]
    }
   ],
   "execution_count": 4
  },
  {
   "metadata": {
    "ExecuteTime": {
     "end_time": "2024-11-20T13:18:16.981731Z",
     "start_time": "2024-11-20T13:18:16.665766Z"
    }
   },
   "cell_type": "code",
   "source": "printstd(std2)",
   "id": "606532d3bcc40823",
   "outputs": [
    {
     "ename": "KeyError",
     "evalue": "'name'",
     "output_type": "error",
     "traceback": [
      "\u001B[0;31m---------------------------------------------------------------------------\u001B[0m",
      "\u001B[0;31mKeyError\u001B[0m                                  Traceback (most recent call last)",
      "Cell \u001B[0;32mIn[5], line 1\u001B[0m\n\u001B[0;32m----> 1\u001B[0m \u001B[43mprintstd\u001B[49m\u001B[43m(\u001B[49m\u001B[43mstd2\u001B[49m\u001B[43m)\u001B[49m\n",
      "Cell \u001B[0;32mIn[4], line 6\u001B[0m, in \u001B[0;36mprintstd\u001B[0;34m(std)\u001B[0m\n\u001B[1;32m      5\u001B[0m \u001B[38;5;28;01mdef\u001B[39;00m \u001B[38;5;21mprintstd\u001B[39m(std):\n\u001B[0;32m----> 6\u001B[0m     \u001B[38;5;28mprint\u001B[39m(\u001B[38;5;124mf\u001B[39m\u001B[38;5;124m\"\u001B[39m\u001B[38;5;132;01m{\u001B[39;00m\u001B[43mstd\u001B[49m\u001B[43m[\u001B[49m\u001B[38;5;124;43m'\u001B[39;49m\u001B[38;5;124;43mname\u001B[39;49m\u001B[38;5;124;43m'\u001B[39;49m\u001B[43m]\u001B[49m\u001B[38;5;132;01m}\u001B[39;00m\u001B[38;5;124m, \u001B[39m\u001B[38;5;132;01m{\u001B[39;00mstd[\u001B[38;5;124m'\u001B[39m\u001B[38;5;124mid\u001B[39m\u001B[38;5;124m'\u001B[39m]\u001B[38;5;132;01m}\u001B[39;00m\u001B[38;5;124m, \u001B[39m\u001B[38;5;132;01m{\u001B[39;00mstd[\u001B[38;5;124m'\u001B[39m\u001B[38;5;124mgrade\u001B[39m\u001B[38;5;124m'\u001B[39m]\u001B[38;5;132;01m}\u001B[39;00m\u001B[38;5;124m\"\u001B[39m)\n",
      "\u001B[0;31mKeyError\u001B[0m: 'name'"
     ]
    }
   ],
   "execution_count": 5
  },
  {
   "metadata": {},
   "cell_type": "markdown",
   "source": [
    "<h3> I need to create new Datatype for my student - -> contains keys and their values \n",
    "and I need to add some functionality to be perfomed on this datatype </h3>\n",
    "\n",
    "Then we can use <h1> Classes </h1>"
   ],
   "id": "e5db79e92b7a283c"
  },
  {
   "metadata": {
    "ExecuteTime": {
     "end_time": "2024-11-20T13:22:16.115557Z",
     "start_time": "2024-11-20T13:22:16.109218Z"
    }
   },
   "cell_type": "code",
   "source": [
    "l = [45,243,24]\n",
    "print(type(l))"
   ],
   "id": "2f0756f2bead2d19",
   "outputs": [
    {
     "name": "stdout",
     "output_type": "stream",
     "text": [
      "<class 'list'>\n"
     ]
    }
   ],
   "execution_count": 6
  },
  {
   "metadata": {},
   "cell_type": "markdown",
   "source": "# <p style=\"padding:10px;background-color:pink;margin:0;color:black;font-family:newtimeroman;font-size:150%;text-align:center;border-radius: 15px 50px;overflow:hidden;font-weight:500\">OOP</p>",
   "id": "4340c23016071115"
  },
  {
   "metadata": {},
   "cell_type": "markdown",
   "source": "<h2>Define a class </h2>",
   "id": "9e5b0ef3c4a9e372"
  },
  {
   "metadata": {
    "ExecuteTime": {
     "end_time": "2024-11-20T13:28:36.524267Z",
     "start_time": "2024-11-20T13:28:36.518798Z"
    }
   },
   "cell_type": "code",
   "source": [
    "class Student:\n",
    "    pass \n",
    "# take an object \n",
    "s = Student()\n",
    "print(type(s), s)"
   ],
   "id": "b6a472d84dba4869",
   "outputs": [
    {
     "name": "stdout",
     "output_type": "stream",
     "text": [
      "<class '__main__.Student'> <__main__.Student object at 0x72c4340ebc50>\n"
     ]
    }
   ],
   "execution_count": 8
  },
  {
   "metadata": {},
   "cell_type": "markdown",
   "source": "as we are working with loosely dynamically typed lang.",
   "id": "d62582299b56f21c"
  },
  {
   "metadata": {
    "ExecuteTime": {
     "end_time": "2024-11-20T13:29:21.279308Z",
     "start_time": "2024-11-20T13:29:21.272464Z"
    }
   },
   "cell_type": "code",
   "source": "print(s)",
   "id": "d8024bb2393b7305",
   "outputs": [
    {
     "name": "stdout",
     "output_type": "stream",
     "text": [
      "<__main__.Student object at 0x72c4340ebc50>\n"
     ]
    }
   ],
   "execution_count": 9
  },
  {
   "metadata": {
    "ExecuteTime": {
     "end_time": "2024-11-20T13:31:17.063882Z",
     "start_time": "2024-11-20T13:31:17.054955Z"
    }
   },
   "cell_type": "code",
   "source": [
    "# add property in runtime \n",
    "s.name = 'Ahmed'\n",
    "print(s)\n",
    "s.email = 'ahmed@gmail.com'"
   ],
   "id": "9c7ef8deeea7a839",
   "outputs": [
    {
     "name": "stdout",
     "output_type": "stream",
     "text": [
      "<__main__.Student object at 0x72c4340ebc50>\n"
     ]
    }
   ],
   "execution_count": 12
  },
  {
   "metadata": {
    "ExecuteTime": {
     "end_time": "2024-11-20T13:32:16.783381Z",
     "start_time": "2024-11-20T13:32:16.771750Z"
    }
   },
   "cell_type": "code",
   "source": [
    "s2 = Student()\n",
    "s2.fname= \"Mohamed\"\n",
    "s2.grade = \"A++\"\n",
    "print(s , s2)\n"
   ],
   "id": "deb9c72a6f8a7078",
   "outputs": [
    {
     "name": "stdout",
     "output_type": "stream",
     "text": [
      "<__main__.Student object at 0x72c4340ebc50> <__main__.Student object at 0x72c4340ee510>\n"
     ]
    }
   ],
   "execution_count": 16
  },
  {
   "metadata": {},
   "cell_type": "markdown",
   "source": "# access object properties using object",
   "id": "a6b72337bbed70d7"
  },
  {
   "metadata": {
    "ExecuteTime": {
     "end_time": "2024-11-20T13:37:58.460024Z",
     "start_time": "2024-11-20T13:37:58.453697Z"
    }
   },
   "cell_type": "code",
   "source": [
    "class Student:\n",
    "    pass\n",
    "\n",
    "# take an object\n",
    "ss = Student()\n",
    "mm = Student()\n",
    "# add properties to the object ?\n",
    "ss.name = 'noha'\n",
    "mm.track = 'ai'\n",
    "# loosely dynamically typed lang. change object structure in the run time "
   ],
   "id": "f8954962c522f83b",
   "outputs": [],
   "execution_count": 18
  },
  {
   "metadata": {},
   "cell_type": "markdown",
   "source": "# using Constructor to customize object creation ",
   "id": "3a4339a00decd6bb"
  },
  {
   "metadata": {
    "ExecuteTime": {
     "end_time": "2024-11-20T13:40:18.481620Z",
     "start_time": "2024-11-20T13:40:18.475400Z"
    }
   },
   "cell_type": "code",
   "source": [
    "class Student:\n",
    "    def __init__(self): # self object address in memory \n",
    "        print(f'object is being created {self}')\n",
    "        \n",
    "s1 = Student()\n",
    "s2 = Student()\n",
    "print(s1, s2)"
   ],
   "id": "4ef94af5ba85ab9c",
   "outputs": [
    {
     "name": "stdout",
     "output_type": "stream",
     "text": [
      "object is being created <__main__.Student object at 0x72c4340ef620>\n",
      "object is being created <__main__.Student object at 0x72c4340efc20>\n",
      "<__main__.Student object at 0x72c4340ef620> <__main__.Student object at 0x72c4340efc20>\n"
     ]
    }
   ],
   "execution_count": 19
  },
  {
   "metadata": {},
   "cell_type": "markdown",
   "source": "# add common properties for the object",
   "id": "3efbac63533f51de"
  },
  {
   "metadata": {
    "ExecuteTime": {
     "end_time": "2024-11-20T13:43:41.458322Z",
     "start_time": "2024-11-20T13:43:41.450768Z"
    }
   },
   "cell_type": "code",
   "source": [
    "class Student:\n",
    "    def __init__(self): # self object address in memory \n",
    "        print(f'object is being created {self}')\n",
    "        self.name='std'\n",
    "        self.id = 1\n",
    "        self.grade = 10 \n",
    "        \n",
    "s1 = Student()\n",
    "s2 = Student()\n",
    "print(s1, s2)\n",
    "print(s1.__dict__) # display object properties in form of dict \n",
    "print(s2.__dict__)\n",
    "\n",
    "# change s1name\n",
    "s1.name='Yasmin'\n",
    "print(s1.__dict__)"
   ],
   "id": "88dfd81e28ff7aab",
   "outputs": [
    {
     "name": "stdout",
     "output_type": "stream",
     "text": [
      "object is being created <__main__.Student object at 0x72c4340ef110>\n",
      "object is being created <__main__.Student object at 0x72c4340ef860>\n",
      "<__main__.Student object at 0x72c4340ef110> <__main__.Student object at 0x72c4340ef860>\n",
      "{'name': 'std', 'id': 1, 'grade': 10}\n",
      "{'name': 'std', 'id': 1, 'grade': 10}\n",
      "{'name': 'Yasmin', 'id': 1, 'grade': 10}\n"
     ]
    }
   ],
   "execution_count": 22
  },
  {
   "metadata": {},
   "cell_type": "markdown",
   "source": "# customize values of the object properties while creating object ",
   "id": "a11630aae19b72b2"
  },
  {
   "metadata": {
    "ExecuteTime": {
     "end_time": "2024-11-20T13:45:39.219616Z",
     "start_time": "2024-11-20T13:45:39.192888Z"
    }
   },
   "cell_type": "code",
   "source": [
    "class Student:\n",
    "    def __init__(self, name, id, grade):\n",
    "        self.name = name\n",
    "        self.id = id\n",
    "        self.grade = grade\n",
    "    \n",
    "# create object\n",
    "s = Student(\"a\", 1, 100)\n",
    "s2= Student(\"b\", 2)\n",
    "        "
   ],
   "id": "28df4935fe398c16",
   "outputs": [
    {
     "ename": "TypeError",
     "evalue": "Student.__init__() missing 1 required positional argument: 'grade'",
     "output_type": "error",
     "traceback": [
      "\u001B[0;31m---------------------------------------------------------------------------\u001B[0m",
      "\u001B[0;31mTypeError\u001B[0m                                 Traceback (most recent call last)",
      "Cell \u001B[0;32mIn[23], line 9\u001B[0m\n\u001B[1;32m      7\u001B[0m \u001B[38;5;66;03m# create object\u001B[39;00m\n\u001B[1;32m      8\u001B[0m s \u001B[38;5;241m=\u001B[39m Student(\u001B[38;5;124m\"\u001B[39m\u001B[38;5;124ma\u001B[39m\u001B[38;5;124m\"\u001B[39m, \u001B[38;5;241m1\u001B[39m, \u001B[38;5;241m100\u001B[39m)\n\u001B[0;32m----> 9\u001B[0m s2\u001B[38;5;241m=\u001B[39m \u001B[43mStudent\u001B[49m\u001B[43m(\u001B[49m\u001B[38;5;124;43m\"\u001B[39;49m\u001B[38;5;124;43mb\u001B[39;49m\u001B[38;5;124;43m\"\u001B[39;49m\u001B[43m,\u001B[49m\u001B[43m \u001B[49m\u001B[38;5;241;43m2\u001B[39;49m\u001B[43m)\u001B[49m\n",
      "\u001B[0;31mTypeError\u001B[0m: Student.__init__() missing 1 required positional argument: 'grade'"
     ]
    }
   ],
   "execution_count": 23
  },
  {
   "metadata": {},
   "cell_type": "markdown",
   "source": "# make some properties have default values ?",
   "id": "2e1cc56952d1dd16"
  },
  {
   "metadata": {
    "ExecuteTime": {
     "end_time": "2024-11-20T13:46:56.971820Z",
     "start_time": "2024-11-20T13:46:56.965270Z"
    }
   },
   "cell_type": "code",
   "source": [
    "class Student:\n",
    "    def __init__(self, name, id, grade=1):\n",
    "        self.name = name    # name, id , grade are instance variables ? \n",
    "        # their values depends the caller instance \n",
    "        self.id = id\n",
    "        self.grade = grade\n",
    "        \n",
    "s3 = Student(\"a\", 1, 100)\n",
    "s4 = Student(\"b\", 2)\n",
    "print(s3.__dict__)\n",
    "print(s4.__dict__)"
   ],
   "id": "48a0b9476ba0912b",
   "outputs": [
    {
     "name": "stdout",
     "output_type": "stream",
     "text": [
      "{'name': 'a', 'id': 1, 'grade': 100}\n",
      "{'name': 'b', 'id': 2, 'grade': 1}\n"
     ]
    }
   ],
   "execution_count": 24
  },
  {
   "metadata": {
    "ExecuteTime": {
     "end_time": "2024-11-20T13:48:06.420124Z",
     "start_time": "2024-11-20T13:48:06.403672Z"
    }
   },
   "cell_type": "code",
   "source": [
    "s4.city= 'mansoura'\n",
    "print(s4.__dict__)"
   ],
   "id": "80e4cf39d8ab3b3b",
   "outputs": [
    {
     "name": "stdout",
     "output_type": "stream",
     "text": [
      "{'name': 'b', 'id': 2, 'grade': 1, 'city': 'mansoura'}\n"
     ]
    }
   ],
   "execution_count": 25
  },
  {
   "metadata": {},
   "cell_type": "markdown",
   "source": "# <p style=\"padding:10px;background-color:pink;margin:0;color:black;font-family:newtimeroman;font-size:150%;text-align:center;border-radius: 15px 50px;overflow:hidden;font-weight:500\">add functions to the class </p>",
   "id": "c4e9415f4f63cd4"
  },
  {
   "metadata": {
    "ExecuteTime": {
     "end_time": "2024-11-20T13:50:19.136583Z",
     "start_time": "2024-11-20T13:50:19.125489Z"
    }
   },
   "cell_type": "code",
   "source": [
    "class Student:\n",
    "    def __init__(self, name, id, grade):\n",
    "        self.name = name\n",
    "        self.id = id\n",
    "        self.grade = grade\n",
    "        \n",
    "    \n",
    "    # instance method \n",
    "    def printstd(self):\n",
    "        print(f\"My name is {self.name}, My id is {self.id}, my grade is {self.grade}\")\n",
    "        \n",
    "abbass = Student(\"abbass\", 1, 100)  \n",
    "abbass.printstd()"
   ],
   "id": "7ad73d2479c63f3a",
   "outputs": [
    {
     "name": "stdout",
     "output_type": "stream",
     "text": [
      "My name is abbass, My id is 1, my grade is 100\n"
     ]
    }
   ],
   "execution_count": 29
  },
  {
   "metadata": {},
   "cell_type": "markdown",
   "source": "# I need to count no of objects ",
   "id": "9d7e0086f67ba80d"
  },
  {
   "metadata": {
    "ExecuteTime": {
     "end_time": "2024-11-20T13:54:48.029172Z",
     "start_time": "2024-11-20T13:54:48.018337Z"
    }
   },
   "cell_type": "code",
   "source": [
    "class Student:\n",
    "    def __init__(self, name, id, grade):\n",
    "        self.name = name\n",
    "        self.id = id\n",
    "        self.grade = grade\n",
    "        self.no_of_objects= 0\n",
    "        self.no_of_objects +=1 \n",
    "        \n",
    "    \n",
    "    # instance method \n",
    "    def printstd(self):\n",
    "        print(f\"My name is {self.name}, My id is {self.id}, my grade is {self.grade}\")\n",
    "        \n",
    "s = Student(\"abbass\", 1, 100)\n",
    "s2 = Student(\"mm\", 2, 23213)\n",
    "print(s.no_of_objects)\n",
    "print(s2.no_of_objects)"
   ],
   "id": "53cf14a0c8dbb451",
   "outputs": [
    {
     "name": "stdout",
     "output_type": "stream",
     "text": [
      "1\n",
      "1\n"
     ]
    }
   ],
   "execution_count": 30
  },
  {
   "metadata": {
    "ExecuteTime": {
     "end_time": "2024-11-20T13:58:51.112555Z",
     "start_time": "2024-11-20T13:58:51.101002Z"
    }
   },
   "cell_type": "code",
   "source": [
    "class Student:\n",
    "    no_of_objects = 0 # class variable ? this value depends on class not objects \n",
    "    # constructor define object structure \n",
    "    def __init__(self, name, id, grade):\n",
    "        self.name = name\n",
    "        self.id = id\n",
    "        self.grade = grade\n",
    "        Student.no_of_objects += 1\n",
    "        \n",
    "    \n",
    "    # instance method \n",
    "    def printstd(self):\n",
    "        print(f\"My name is {self.name}, My id is {self.id}, my grade is {self.grade}\")\n",
    "        \n",
    "#get no of objects ?\n",
    "print(Student.no_of_objects)\n",
    "s = Student(\"abbass\", 1, 100)\n",
    "s2 = Student(\"mm\", 2, 23213)\n",
    "s3 = Student(\"abbass\", 1, 100)\n",
    "print(Student.no_of_objects)\n",
    "print(s3.__dict__)"
   ],
   "id": "cd524ab3d0885db5",
   "outputs": [
    {
     "name": "stdout",
     "output_type": "stream",
     "text": [
      "0\n",
      "3\n",
      "{'name': 'abbass', 'id': 1, 'grade': 100}\n"
     ]
    }
   ],
   "execution_count": 33
  },
  {
   "metadata": {},
   "cell_type": "code",
   "outputs": [],
   "execution_count": null,
   "source": "",
   "id": "9250d684715efb16"
  }
 ],
 "metadata": {
  "kernelspec": {
   "display_name": "Python 3",
   "language": "python",
   "name": "python3"
  },
  "language_info": {
   "codemirror_mode": {
    "name": "ipython",
    "version": 2
   },
   "file_extension": ".py",
   "mimetype": "text/x-python",
   "name": "python",
   "nbconvert_exporter": "python",
   "pygments_lexer": "ipython2",
   "version": "2.7.6"
  }
 },
 "nbformat": 4,
 "nbformat_minor": 5
}
