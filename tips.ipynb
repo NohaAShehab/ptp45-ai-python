{
 "cells": [
  {
   "metadata": {},
   "cell_type": "markdown",
   "source": "# tips on OOP",
   "id": "a6073e37369d5cee"
  },
  {
   "cell_type": "code",
   "id": "initial_id",
   "metadata": {
    "collapsed": true,
    "ExecuteTime": {
     "end_time": "2024-11-21T12:57:11.870678Z",
     "start_time": "2024-11-21T12:57:11.864846Z"
    }
   },
   "source": [
    "class Coursee:\n",
    "    def __init__(self, name, description):\n",
    "        self.name = name\n",
    "        self.description = description\n",
    "ccourse = Coursee(\"python\", \"python for AI\")\n",
    "print(ccourse)"
   ],
   "outputs": [
    {
     "name": "stdout",
     "output_type": "stream",
     "text": [
      "<__main__.Coursee object at 0x70a8fc19e3f0>\n"
     ]
    }
   ],
   "execution_count": 3
  },
  {
   "metadata": {
    "ExecuteTime": {
     "end_time": "2024-11-21T12:58:48.762207Z",
     "start_time": "2024-11-21T12:58:48.756662Z"
    }
   },
   "cell_type": "code",
   "source": [
    "# object --> special methods  --> override --> add functionality\n",
    "# magic ===> dunder\n",
    "class Course:\n",
    "    def __init__(self, name, description):\n",
    "        self.name = name\n",
    "        self.description = description\n",
    "        \n",
    "    def __str__(self):\n",
    "        # must retrun with string \n",
    "        return f\"{self.name}\"\n",
    "    \n",
    "    def __repr__(self):\n",
    "        return f\"Course(name={self.name}, description={self.description})\"\n",
    "\n",
    "c = Course(\"abc\", 'abc course')\n",
    "print(c)\n",
    "print(c.__repr__())"
   ],
   "id": "26fd2c05601132f7",
   "outputs": [
    {
     "name": "stdout",
     "output_type": "stream",
     "text": [
      "abc\n",
      "Course(name=abc, description=abc course)\n"
     ]
    }
   ],
   "execution_count": 4
  },
  {
   "metadata": {
    "ExecuteTime": {
     "end_time": "2024-11-21T12:59:15.875565Z",
     "start_time": "2024-11-21T12:59:15.867679Z"
    }
   },
   "cell_type": "code",
   "source": [
    "# object --> special methods  --> override --> add functionality\n",
    "# magic ===> dunder\n",
    "class Course:\n",
    "    def __init__(self, name, description):\n",
    "        self.name = name\n",
    "        self.description = description\n",
    "\n",
    "   \n",
    "    def __repr__(self):\n",
    "        return f\"Course(name={self.name}, description={self.description})\"\n",
    "\n",
    "\n",
    "c = Course(\"abc\", 'abc course')\n",
    "print(c)\n",
    "print(c.__repr__())"
   ],
   "id": "ee09b71f4d0637",
   "outputs": [
    {
     "name": "stdout",
     "output_type": "stream",
     "text": [
      "Course(name=abc, description=abc course)\n",
      "Course(name=abc, description=abc course)\n"
     ]
    }
   ],
   "execution_count": 5
  },
  {
   "metadata": {
    "ExecuteTime": {
     "end_time": "2024-11-21T13:03:11.026896Z",
     "start_time": "2024-11-21T13:03:11.021641Z"
    }
   },
   "cell_type": "code",
   "source": [
    "class Course:\n",
    "    def __init__(self, name, description):\n",
    "        self.name = name\n",
    "        self.description = description\n",
    "        \n",
    "    def __len__(self):\n",
    "        # return int \n",
    "        return len(self.__dict__) \n",
    "\n",
    "   \n",
    "\n",
    "c = Course(\"abc\", 'abc course')\n",
    "\n",
    "l = [45,44]\n",
    "print(len(l))\n",
    "print(len(c))\n"
   ],
   "id": "5fd7d83464e9e861",
   "outputs": [
    {
     "name": "stdout",
     "output_type": "stream",
     "text": [
      "2\n",
      "2\n"
     ]
    }
   ],
   "execution_count": 11
  },
  {
   "metadata": {
    "ExecuteTime": {
     "end_time": "2024-11-21T13:03:38.464680Z",
     "start_time": "2024-11-21T13:03:38.442136Z"
    }
   },
   "cell_type": "code",
   "source": "c()  # I need to call ",
   "id": "18830c207fe4204c",
   "outputs": [
    {
     "ename": "TypeError",
     "evalue": "'Course' object is not callable",
     "output_type": "error",
     "traceback": [
      "\u001B[0;31m---------------------------------------------------------------------------\u001B[0m",
      "\u001B[0;31mTypeError\u001B[0m                                 Traceback (most recent call last)",
      "Cell \u001B[0;32mIn[12], line 1\u001B[0m\n\u001B[0;32m----> 1\u001B[0m \u001B[43mc\u001B[49m\u001B[43m(\u001B[49m\u001B[43m)\u001B[49m  \u001B[38;5;66;03m# I need to call \u001B[39;00m\n",
      "\u001B[0;31mTypeError\u001B[0m: 'Course' object is not callable"
     ]
    }
   ],
   "execution_count": 12
  },
  {
   "metadata": {
    "ExecuteTime": {
     "end_time": "2024-11-21T13:04:38.912009Z",
     "start_time": "2024-11-21T13:04:38.894898Z"
    }
   },
   "cell_type": "code",
   "source": [
    "class Course:\n",
    "    def __init__(self, name, description):\n",
    "        self.name = name\n",
    "        self.description = description\n",
    "        \n",
    "    def __len__(self):\n",
    "        # return int \n",
    "        return len(self.__dict__) \n",
    "    \n",
    "    def __call__(self):\n",
    "        print(\"Course object is being called\")\n",
    "        \n",
    "c= Course(\"abc\", 'abc course')\n",
    "c()"
   ],
   "id": "c98068dbf65dbd30",
   "outputs": [
    {
     "name": "stdout",
     "output_type": "stream",
     "text": [
      "Course object is being called\n"
     ]
    }
   ],
   "execution_count": 13
  },
  {
   "metadata": {},
   "cell_type": "markdown",
   "source": [
    "# prevent adding extra properties to the class \n",
    "# destrcutor "
   ],
   "id": "8bfdee00a4bd464c"
  },
  {
   "metadata": {
    "ExecuteTime": {
     "end_time": "2024-11-21T13:11:32.899790Z",
     "start_time": "2024-11-21T13:11:32.864472Z"
    }
   },
   "cell_type": "code",
   "source": [
    "class Course:\n",
    "    __slots__ = (\"name\", \"description\")\n",
    "    def __init__(self, name, description):\n",
    "        self.name = name\n",
    "        self.description = description\n",
    "        \n",
    "    def __len__(self):\n",
    "        # return int \n",
    "        return len(self.__dict__) \n",
    "    \n",
    "    \n",
    "    \n",
    "c = Course(\"abc\", 'abc course')\n",
    "# print(c.__dict__)\n",
    "# c.city= \"Mansoura\"\n"
   ],
   "id": "4f6a83d1dfe3380",
   "outputs": [
    {
     "ename": "AttributeError",
     "evalue": "'Course' object has no attribute '__dict__'",
     "output_type": "error",
     "traceback": [
      "\u001B[0;31m---------------------------------------------------------------------------\u001B[0m",
      "\u001B[0;31mAttributeError\u001B[0m                            Traceback (most recent call last)",
      "Cell \u001B[0;32mIn[18], line 14\u001B[0m\n\u001B[1;32m      9\u001B[0m         \u001B[38;5;28;01mreturn\u001B[39;00m \u001B[38;5;28mlen\u001B[39m(\u001B[38;5;28mself\u001B[39m\u001B[38;5;241m.\u001B[39m\u001B[38;5;18m__dict__\u001B[39m) \n\u001B[1;32m     13\u001B[0m c \u001B[38;5;241m=\u001B[39m Course(\u001B[38;5;124m\"\u001B[39m\u001B[38;5;124mabc\u001B[39m\u001B[38;5;124m\"\u001B[39m, \u001B[38;5;124m'\u001B[39m\u001B[38;5;124mabc course\u001B[39m\u001B[38;5;124m'\u001B[39m)\n\u001B[0;32m---> 14\u001B[0m \u001B[38;5;28mprint\u001B[39m(\u001B[43mc\u001B[49m\u001B[38;5;241;43m.\u001B[39;49m\u001B[38;5;18;43m__dict__\u001B[39;49m)\n\u001B[1;32m     15\u001B[0m c\u001B[38;5;241m.\u001B[39mcity\u001B[38;5;241m=\u001B[39m \u001B[38;5;124m\"\u001B[39m\u001B[38;5;124mMansoura\u001B[39m\u001B[38;5;124m\"\u001B[39m\n",
      "\u001B[0;31mAttributeError\u001B[0m: 'Course' object has no attribute '__dict__'"
     ]
    }
   ],
   "execution_count": 18
  },
  {
   "metadata": {},
   "cell_type": "markdown",
   "source": "# destructor ",
   "id": "42da30cb3b103a08"
  },
  {
   "metadata": {
    "ExecuteTime": {
     "end_time": "2024-11-21T13:12:26.273442Z",
     "start_time": "2024-11-21T13:12:26.269461Z"
    }
   },
   "cell_type": "code",
   "source": [
    "class Course:\n",
    "    __slots__ = (\"name\", \"description\")\n",
    "    def __init__(self, name, description):\n",
    "        self.name = name\n",
    "        self.description = description\n",
    "        \n",
    "\n",
    "    def __del__(self):\n",
    "        print(\"Course object is being deleted\")\n",
    "    \n",
    "    \n",
    "c = Course(\"abc\", 'abc course')\n"
   ],
   "id": "350a9d535780b4a6",
   "outputs": [],
   "execution_count": 19
  },
  {
   "metadata": {},
   "cell_type": "code",
   "outputs": [],
   "execution_count": null,
   "source": "",
   "id": "a370117d73994617"
  }
 ],
 "metadata": {
  "kernelspec": {
   "display_name": "Python 3",
   "language": "python",
   "name": "python3"
  },
  "language_info": {
   "codemirror_mode": {
    "name": "ipython",
    "version": 2
   },
   "file_extension": ".py",
   "mimetype": "text/x-python",
   "name": "python",
   "nbconvert_exporter": "python",
   "pygments_lexer": "ipython2",
   "version": "2.7.6"
  }
 },
 "nbformat": 4,
 "nbformat_minor": 5
}
