{
 "cells": [
  {
   "cell_type": "code",
   "id": "initial_id",
   "metadata": {
    "collapsed": true,
    "ExecuteTime": {
     "end_time": "2024-11-20T07:49:18.148894Z",
     "start_time": "2024-11-20T07:49:13.750559Z"
    }
   },
   "source": [
    "import inputsmodule \n",
    "print(inputsmodule.askforInt(\"please enter day: \"))"
   ],
   "outputs": [
    {
     "name": "stdout",
     "output_type": "stream",
     "text": [
      "------- Welcome to Noha's customized inputs module ----\n",
      "234\n"
     ]
    }
   ],
   "execution_count": 1
  },
  {
   "metadata": {
    "ExecuteTime": {
     "end_time": "2024-11-20T08:26:29.240559Z",
     "start_time": "2024-11-20T08:26:29.226051Z"
    }
   },
   "cell_type": "code",
   "source": [
    "import os \n",
    "print(os.getcwd())"
   ],
   "id": "6b3373d3c51e0e34",
   "outputs": [
    {
     "name": "stdout",
     "output_type": "stream",
     "text": [
      "/home/noha/PycharmProjects/ptp/ai45/day04\n"
     ]
    }
   ],
   "execution_count": 2
  },
  {
   "metadata": {},
   "cell_type": "code",
   "outputs": [],
   "execution_count": null,
   "source": "import os\n",
   "id": "3167659325e6dfb0"
  }
 ],
 "metadata": {
  "kernelspec": {
   "display_name": "Python 3",
   "language": "python",
   "name": "python3"
  },
  "language_info": {
   "codemirror_mode": {
    "name": "ipython",
    "version": 2
   },
   "file_extension": ".py",
   "mimetype": "text/x-python",
   "name": "python",
   "nbconvert_exporter": "python",
   "pygments_lexer": "ipython2",
   "version": "2.7.6"
  }
 },
 "nbformat": 4,
 "nbformat_minor": 5
}
