{
 "cells": [
  {
   "metadata": {},
   "cell_type": "markdown",
   "source": [
    "# in c \n",
    "<pre>\n",
    "    int x = 10;\n",
    "    if (x==10){\n",
    "    }\n",
    "\n",
    "</pre>"
   ],
   "id": "ad5321c7ab532659"
  },
  {
   "cell_type": "code",
   "id": "initial_id",
   "metadata": {
    "collapsed": true,
    "ExecuteTime": {
     "end_time": "2024-11-16T08:41:10.695833Z",
     "start_time": "2024-11-16T08:41:10.689766Z"
    }
   },
   "source": [
    "x = 10\n",
    "if x == 10:\n",
    "\n",
    "print(\"---------------------\")"
   ],
   "outputs": [
    {
     "ename": "IndentationError",
     "evalue": "expected an indented block after 'if' statement on line 2 (2393299979.py, line 4)",
     "output_type": "error",
     "traceback": [
      "\u001B[0;36m  Cell \u001B[0;32mIn[1], line 4\u001B[0;36m\u001B[0m\n\u001B[0;31m    print(\"---------------------\")\u001B[0m\n\u001B[0m    ^\u001B[0m\n\u001B[0;31mIndentationError\u001B[0m\u001B[0;31m:\u001B[0m expected an indented block after 'if' statement on line 2\n"
     ]
    }
   ],
   "execution_count": 1
  },
  {
   "metadata": {
    "ExecuteTime": {
     "end_time": "2024-11-16T08:41:58.460517Z",
     "start_time": "2024-11-16T08:41:58.443152Z"
    }
   },
   "cell_type": "code",
   "source": [
    "x = 10\n",
    "if x == 10:\n",
    "    pass \n",
    "    \n",
    "\n",
    "print(\"---------------------\")"
   ],
   "id": "a45a36ad1663786d",
   "outputs": [
    {
     "name": "stdout",
     "output_type": "stream",
     "text": [
      "---------------------\n"
     ]
    }
   ],
   "execution_count": 2
  },
  {
   "metadata": {},
   "cell_type": "code",
   "outputs": [],
   "execution_count": null,
   "source": [
    "for num in range(100):\n",
    "    pass "
   ],
   "id": "b79e7de47641f6a5"
  },
  {
   "metadata": {},
   "cell_type": "markdown",
   "source": "# check this ",
   "id": "9b4e8c5673b35f3e"
  },
  {
   "metadata": {
    "ExecuteTime": {
     "end_time": "2024-11-16T08:47:13.388229Z",
     "start_time": "2024-11-16T08:47:09.642512Z"
    }
   },
   "cell_type": "code",
   "source": [
    "for i in range(3):\n",
    "    password = input(\"please enter password: \")\n",
    "    if password=='abc':\n",
    "        print(\"--- login successfully\")\n",
    "        break\n",
    "    \n",
    "    print(\"--- please try again ---\")\n",
    "\n",
    "print(\"------ the account has been locked \")"
   ],
   "id": "1c78d38394f38be9",
   "outputs": [
    {
     "name": "stdout",
     "output_type": "stream",
     "text": [
      "--- login successfully\n",
      "------ the account has been locked \n"
     ]
    }
   ],
   "execution_count": 4
  },
  {
   "metadata": {
    "ExecuteTime": {
     "end_time": "2024-11-16T08:48:18.604688Z",
     "start_time": "2024-11-16T08:48:09.315660Z"
    }
   },
   "cell_type": "code",
   "source": [
    "for i in range(3):\n",
    "    password = input(\"please enter password: \")\n",
    "    if password=='abc':\n",
    "        print(\"--- login successfully\")\n",
    "        break\n",
    "    \n",
    "    print(\"--- please try again ---\")\n",
    "if i == 2:\n",
    "    print(\"------ the account has been locked \")"
   ],
   "id": "3840b4b660044d79",
   "outputs": [
    {
     "name": "stdout",
     "output_type": "stream",
     "text": [
      "--- please try again ---\n",
      "--- please try again ---\n",
      "--- login successfully\n",
      "------ the account has been locked \n"
     ]
    }
   ],
   "execution_count": 6
  },
  {
   "metadata": {},
   "cell_type": "code",
   "outputs": [],
   "execution_count": null,
   "source": [
    "login=False\n",
    "for i in range(3):\n",
    "    password = input(\"please enter password: \")\n",
    "    if password=='abc':\n",
    "        login = True\n",
    "        print(\"--- login successfully\")\n",
    "        break\n",
    "    \n",
    "    print(\"--- please try again ---\")\n",
    "if i == 2 and login==False:\n",
    "    print(\"------ the account has been locked \")"
   ],
   "id": "3f756806648b2aaa"
  },
  {
   "metadata": {},
   "cell_type": "markdown",
   "source": "# for else ",
   "id": "6b0541c2124567a4"
  },
  {
   "metadata": {
    "ExecuteTime": {
     "end_time": "2024-11-16T08:51:25.948913Z",
     "start_time": "2024-11-16T08:51:17.262381Z"
    }
   },
   "cell_type": "code",
   "source": [
    "for i in range(3):\n",
    "    password = input(\"please enter password: \")\n",
    "    if password=='abc':\n",
    "        print(\"--- login successfully\")\n",
    "        break\n",
    "    \n",
    "    print(\"--- please try again ---\")\n",
    "else:\n",
    "    # this block will be executed when the loop reached its end (not broken )\n",
    "    print(\"------ the account has been locked \")"
   ],
   "id": "feb46bced1657a9e",
   "outputs": [
    {
     "name": "stdout",
     "output_type": "stream",
     "text": [
      "--- please try again ---\n",
      "--- please try again ---\n",
      "--- login successfully\n"
     ]
    }
   ],
   "execution_count": 8
  },
  {
   "metadata": {
    "ExecuteTime": {
     "end_time": "2024-11-16T08:52:42.625613Z",
     "start_time": "2024-11-16T08:52:42.609142Z"
    }
   },
   "cell_type": "code",
   "source": [
    "for i in range(5):\n",
    "    print(f'i ={i}')\n",
    "else:\n",
    "    print(\"--- loop ended \")"
   ],
   "id": "72b980831a1c2149",
   "outputs": [
    {
     "name": "stdout",
     "output_type": "stream",
     "text": [
      "i =0\n",
      "i =1\n",
      "i =2\n",
      "i =3\n",
      "i =4\n",
      "--- loop ended \n"
     ]
    }
   ],
   "execution_count": 9
  },
  {
   "metadata": {
    "ExecuteTime": {
     "end_time": "2024-11-16T08:53:19.892683Z",
     "start_time": "2024-11-16T08:53:19.877393Z"
    }
   },
   "cell_type": "code",
   "source": [
    "for i in range(5):\n",
    "    print(f'i ={i}')\n",
    "    if  i==3:\n",
    "        break\n",
    "else:\n",
    "    print(\"--- loop ended \")"
   ],
   "id": "1cb933f87fad361b",
   "outputs": [
    {
     "name": "stdout",
     "output_type": "stream",
     "text": [
      "i =0\n",
      "i =1\n",
      "i =2\n",
      "i =3\n"
     ]
    }
   ],
   "execution_count": 10
  },
  {
   "metadata": {
    "ExecuteTime": {
     "end_time": "2024-11-16T08:53:50.543232Z",
     "start_time": "2024-11-16T08:53:50.528137Z"
    }
   },
   "cell_type": "code",
   "source": [
    "for i in range(5):\n",
    "     if  i==3:\n",
    "        continue\n",
    "     print(f'i ={i}')\n",
    "   \n",
    "else:\n",
    "    print(\"--- loop ended \")"
   ],
   "id": "a41cf44580b40631",
   "outputs": [
    {
     "name": "stdout",
     "output_type": "stream",
     "text": [
      "i =0\n",
      "i =1\n",
      "i =2\n",
      "i =4\n",
      "--- loop ended \n"
     ]
    }
   ],
   "execution_count": 11
  },
  {
   "metadata": {},
   "cell_type": "code",
   "outputs": [],
   "execution_count": null,
   "source": "",
   "id": "c9a89df27ef70343"
  }
 ],
 "metadata": {
  "kernelspec": {
   "display_name": "Python 3",
   "language": "python",
   "name": "python3"
  },
  "language_info": {
   "codemirror_mode": {
    "name": "ipython",
    "version": 2
   },
   "file_extension": ".py",
   "mimetype": "text/x-python",
   "name": "python",
   "nbconvert_exporter": "python",
   "pygments_lexer": "ipython2",
   "version": "2.7.6"
  }
 },
 "nbformat": 4,
 "nbformat_minor": 5
}
