{
 "cells": [
  {
   "cell_type": "code",
   "id": "initial_id",
   "metadata": {
    "collapsed": true,
    "ExecuteTime": {
     "end_time": "2024-11-20T07:25:04.523720Z",
     "start_time": "2024-11-20T07:25:04.513291Z"
    }
   },
   "source": "print(\"hi\")",
   "outputs": [
    {
     "name": "stdout",
     "output_type": "stream",
     "text": [
      "hi\n"
     ]
    }
   ],
   "execution_count": 1
  },
  {
   "metadata": {
    "ExecuteTime": {
     "end_time": "2024-11-20T09:13:25.278223Z",
     "start_time": "2024-11-20T09:13:25.263251Z"
    }
   },
   "cell_type": "code",
   "source": [
    "def sumnum(num1 , num2):\n",
    "    res = num1 * num2\n",
    "    print(res)\n",
    "    \n",
    "sumnum(2,2)"
   ],
   "id": "51f20a9330410e43",
   "outputs": [
    {
     "name": "stdout",
     "output_type": "stream",
     "text": [
      "4\n"
     ]
    }
   ],
   "execution_count": 2
  },
  {
   "metadata": {},
   "cell_type": "markdown",
   "source": [
    "# read the error \n",
    "<img src=\"readtheerror.jpeg\" width='300' height='300'>"
   ],
   "id": "28157fc649e6f13b"
  },
  {
   "metadata": {},
   "cell_type": "code",
   "outputs": [],
   "execution_count": null,
   "source": [
    "print(\"00000 this is my first program 00000\")\n",
    "num = int(input(\"Enter a number: \"))\n",
    "print(num, type(num))"
   ],
   "id": "f80048fc768b4d2b"
  },
  {
   "metadata": {},
   "cell_type": "markdown",
   "source": "<h3> To solve this problem </h3>",
   "id": "e1fac23c24816d1f"
  },
  {
   "metadata": {
    "ExecuteTime": {
     "end_time": "2024-11-20T09:25:29.151932Z",
     "start_time": "2024-11-20T09:25:24.598319Z"
    }
   },
   "cell_type": "code",
   "source": [
    "try:\n",
    "    num2 = int(input(\"Enter a number: \"))\n",
    "    print(num2, type(num2))\n",
    "except:\n",
    "    print(f\"=== Error happened  {num2}\")"
   ],
   "id": "8257b873ad55a40e",
   "outputs": [
    {
     "ename": "NameError",
     "evalue": "name 'num2' is not defined",
     "output_type": "error",
     "traceback": [
      "\u001B[0;31m---------------------------------------------------------------------------\u001B[0m",
      "\u001B[0;31mValueError\u001B[0m                                Traceback (most recent call last)",
      "Cell \u001B[0;32mIn[7], line 2\u001B[0m\n\u001B[1;32m      1\u001B[0m \u001B[38;5;28;01mtry\u001B[39;00m:\n\u001B[0;32m----> 2\u001B[0m     num2 \u001B[38;5;241m=\u001B[39m \u001B[38;5;28;43mint\u001B[39;49m\u001B[43m(\u001B[49m\u001B[38;5;28;43minput\u001B[39;49m\u001B[43m(\u001B[49m\u001B[38;5;124;43m\"\u001B[39;49m\u001B[38;5;124;43mEnter a number: \u001B[39;49m\u001B[38;5;124;43m\"\u001B[39;49m\u001B[43m)\u001B[49m\u001B[43m)\u001B[49m\n\u001B[1;32m      3\u001B[0m     \u001B[38;5;28mprint\u001B[39m(num2, \u001B[38;5;28mtype\u001B[39m(num2))\n",
      "\u001B[0;31mValueError\u001B[0m: invalid literal for int() with base 10: '238748937fdsfgsdgg'",
      "\nDuring handling of the above exception, another exception occurred:\n",
      "\u001B[0;31mNameError\u001B[0m                                 Traceback (most recent call last)",
      "Cell \u001B[0;32mIn[7], line 5\u001B[0m\n\u001B[1;32m      3\u001B[0m     \u001B[38;5;28mprint\u001B[39m(num2, \u001B[38;5;28mtype\u001B[39m(num2))\n\u001B[1;32m      4\u001B[0m \u001B[38;5;28;01mexcept\u001B[39;00m:\n\u001B[0;32m----> 5\u001B[0m     \u001B[38;5;28mprint\u001B[39m(\u001B[38;5;124mf\u001B[39m\u001B[38;5;124m\"\u001B[39m\u001B[38;5;124m=== Error happened  \u001B[39m\u001B[38;5;132;01m{\u001B[39;00m\u001B[43mnum2\u001B[49m\u001B[38;5;132;01m}\u001B[39;00m\u001B[38;5;124m\"\u001B[39m)\n",
      "\u001B[0;31mNameError\u001B[0m: name 'num2' is not defined"
     ]
    }
   ],
   "execution_count": 7
  },
  {
   "metadata": {
    "ExecuteTime": {
     "end_time": "2024-11-20T09:27:17.909065Z",
     "start_time": "2024-11-20T09:27:13.803121Z"
    }
   },
   "cell_type": "code",
   "source": [
    "try:\n",
    "    name = 'Ahmed'\n",
    "    num3 = int(input(\"Enter a number: \"))\n",
    "    print(num3, type(num3))\n",
    "except:\n",
    "    print(f\"=== Error happened , {name} \")\n",
    "    print(num3)"
   ],
   "id": "27fc9ec325670132",
   "outputs": [
    {
     "name": "stdout",
     "output_type": "stream",
     "text": [
      "=== Error happened , Ahmed \n"
     ]
    },
    {
     "ename": "NameError",
     "evalue": "name 'num3' is not defined",
     "output_type": "error",
     "traceback": [
      "\u001B[0;31m---------------------------------------------------------------------------\u001B[0m",
      "\u001B[0;31mValueError\u001B[0m                                Traceback (most recent call last)",
      "Cell \u001B[0;32mIn[8], line 3\u001B[0m\n\u001B[1;32m      2\u001B[0m name \u001B[38;5;241m=\u001B[39m \u001B[38;5;124m'\u001B[39m\u001B[38;5;124mAhmed\u001B[39m\u001B[38;5;124m'\u001B[39m\n\u001B[0;32m----> 3\u001B[0m num3 \u001B[38;5;241m=\u001B[39m \u001B[38;5;28;43mint\u001B[39;49m\u001B[43m(\u001B[49m\u001B[38;5;28;43minput\u001B[39;49m\u001B[43m(\u001B[49m\u001B[38;5;124;43m\"\u001B[39;49m\u001B[38;5;124;43mEnter a number: \u001B[39;49m\u001B[38;5;124;43m\"\u001B[39;49m\u001B[43m)\u001B[49m\u001B[43m)\u001B[49m\n\u001B[1;32m      4\u001B[0m \u001B[38;5;28mprint\u001B[39m(num3, \u001B[38;5;28mtype\u001B[39m(num3))\n",
      "\u001B[0;31mValueError\u001B[0m: invalid literal for int() with base 10: 'wuqyuywr'",
      "\nDuring handling of the above exception, another exception occurred:\n",
      "\u001B[0;31mNameError\u001B[0m                                 Traceback (most recent call last)",
      "Cell \u001B[0;32mIn[8], line 7\u001B[0m\n\u001B[1;32m      5\u001B[0m \u001B[38;5;28;01mexcept\u001B[39;00m:\n\u001B[1;32m      6\u001B[0m     \u001B[38;5;28mprint\u001B[39m(\u001B[38;5;124mf\u001B[39m\u001B[38;5;124m\"\u001B[39m\u001B[38;5;124m=== Error happened , \u001B[39m\u001B[38;5;132;01m{\u001B[39;00mname\u001B[38;5;132;01m}\u001B[39;00m\u001B[38;5;124m \u001B[39m\u001B[38;5;124m\"\u001B[39m)\n\u001B[0;32m----> 7\u001B[0m     \u001B[38;5;28mprint\u001B[39m(\u001B[43mnum3\u001B[49m)\n",
      "\u001B[0;31mNameError\u001B[0m: name 'num3' is not defined"
     ]
    }
   ],
   "execution_count": 8
  },
  {
   "metadata": {
    "ExecuteTime": {
     "end_time": "2024-11-20T09:27:59.088412Z",
     "start_time": "2024-11-20T09:27:59.004633Z"
    }
   },
   "cell_type": "code",
   "source": "print(intake )",
   "id": "97a12a9976062a3d",
   "outputs": [
    {
     "ename": "NameError",
     "evalue": "name 'intake' is not defined",
     "output_type": "error",
     "traceback": [
      "\u001B[0;31m---------------------------------------------------------------------------\u001B[0m",
      "\u001B[0;31mNameError\u001B[0m                                 Traceback (most recent call last)",
      "Cell \u001B[0;32mIn[9], line 1\u001B[0m\n\u001B[0;32m----> 1\u001B[0m \u001B[38;5;28mprint\u001B[39m(\u001B[43mintake\u001B[49m )\n",
      "\u001B[0;31mNameError\u001B[0m: name 'intake' is not defined"
     ]
    }
   ],
   "execution_count": 9
  },
  {
   "metadata": {
    "ExecuteTime": {
     "end_time": "2024-11-20T09:28:36.806744Z",
     "start_time": "2024-11-20T09:28:36.789895Z"
    }
   },
   "cell_type": "code",
   "source": [
    "try:\n",
    "    print(intke)\n",
    "except: \n",
    "    print('--- error happened ')"
   ],
   "id": "dd42cb0dc80525ef",
   "outputs": [
    {
     "name": "stdout",
     "output_type": "stream",
     "text": [
      "--- error happened \n"
     ]
    }
   ],
   "execution_count": 10
  },
  {
   "metadata": {},
   "cell_type": "code",
   "outputs": [],
   "execution_count": null,
   "source": [
    "while True:\n",
    "    try:\n",
    "        num = int(input(\"please enter num \"))\n",
    "        print(num)\n",
    "        break\n",
    "    except:\n",
    "        print(\"--- please enter valid number \")"
   ],
   "id": "18eeeea93953abfe"
  },
  {
   "metadata": {},
   "cell_type": "markdown",
   "source": "# <p style=\"padding:10px;background-color:#e5855c;margin:0;color:white;font-family:newtimeroman;font-size:150%;text-align:center;border-radius: 15px 50px;overflow:hidden;font-weight:500\">I need to know the cause of the exception</p>",
   "id": "5c41c249a09c5bdd"
  },
  {
   "metadata": {
    "ExecuteTime": {
     "end_time": "2024-11-20T09:35:16.970295Z",
     "start_time": "2024-11-20T09:35:14.106571Z"
    }
   },
   "cell_type": "code",
   "source": [
    "try:\n",
    "    numm = int(input(\"please enter value \")) # valueError \n",
    "    # print(itinum)  # NameError \n",
    "    res3 = 4/0  # zeroDivision error \n",
    "except Exception as e:\n",
    "    print(f\"error = {e}\")"
   ],
   "id": "69e32453c4ca186f",
   "outputs": [
    {
     "name": "stdout",
     "output_type": "stream",
     "text": [
      "error = division by zero\n"
     ]
    }
   ],
   "execution_count": 15
  },
  {
   "metadata": {},
   "cell_type": "markdown",
   "source": "",
   "id": "9e186d2ee38158a4"
  },
  {
   "metadata": {
    "ExecuteTime": {
     "end_time": "2024-11-20T09:40:11.111348Z",
     "start_time": "2024-11-20T09:40:08.449683Z"
    }
   },
   "cell_type": "code",
   "source": [
    "try:\n",
    "    num = int(input(\"please enter num \"))\n",
    "    # print(username)\n",
    "    res = num/ 0 \n",
    "except ValueError as ve :\n",
    "    print(ve)\n",
    "    print(\"== num must be integer\" )\n",
    "    print(\"username =  anyvalue \")\n",
    "    res = 10\n",
    "    print(res)\n",
    "except NameError as ne: \n",
    "    print(f\"{ne}\")\n",
    "    print(f'you entered num  {num}')\n",
    "except ZeroDivisionError as ze:\n",
    "    print(num)\n",
    "    username = 'abbass '\n",
    "    print(username)\n",
    "    print(\"== cannot define by zero\")"
   ],
   "id": "67dc53210c09f452",
   "outputs": [
    {
     "name": "stdout",
     "output_type": "stream",
     "text": [
      "2312\n",
      "abbass \n",
      "== cannot define by zero\n"
     ]
    }
   ],
   "execution_count": 18
  },
  {
   "metadata": {
    "ExecuteTime": {
     "end_time": "2024-11-20T09:41:23.826886Z",
     "start_time": "2024-11-20T09:41:20.581360Z"
    }
   },
   "cell_type": "code",
   "source": [
    "try:\n",
    "    num = int(input(\"please enter num \"))\n",
    "    # print(username)\n",
    "    res = num/ 0 \n",
    "except Exception as e:\n",
    "    print(f'exception {e}')\n",
    "except ValueError as ve :\n",
    "    print(ve)\n",
    "    print(\"== num must be integer\" )\n",
    "    print(\"username =  anyvalue \")\n",
    "    res = 10\n",
    "    print(res)\n",
    "except NameError as ne: \n",
    "    print(f\"{ne}\")\n",
    "    print(f'you entered num  {num}')\n",
    "except ZeroDivisionError as ze:\n",
    "    print(num)\n",
    "    username = 'abbass '\n",
    "    print(username)\n",
    "    print(\"== cannot divide by zero \")"
   ],
   "id": "ba004d6152d7b15c",
   "outputs": [
    {
     "name": "stdout",
     "output_type": "stream",
     "text": [
      "exception invalid literal for int() with base 10: '123dasdf'\n"
     ]
    }
   ],
   "execution_count": 19
  },
  {
   "metadata": {},
   "cell_type": "code",
   "outputs": [],
   "execution_count": null,
   "source": [
    "try:\n",
    "    num = int(input(\"please enter num \"))\n",
    "    # print(username)\n",
    "    res = num/ 0 \n",
    "except ValueError as ve :\n",
    "    print(ve)\n",
    "    print(\"== num must be integer\" )\n",
    "    print(\"username =  anyvalue \")\n",
    "    res = 10\n",
    "    print(res)\n",
    "except NameError as ne: \n",
    "    print(f\"{ne}\")\n",
    "    print(f'you entered num  {num}')\n",
    "except ZeroDivisionError as ze:\n",
    "    print(num)\n",
    "    username = 'abbass '\n",
    "    print(username)\n",
    "    print(\"== cannot divide by zero \")\n",
    "except Exception as e:\n",
    "    print(f'exception {e}')"
   ],
   "id": "45654c0c693b169"
  },
  {
   "metadata": {},
   "cell_type": "markdown",
   "source": "",
   "id": "a67c10be90cb97bd"
  },
  {
   "metadata": {},
   "cell_type": "markdown",
   "source": [
    "# <p style=\"padding:10px;background-color:red;margin:0;color:white;font-family:newtimeroman;font-size:150%;text-align:center;border-radius: 15px 50px;overflow:hidden;font-weight:500\">Raise Exception</p>\n",
    "<img src=\"raiseExcepion.jpeg\" width='200' height='200'>"
   ],
   "id": "5afa70e2935ff0a9"
  },
  {
   "metadata": {
    "ExecuteTime": {
     "end_time": "2024-11-20T09:57:31.206583Z",
     "start_time": "2024-11-20T09:57:31.138854Z"
    }
   },
   "cell_type": "code",
   "source": [
    "def sumnum(num1, num2):\n",
    "    if isinstance(num1, int) and isinstance(num2, int):\n",
    "        res = num1 + num2\n",
    "        return res \n",
    "    # print(\"--- num1, num2 must be integer\")\n",
    "    raise Exception(\"num1 and num2 must be integers\")\n",
    "\n",
    "\n",
    "sumnum(\"tt\", 3)"
   ],
   "id": "19bd67457346e0ed",
   "outputs": [
    {
     "ename": "Exception",
     "evalue": "num1 and num2 must be integers",
     "output_type": "error",
     "traceback": [
      "\u001B[0;31m---------------------------------------------------------------------------\u001B[0m",
      "\u001B[0;31mException\u001B[0m                                 Traceback (most recent call last)",
      "Cell \u001B[0;32mIn[20], line 9\u001B[0m\n\u001B[1;32m      5\u001B[0m     \u001B[38;5;66;03m# print(\"--- num1, num2 must be integer\")\u001B[39;00m\n\u001B[1;32m      6\u001B[0m     \u001B[38;5;28;01mraise\u001B[39;00m \u001B[38;5;167;01mException\u001B[39;00m(\u001B[38;5;124m\"\u001B[39m\u001B[38;5;124mnum1 and num2 must be integers\u001B[39m\u001B[38;5;124m\"\u001B[39m)\n\u001B[0;32m----> 9\u001B[0m \u001B[43msumnum\u001B[49m\u001B[43m(\u001B[49m\u001B[38;5;124;43m\"\u001B[39;49m\u001B[38;5;124;43mtt\u001B[39;49m\u001B[38;5;124;43m\"\u001B[39;49m\u001B[43m,\u001B[49m\u001B[43m \u001B[49m\u001B[38;5;241;43m3\u001B[39;49m\u001B[43m)\u001B[49m\n",
      "Cell \u001B[0;32mIn[20], line 6\u001B[0m, in \u001B[0;36msumnum\u001B[0;34m(num1, num2)\u001B[0m\n\u001B[1;32m      4\u001B[0m     \u001B[38;5;28;01mreturn\u001B[39;00m res \n\u001B[1;32m      5\u001B[0m \u001B[38;5;66;03m# print(\"--- num1, num2 must be integer\")\u001B[39;00m\n\u001B[0;32m----> 6\u001B[0m \u001B[38;5;28;01mraise\u001B[39;00m \u001B[38;5;167;01mException\u001B[39;00m(\u001B[38;5;124m\"\u001B[39m\u001B[38;5;124mnum1 and num2 must be integers\u001B[39m\u001B[38;5;124m\"\u001B[39m)\n",
      "\u001B[0;31mException\u001B[0m: num1 and num2 must be integers"
     ]
    }
   ],
   "execution_count": 20
  },
  {
   "metadata": {},
   "cell_type": "code",
   "outputs": [],
   "execution_count": null,
   "source": "",
   "id": "4c9a65b0af5cea92"
  }
 ],
 "metadata": {
  "kernelspec": {
   "display_name": "Python 3",
   "language": "python",
   "name": "python3"
  },
  "language_info": {
   "codemirror_mode": {
    "name": "ipython",
    "version": 2
   },
   "file_extension": ".py",
   "mimetype": "text/x-python",
   "name": "python",
   "nbconvert_exporter": "python",
   "pygments_lexer": "ipython2",
   "version": "2.7.6"
  }
 },
 "nbformat": 4,
 "nbformat_minor": 5
}
