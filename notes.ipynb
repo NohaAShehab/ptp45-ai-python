{
 "cells": [
  {
   "cell_type": "code",
   "id": "initial_id",
   "metadata": {
    "collapsed": true,
    "ExecuteTime": {
     "end_time": "2024-11-14T09:05:09.969930Z",
     "start_time": "2024-11-14T09:05:09.965139Z"
    }
   },
   "source": "print(\"hello world\")",
   "outputs": [
    {
     "name": "stdout",
     "output_type": "stream",
     "text": [
      "hello world\n"
     ]
    }
   ],
   "execution_count": 1
  },
  {
   "metadata": {
    "ExecuteTime": {
     "end_time": "2024-11-14T10:23:03.213747Z",
     "start_time": "2024-11-14T10:23:03.209833Z"
    }
   },
   "cell_type": "code",
   "source": [
    "msg = \"we love python\"\n",
    "\n",
    "rs = msg.split(\" \")\n",
    "print(rs) # list "
   ],
   "id": "7a693e025b964b7c",
   "outputs": [
    {
     "name": "stdout",
     "output_type": "stream",
     "text": [
      "['we', 'love', 'python']\n"
     ]
    }
   ],
   "execution_count": 2
  },
  {
   "metadata": {
    "ExecuteTime": {
     "end_time": "2024-11-14T10:23:51.819367Z",
     "start_time": "2024-11-14T10:23:51.816261Z"
    }
   },
   "cell_type": "code",
   "source": [
    "# join \n",
    "name=  'mariam'\n",
    "\n",
    "newname = '_'.join(name)"
   ],
   "id": "bedbe310d7e30679",
   "outputs": [],
   "execution_count": 3
  },
  {
   "metadata": {
    "ExecuteTime": {
     "end_time": "2024-11-14T10:23:56.298165Z",
     "start_time": "2024-11-14T10:23:56.295049Z"
    }
   },
   "cell_type": "code",
   "source": "print(newname)",
   "id": "529966bba161ccf8",
   "outputs": [
    {
     "name": "stdout",
     "output_type": "stream",
     "text": [
      "m_a_r_i_a_m\n"
     ]
    }
   ],
   "execution_count": 4
  },
  {
   "metadata": {
    "ExecuteTime": {
     "end_time": "2024-11-14T10:27:34.005369Z",
     "start_time": "2024-11-14T10:27:34.000946Z"
    }
   },
   "cell_type": "code",
   "source": [
    "courses = [\"python\", \"ml\", 'la', \"dl\"]\n",
    "newstring = \"\"\n",
    "for c in courses:\n",
    "    newstring += f\"{c}_\"\n",
    "    \n",
    "print(newstring)\n",
    "print(newstring.strip(\"_\"))"
   ],
   "id": "f4388bc1e920738e",
   "outputs": [
    {
     "name": "stdout",
     "output_type": "stream",
     "text": [
      "python_ml_la_dl_\n",
      "python_ml_la_dl\n"
     ]
    }
   ],
   "execution_count": 9
  },
  {
   "metadata": {
    "ExecuteTime": {
     "end_time": "2024-11-14T10:26:21.956710Z",
     "start_time": "2024-11-14T10:26:21.952709Z"
    }
   },
   "cell_type": "code",
   "source": [
    "courses = [\"python\", \"ml\", 'la', \"dl\"]\n",
    "newstring = '_'.join(courses) # join accept iterable of strings \n",
    "print(newstring)"
   ],
   "id": "43eab6d6d9db7f42",
   "outputs": [
    {
     "name": "stdout",
     "output_type": "stream",
     "text": [
      "python_ml_la_dl\n"
     ]
    }
   ],
   "execution_count": 7
  },
  {
   "metadata": {},
   "cell_type": "markdown",
   "source": "# tips ",
   "id": "4eca55cf88490a28"
  },
  {
   "metadata": {
    "ExecuteTime": {
     "end_time": "2024-11-14T10:29:26.963680Z",
     "start_time": "2024-11-14T10:29:26.959819Z"
    }
   },
   "cell_type": "code",
   "source": [
    "tt = (\"tt\", 'wrwr', 233, 2333)\n",
    "\n",
    "ll = list(tt)\n",
    "print(ll)"
   ],
   "id": "9d59747ba3e0eb0d",
   "outputs": [
    {
     "name": "stdout",
     "output_type": "stream",
     "text": [
      "['tt', 'wrwr', 233, 2333]\n"
     ]
    }
   ],
   "execution_count": 10
  },
  {
   "metadata": {},
   "cell_type": "code",
   "outputs": [],
   "execution_count": null,
   "source": "",
   "id": "a99e39523f81fda5"
  },
  {
   "metadata": {},
   "cell_type": "markdown",
   "source": "# Ranges ",
   "id": "d834036d0c8e2937"
  },
  {
   "metadata": {
    "ExecuteTime": {
     "end_time": "2024-11-14T10:30:16.166594Z",
     "start_time": "2024-11-14T10:30:16.162974Z"
    }
   },
   "cell_type": "code",
   "source": [
    "r = range(10) # iterable\n",
    "print(r)"
   ],
   "id": "b9f73b67739dd0ba",
   "outputs": [
    {
     "name": "stdout",
     "output_type": "stream",
     "text": [
      "range(0, 10)\n"
     ]
    }
   ],
   "execution_count": 11
  },
  {
   "metadata": {
    "ExecuteTime": {
     "end_time": "2024-11-14T10:30:44.316546Z",
     "start_time": "2024-11-14T10:30:44.312319Z"
    }
   },
   "cell_type": "code",
   "source": [
    "for num in r:  # 0---> 9\n",
    "    print(f\"num={num}\")"
   ],
   "id": "8d4cd9e072a9b5e3",
   "outputs": [
    {
     "name": "stdout",
     "output_type": "stream",
     "text": [
      "num=0\n",
      "num=1\n",
      "num=2\n",
      "num=3\n",
      "num=4\n",
      "num=5\n",
      "num=6\n",
      "num=7\n",
      "num=8\n",
      "num=9\n"
     ]
    }
   ],
   "execution_count": 12
  },
  {
   "metadata": {
    "ExecuteTime": {
     "end_time": "2024-11-14T10:31:10.029764Z",
     "start_time": "2024-11-14T10:31:10.026421Z"
    }
   },
   "cell_type": "code",
   "source": [
    "rr = range(1, 20)\n",
    "print(rr)"
   ],
   "id": "94e1dfafa92b1a86",
   "outputs": [
    {
     "name": "stdout",
     "output_type": "stream",
     "text": [
      "range(1, 20)\n"
     ]
    }
   ],
   "execution_count": 13
  },
  {
   "metadata": {
    "ExecuteTime": {
     "end_time": "2024-11-14T10:31:34.854408Z",
     "start_time": "2024-11-14T10:31:34.848743Z"
    }
   },
   "cell_type": "code",
   "source": [
    "# range object can be casted to list or tuple \n",
    "nums = list(rr)\n",
    "print(nums)"
   ],
   "id": "a6f5730205b2ba44",
   "outputs": [
    {
     "name": "stdout",
     "output_type": "stream",
     "text": [
      "[1, 2, 3, 4, 5, 6, 7, 8, 9, 10, 11, 12, 13, 14, 15, 16, 17, 18, 19]\n"
     ]
    }
   ],
   "execution_count": 14
  },
  {
   "metadata": {
    "ExecuteTime": {
     "end_time": "2024-11-14T10:32:09.302794Z",
     "start_time": "2024-11-14T10:32:09.299326Z"
    }
   },
   "cell_type": "code",
   "source": [
    "rr = range(1, 20, 3)\n",
    "print(rr)"
   ],
   "id": "44d6243961d751f9",
   "outputs": [
    {
     "name": "stdout",
     "output_type": "stream",
     "text": [
      "range(1, 20, 3)\n"
     ]
    }
   ],
   "execution_count": 15
  },
  {
   "metadata": {
    "ExecuteTime": {
     "end_time": "2024-11-14T10:32:14.665410Z",
     "start_time": "2024-11-14T10:32:14.662014Z"
    }
   },
   "cell_type": "code",
   "source": "print(list(rr))",
   "id": "1bda0a57beb23171",
   "outputs": [
    {
     "name": "stdout",
     "output_type": "stream",
     "text": [
      "[1, 4, 7, 10, 13, 16, 19]\n"
     ]
    }
   ],
   "execution_count": 16
  },
  {
   "metadata": {
    "ExecuteTime": {
     "end_time": "2024-11-14T10:32:42.939751Z",
     "start_time": "2024-11-14T10:32:42.935316Z"
    }
   },
   "cell_type": "code",
   "source": [
    "rr = range(1, 20,-3)\n",
    "print(rr)\n",
    "print(list(rr))"
   ],
   "id": "cfd2961492b59685",
   "outputs": [
    {
     "name": "stdout",
     "output_type": "stream",
     "text": [
      "range(1, 20, -3)\n",
      "[]\n"
     ]
    }
   ],
   "execution_count": 18
  },
  {
   "metadata": {
    "ExecuteTime": {
     "end_time": "2024-11-14T10:33:50.061855Z",
     "start_time": "2024-11-14T10:33:50.058796Z"
    }
   },
   "cell_type": "code",
   "source": [
    "rr = range(20, 1, -3)\n",
    "print(rr)\n",
    "print(list(rr))"
   ],
   "id": "1d946c0a0df99ef5",
   "outputs": [
    {
     "name": "stdout",
     "output_type": "stream",
     "text": [
      "range(20, 1, -3)\n",
      "[20, 17, 14, 11, 8, 5, 2]\n"
     ]
    }
   ],
   "execution_count": 19
  },
  {
   "metadata": {},
   "cell_type": "code",
   "outputs": [],
   "execution_count": null,
   "source": "",
   "id": "9847d3ada5ddafaa"
  }
 ],
 "metadata": {
  "kernelspec": {
   "display_name": "Python 3",
   "language": "python",
   "name": "python3"
  },
  "language_info": {
   "codemirror_mode": {
    "name": "ipython",
    "version": 2
   },
   "file_extension": ".py",
   "mimetype": "text/x-python",
   "name": "python",
   "nbconvert_exporter": "python",
   "pygments_lexer": "ipython2",
   "version": "2.7.6"
  }
 },
 "nbformat": 4,
 "nbformat_minor": 5
}
