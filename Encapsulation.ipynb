{
 "cells": [
  {
   "metadata": {},
   "cell_type": "markdown",
   "source": [
    "# <p style=\"padding:10px;background-color:pink;margin:0;color:black;font-family:newtimeroman;font-size:150%;text-align:center;border-radius: 15px 50px;overflow:hidden;font-weight:500\">Encapsulation</p>\n",
    "# No access modifiers in python\n"
   ],
   "id": "7ffa43ad7bc73380"
  },
  {
   "cell_type": "code",
   "execution_count": null,
   "id": "initial_id",
   "metadata": {
    "collapsed": true
   },
   "outputs": [],
   "source": [
    "# no explicit keywords public, protected ,private \n",
    "# we will use naming convention to represent public, protected , private \n",
    "\"\"\"\n",
    "    any variable starts  char[a-zA-Z] --> public \n",
    "    any variable starts with _ --> protected\n",
    "    any variable starts with __ --> private\n",
    "    \n",
    "\"\"\"\n",
    "class Employee:\n",
    "    def __init__(self, name, email, salary):\n",
    "        self.name = name\n",
    "        self._email = email\n",
    "        self.__salary = salary\n",
    "        "
   ]
  },
  {
   "metadata": {},
   "cell_type": "markdown",
   "source": "",
   "id": "35a8137c7d20ff39"
  },
  {
   "metadata": {
    "ExecuteTime": {
     "end_time": "2024-11-21T11:31:14.687453Z",
     "start_time": "2024-11-21T11:31:14.662975Z"
    }
   },
   "cell_type": "code",
   "source": [
    "class Employee:\n",
    "    def __init__(self, name, email, salary):\n",
    "        self.name = name\n",
    "        self._email = email\n",
    "        self.__salary = salary   # \n",
    "        \n",
    "        \n",
    "    def get_salary(self):\n",
    "        return self.__salary\n",
    "    def set_salary(self, salary):\n",
    "        if isinstance(salary, int) or isinstance(salary, float) and salary > 0:\n",
    "            self.__salary = salary\n",
    "        else:\n",
    "            raise ValueError('salary must be an integer or float')\n",
    "            \n",
    "        \n",
    "emp = Employee('John', '<EMAIL>', 12000)\n",
    "# emp._Employee__salary = 12000 # we do that here \n",
    "print(emp.get_salary())\n",
    "emp.set_salary(9000)\n",
    "print(emp.__dict__)        "
   ],
   "id": "87cca8aabc28b62a",
   "outputs": [
    {
     "name": "stdout",
     "output_type": "stream",
     "text": [
      "12000\n",
      "{'name': 'John', '_email': '<EMAIL>', '_Employee__salary': 9000}\n"
     ]
    }
   ],
   "execution_count": 2
  },
  {
   "metadata": {},
   "cell_type": "markdown",
   "source": "# use property decorator ",
   "id": "75f92865d8abdc5e"
  },
  {
   "metadata": {
    "ExecuteTime": {
     "end_time": "2024-11-21T11:35:15.318222Z",
     "start_time": "2024-11-21T11:35:15.071071Z"
    }
   },
   "cell_type": "code",
   "source": [
    "class Employee:\n",
    "    def __init__(self, name, email, salary):\n",
    "        self.name = name\n",
    "        self._email = email\n",
    "        self.__salary = salary   # \n",
    "        \n",
    "        \n",
    "    def get_salary(self):\n",
    "        return self.__salary\n",
    "    def set_salary(self, salary):\n",
    "        if isinstance(salary, int) or isinstance(salary, float) and salary > 0:\n",
    "            self.__salary = salary\n",
    "        else:\n",
    "            raise ValueError('salary must be an integer or float')\n",
    "    \n",
    "    @property    # \n",
    "    def salary(self):\n",
    "        return self.__salary\n",
    "\n",
    "emp= Employee('Ahmed', 'ahmed@gmail.com', 12000)\n",
    "print(emp.get_salary())\n",
    "print(emp.salary)\n",
    "print(emp.__dict__)\n",
    "\n",
    "emp.city='mansoura'\n",
    "print(emp.__dict__)\n",
    "emp.salary = 88888"
   ],
   "id": "30c453d43fa9f0a5",
   "outputs": [
    {
     "name": "stdout",
     "output_type": "stream",
     "text": [
      "12000\n",
      "12000\n",
      "{'name': 'Ahmed', '_email': 'ahmed@gmail.com', '_Employee__salary': 12000}\n",
      "{'name': 'Ahmed', '_email': 'ahmed@gmail.com', '_Employee__salary': 12000, 'city': 'mansoura'}\n"
     ]
    },
    {
     "ename": "AttributeError",
     "evalue": "property 'salary' of 'Employee' object has no setter",
     "output_type": "error",
     "traceback": [
      "\u001B[0;31m---------------------------------------------------------------------------\u001B[0m",
      "\u001B[0;31mAttributeError\u001B[0m                            Traceback (most recent call last)",
      "Cell \u001B[0;32mIn[6], line 27\u001B[0m\n\u001B[1;32m     25\u001B[0m emp\u001B[38;5;241m.\u001B[39mcity\u001B[38;5;241m=\u001B[39m\u001B[38;5;124m'\u001B[39m\u001B[38;5;124mmansoura\u001B[39m\u001B[38;5;124m'\u001B[39m\n\u001B[1;32m     26\u001B[0m \u001B[38;5;28mprint\u001B[39m(emp\u001B[38;5;241m.\u001B[39m\u001B[38;5;18m__dict__\u001B[39m)\n\u001B[0;32m---> 27\u001B[0m \u001B[43memp\u001B[49m\u001B[38;5;241;43m.\u001B[39;49m\u001B[43msalary\u001B[49m \u001B[38;5;241m=\u001B[39m \u001B[38;5;241m88888\u001B[39m\n",
      "\u001B[0;31mAttributeError\u001B[0m: property 'salary' of 'Employee' object has no setter"
     ]
    }
   ],
   "execution_count": 6
  },
  {
   "metadata": {},
   "cell_type": "code",
   "outputs": [],
   "execution_count": null,
   "source": "",
   "id": "65f20b2d449ea22a"
  },
  {
   "metadata": {},
   "cell_type": "markdown",
   "source": "# create setter for the property ",
   "id": "c718c5f88e851a6f"
  },
  {
   "metadata": {
    "ExecuteTime": {
     "end_time": "2024-11-21T11:39:58.052043Z",
     "start_time": "2024-11-21T11:39:58.045390Z"
    }
   },
   "cell_type": "code",
   "source": [
    "class Employee:\n",
    "    def __init__(self, name, email, salary):\n",
    "        self.name = name\n",
    "        self._email = email\n",
    "        self.__salary = salary   # \n",
    "        \n",
    "        \n",
    "    def get_salary(self):\n",
    "        return self.__salary\n",
    "    def set_salary(self, salary):\n",
    "        if isinstance(salary, int) or isinstance(salary, float) and salary > 0:\n",
    "            self.__salary = salary\n",
    "        else:\n",
    "            raise ValueError('salary must be an integer or float')\n",
    "    \n",
    "    @property    # \n",
    "    def salary(self):\n",
    "        return self.__salary\n",
    "    \n",
    "    @salary.setter\n",
    "    def salary(self, salary):\n",
    "        if isinstance(salary, int) or isinstance(salary, float) and salary > 0:\n",
    "            self.__salary = salary\n",
    "        else:\n",
    "            raise ValueError('salary must be an integer or float')\n",
    "        \n",
    "        \n",
    "        \n",
    "\n",
    "emp= Employee('Ahmed', 'ahmed@gmail.com', 12000)\n",
    "emp.set_salary(88888)\n",
    "print(emp.__dict__)\n",
    "emp.salary = 77777\n",
    "print(emp.__dict__)"
   ],
   "id": "d3aa163e721f5d18",
   "outputs": [
    {
     "name": "stdout",
     "output_type": "stream",
     "text": [
      "{'name': 'Ahmed', '_email': 'ahmed@gmail.com', '_Employee__salary': 88888}\n",
      "{'name': 'Ahmed', '_email': 'ahmed@gmail.com', '_Employee__salary': 77777}\n"
     ]
    }
   ],
   "execution_count": 8
  },
  {
   "metadata": {
    "ExecuteTime": {
     "end_time": "2024-11-21T11:41:34.524658Z",
     "start_time": "2024-11-21T11:41:34.498758Z"
    }
   },
   "cell_type": "code",
   "source": [
    "class Employee:\n",
    "    def __init__(self, name, email, salary):\n",
    "        self.name = name\n",
    "        self._email = email\n",
    "        self.__salary = salary   # \n",
    "        \n",
    "\n",
    "    @property    # \n",
    "    def salary(self):\n",
    "        return self.__salary\n",
    "    \n",
    "    @salary.setter\n",
    "    def salary(self, salary):\n",
    "        if isinstance(salary, int) or isinstance(salary, float) and salary > 0:\n",
    "            self.__salary = salary\n",
    "        else:\n",
    "            raise ValueError('salary must be an integer or float')\n",
    "        \n",
    "        \n",
    "        \n",
    "\n",
    "emp= Employee('Ahmed', 'ahmed@gmail.com', 12000)\n",
    "print(emp.salary)\n",
    "emp.salary = 7816283\n",
    "print(emp.__dict__)"
   ],
   "id": "fd1f5c372a04b5ef",
   "outputs": [
    {
     "name": "stdout",
     "output_type": "stream",
     "text": [
      "12000\n",
      "{'name': 'Ahmed', '_email': 'ahmed@gmail.com', '_Employee__salary': 7816283}\n"
     ]
    }
   ],
   "execution_count": 10
  },
  {
   "metadata": {
    "ExecuteTime": {
     "end_time": "2024-11-21T11:43:15.039512Z",
     "start_time": "2024-11-21T11:43:14.991527Z"
    }
   },
   "cell_type": "code",
   "source": [
    "class Employee:\n",
    "    def __init__(self, name, email, salary):\n",
    "        self.name = name\n",
    "        self._email = email\n",
    "        self.__salary = salary   # \n",
    "        \n",
    "        \n",
    "    def get_salary(self):\n",
    "        return self.__salary\n",
    "    def set_salary(self, salary):\n",
    "        if isinstance(salary, int) or isinstance(salary, float) and salary > 0:\n",
    "            self.__salary = salary\n",
    "        else:\n",
    "            raise ValueError('salary must be an integer or float')\n",
    "    \n",
    "    @property    # \n",
    "    def salary(self):\n",
    "        return self.__salary*.8\n",
    "    \n",
    "    @salary.setter\n",
    "    def salary(self, salary):\n",
    "        if isinstance(salary, int) or isinstance(salary, float) and salary > 0:\n",
    "            self.__salary = salary\n",
    "        else:\n",
    "            raise ValueError('salary must be an integer or float')\n",
    "        \n",
    "        \n",
    "        \n",
    "\n",
    "emp= Employee('Ahmed', 'ahmed@gmail.com', \"salary\")\n",
    "print(emp)\n",
    "print(emp.__dict__)\n",
    "print(emp.salary)\n"
   ],
   "id": "d934694191e53f5e",
   "outputs": [
    {
     "name": "stdout",
     "output_type": "stream",
     "text": [
      "<__main__.Employee object at 0x76a99f12f2c0>\n",
      "{'name': 'Ahmed', '_email': 'ahmed@gmail.com', '_Employee__salary': 'salary'}\n"
     ]
    },
    {
     "ename": "TypeError",
     "evalue": "can't multiply sequence by non-int of type 'float'",
     "output_type": "error",
     "traceback": [
      "\u001B[0;31m---------------------------------------------------------------------------\u001B[0m",
      "\u001B[0;31mTypeError\u001B[0m                                 Traceback (most recent call last)",
      "Cell \u001B[0;32mIn[13], line 33\u001B[0m\n\u001B[1;32m     31\u001B[0m \u001B[38;5;28mprint\u001B[39m(emp)\n\u001B[1;32m     32\u001B[0m \u001B[38;5;28mprint\u001B[39m(emp\u001B[38;5;241m.\u001B[39m\u001B[38;5;18m__dict__\u001B[39m)\n\u001B[0;32m---> 33\u001B[0m \u001B[38;5;28mprint\u001B[39m(\u001B[43memp\u001B[49m\u001B[38;5;241;43m.\u001B[39;49m\u001B[43msalary\u001B[49m)\n",
      "Cell \u001B[0;32mIn[13], line 18\u001B[0m, in \u001B[0;36mEmployee.salary\u001B[0;34m(self)\u001B[0m\n\u001B[1;32m     16\u001B[0m \u001B[38;5;129m@property\u001B[39m    \u001B[38;5;66;03m# \u001B[39;00m\n\u001B[1;32m     17\u001B[0m \u001B[38;5;28;01mdef\u001B[39;00m \u001B[38;5;21msalary\u001B[39m(\u001B[38;5;28mself\u001B[39m):\n\u001B[0;32m---> 18\u001B[0m     \u001B[38;5;28;01mreturn\u001B[39;00m \u001B[38;5;28;43mself\u001B[39;49m\u001B[38;5;241;43m.\u001B[39;49m\u001B[43m__salary\u001B[49m\u001B[38;5;241;43m*\u001B[39;49m\u001B[38;5;241;43m.8\u001B[39;49m\n",
      "\u001B[0;31mTypeError\u001B[0m: can't multiply sequence by non-int of type 'float'"
     ]
    }
   ],
   "execution_count": 13
  },
  {
   "metadata": {
    "ExecuteTime": {
     "end_time": "2024-11-21T11:44:01.172128Z",
     "start_time": "2024-11-21T11:44:01.101845Z"
    }
   },
   "cell_type": "code",
   "source": [
    "class Employee:\n",
    "    def __init__(self, name, email, salary):\n",
    "        self.name = name\n",
    "        self._email = email\n",
    "        if isinstance(salary, int) or isinstance(salary, float) and salary > 0:\n",
    "            self.__salary = salary\n",
    "        else:\n",
    "            raise ValueError('salary must be an integer or float')\n",
    "        \n",
    "        \n",
    "    def get_salary(self):\n",
    "        return self.__salary\n",
    "    def set_salary(self, salary):\n",
    "        if isinstance(salary, int) or isinstance(salary, float) and salary > 0:\n",
    "            self.__salary = salary\n",
    "        else:\n",
    "            raise ValueError('salary must be an integer or float')\n",
    "    \n",
    "    @property    # \n",
    "    def salary(self):\n",
    "        return self.__salary*.8\n",
    "    \n",
    "    @salary.setter\n",
    "    def salary(self, salary):\n",
    "        if isinstance(salary, int) or isinstance(salary, float) and salary > 0:\n",
    "            self.__salary = salary\n",
    "        else:\n",
    "            raise ValueError('salary must be an integer or float')\n",
    "        \n",
    "        \n",
    "        \n",
    "\n",
    "emp= Employee('Ahmed', 'ahmed@gmail.com', \"salary\")\n",
    "print(emp)\n",
    "print(emp.__dict__)\n",
    "print(emp.salary)"
   ],
   "id": "740541a7f0f1d8fa",
   "outputs": [
    {
     "ename": "ValueError",
     "evalue": "salary must be an integer or float",
     "output_type": "error",
     "traceback": [
      "\u001B[0;31m---------------------------------------------------------------------------\u001B[0m",
      "\u001B[0;31mValueError\u001B[0m                                Traceback (most recent call last)",
      "Cell \u001B[0;32mIn[14], line 33\u001B[0m\n\u001B[1;32m     27\u001B[0m         \u001B[38;5;28;01melse\u001B[39;00m:\n\u001B[1;32m     28\u001B[0m             \u001B[38;5;28;01mraise\u001B[39;00m \u001B[38;5;167;01mValueError\u001B[39;00m(\u001B[38;5;124m'\u001B[39m\u001B[38;5;124msalary must be an integer or float\u001B[39m\u001B[38;5;124m'\u001B[39m)\n\u001B[0;32m---> 33\u001B[0m emp\u001B[38;5;241m=\u001B[39m \u001B[43mEmployee\u001B[49m\u001B[43m(\u001B[49m\u001B[38;5;124;43m'\u001B[39;49m\u001B[38;5;124;43mAhmed\u001B[39;49m\u001B[38;5;124;43m'\u001B[39;49m\u001B[43m,\u001B[49m\u001B[43m \u001B[49m\u001B[38;5;124;43m'\u001B[39;49m\u001B[38;5;124;43mahmed@gmail.com\u001B[39;49m\u001B[38;5;124;43m'\u001B[39;49m\u001B[43m,\u001B[49m\u001B[43m \u001B[49m\u001B[38;5;124;43m\"\u001B[39;49m\u001B[38;5;124;43msalary\u001B[39;49m\u001B[38;5;124;43m\"\u001B[39;49m\u001B[43m)\u001B[49m\n\u001B[1;32m     34\u001B[0m \u001B[38;5;28mprint\u001B[39m(emp)\n\u001B[1;32m     35\u001B[0m \u001B[38;5;28mprint\u001B[39m(emp\u001B[38;5;241m.\u001B[39m\u001B[38;5;18m__dict__\u001B[39m)\n",
      "Cell \u001B[0;32mIn[14], line 8\u001B[0m, in \u001B[0;36mEmployee.__init__\u001B[0;34m(self, name, email, salary)\u001B[0m\n\u001B[1;32m      6\u001B[0m     \u001B[38;5;28mself\u001B[39m\u001B[38;5;241m.\u001B[39m__salary \u001B[38;5;241m=\u001B[39m salary\n\u001B[1;32m      7\u001B[0m \u001B[38;5;28;01melse\u001B[39;00m:\n\u001B[0;32m----> 8\u001B[0m     \u001B[38;5;28;01mraise\u001B[39;00m \u001B[38;5;167;01mValueError\u001B[39;00m(\u001B[38;5;124m'\u001B[39m\u001B[38;5;124msalary must be an integer or float\u001B[39m\u001B[38;5;124m'\u001B[39m)\n",
      "\u001B[0;31mValueError\u001B[0m: salary must be an integer or float"
     ]
    }
   ],
   "execution_count": 14
  },
  {
   "metadata": {},
   "cell_type": "code",
   "outputs": [],
   "execution_count": null,
   "source": "",
   "id": "444dd74b0c88aba0"
  }
 ],
 "metadata": {
  "kernelspec": {
   "display_name": "Python 3",
   "language": "python",
   "name": "python3"
  },
  "language_info": {
   "codemirror_mode": {
    "name": "ipython",
    "version": 2
   },
   "file_extension": ".py",
   "mimetype": "text/x-python",
   "name": "python",
   "nbconvert_exporter": "python",
   "pygments_lexer": "ipython2",
   "version": "2.7.6"
  }
 },
 "nbformat": 4,
 "nbformat_minor": 5
}
