{
 "cells": [
  {
   "metadata": {},
   "cell_type": "markdown",
   "source": "# <p style=\"padding:10px;background-color:purple;margin:0;color:white;font-family:newtimeroman;font-size:150%;text-align:center;border-radius: 15px 50px;overflow:hidden;font-weight:500\">open and close file </p>",
   "id": "cca80495e4666292"
  },
  {
   "metadata": {
    "ExecuteTime": {
     "end_time": "2024-11-20T10:12:02.317718Z",
     "start_time": "2024-11-20T10:12:02.311679Z"
    }
   },
   "cell_type": "code",
   "source": [
    "try:\n",
    "    # open(filename, mode) ---> mode r , w -- a (append)\n",
    "    filobj = open('stds.txt', 'r')  # consider mode = r\n",
    "    print(filobj)\n",
    "    filobj.close()\n",
    "except Exception as e:\n",
    "    print(e)"
   ],
   "id": "bab0d1d2f4a0a293",
   "outputs": [
    {
     "name": "stdout",
     "output_type": "stream",
     "text": [
      "<_io.TextIOWrapper name='stds.txt' mode='r' encoding='UTF-8'>\n"
     ]
    }
   ],
   "execution_count": 3
  },
  {
   "metadata": {},
   "cell_type": "markdown",
   "source": "# <p style=\"padding:10px;background-color:green;margin:0;color:white;font-family:newtimeroman;font-size:150%;text-align:center;border-radius: 15px 50px;overflow:hidden;font-weight:500\">Read data from file file </p>",
   "id": "673a64da111a1926"
  },
  {
   "cell_type": "code",
   "id": "initial_id",
   "metadata": {
    "collapsed": true,
    "ExecuteTime": {
     "end_time": "2024-11-20T10:14:24.710777Z",
     "start_time": "2024-11-20T10:14:24.704423Z"
    }
   },
   "source": [
    "try:\n",
    "    # open(filename, mode) ---> mode r , w -- a (append)\n",
    "    filobj = open('stds.txt', 'r')  # consider mode = r\n",
    "    print(filobj) \n",
    "    data = filobj.read() # read file content into one string \n",
    "    print(data, type(data))\n",
    "    data3 = filobj.read()\n",
    "    print(f\"data3 = {data3}\")\n",
    "    filobj.close()\n",
    "except Exception as e:\n",
    "    print(e)"
   ],
   "outputs": [
    {
     "name": "stdout",
     "output_type": "stream",
     "text": [
      "<_io.TextIOWrapper name='stds.txt' mode='r' encoding='UTF-8'>\n",
      "Alaa\n",
      "Nagwa\n",
      "Amr\n",
      "Mohamed Salama\n",
      "Israa\n",
      "Sara <class 'str'>\n",
      "data3 = \n"
     ]
    }
   ],
   "execution_count": 5
  },
  {
   "metadata": {},
   "cell_type": "markdown",
   "source": "# seek ",
   "id": "5d0c232de782fca0"
  },
  {
   "metadata": {
    "ExecuteTime": {
     "end_time": "2024-11-20T10:23:12.568739Z",
     "start_time": "2024-11-20T10:23:12.563449Z"
    }
   },
   "cell_type": "code",
   "source": [
    "# read file line by line \n",
    "\n",
    "try:\n",
    "    # open(filename, mode) ---> mode r , w -- a (append)\n",
    "    # open file for reading starting form the beginning of the file \n",
    "    filobj = open('stds.txt', 'r')  # consider mode = r\n",
    "    print(filobj) \n",
    "    ### Now I will start the reading operation \n",
    "    # data = filobj.read() # read file content into one string \n",
    "    # print(data, type(data))\n",
    "    # filobj.seek(12)\n",
    "    lines = filobj.readlines(15) # maximum bytes\n",
    "    print(f\"data3 = {lines}\")\n",
    "    filobj.close()\n",
    "except Exception as e:\n",
    "    print(e)\n"
   ],
   "id": "f7483038786ef734",
   "outputs": [
    {
     "name": "stdout",
     "output_type": "stream",
     "text": [
      "<_io.TextIOWrapper name='stds.txt' mode='r' encoding='UTF-8'>\n",
      "data3 = ['Alaa\\n', 'Nagwa\\n', 'Amr\\n', 'Mohamed Salama\\n']\n"
     ]
    }
   ],
   "execution_count": 14
  },
  {
   "metadata": {},
   "cell_type": "markdown",
   "source": "# <p style=\"padding:10px;background-color:brown;margin:0;color:white;font-family:newtimeroman;font-size:150%;text-align:center;border-radius: 15px 50px;overflow:hidden;font-weight:500\">write data to the file </p>",
   "id": "ac44d3889dd1e265"
  },
  {
   "metadata": {},
   "cell_type": "markdown",
   "source": "# if you are openning file with w mode  if file not exists --> python try to create it. ",
   "id": "4bca53ece654251a"
  },
  {
   "metadata": {
    "ExecuteTime": {
     "end_time": "2024-11-20T10:27:33.363296Z",
     "start_time": "2024-11-20T10:27:33.353900Z"
    }
   },
   "cell_type": "code",
   "source": [
    "try:\n",
    "    # open(filename, mode) ---> mode r , w -- a (append)\n",
    "    filobj = open('mycv.txt', 'w')  # consider mode = w\n",
    "    print(filobj)\n",
    "    \n",
    "    # write data to the file ??\n",
    "    filobj.write(\"--- Hello from Ghaza ---\")\n",
    "    filobj.close()\n",
    "except Exception as e:\n",
    "    print(e)"
   ],
   "id": "3e72ac952e77f86c",
   "outputs": [
    {
     "name": "stdout",
     "output_type": "stream",
     "text": [
      "<_io.TextIOWrapper name='mycv.txt' mode='w' encoding='UTF-8'>\n"
     ]
    }
   ],
   "execution_count": 16
  },
  {
   "metadata": {},
   "cell_type": "markdown",
   "source": [
    "<pre style='color:blue'> when you try to open file --already exists with mode w -- ? open file for writing \n",
    "starting from the begining of the file  <span style='color:red' >Erase old content</span>\n",
    "</pre>"
   ],
   "id": "43743eb39b5c5845"
  },
  {
   "metadata": {
    "ExecuteTime": {
     "end_time": "2024-11-20T10:32:00.823373Z",
     "start_time": "2024-11-20T10:32:00.819752Z"
    }
   },
   "cell_type": "code",
   "source": [
    "try:\n",
    "    fileobj2 =open(\"mycv.txt\", \"w\")\n",
    "    fileobj2.write(\"--- Hello from Ghaza ---\\n\")\n",
    "    fileobj2.write(\"AI_Mansour 45 <3 <3\\n\")\n",
    "    fileobj2.write(\"------------------------\")\n",
    "    fileobj2.close()\n",
    "except Exception as e:\n",
    "    print(e)"
   ],
   "id": "39232d1cbe6394b8",
   "outputs": [],
   "execution_count": 21
  },
  {
   "metadata": {
    "ExecuteTime": {
     "end_time": "2024-11-20T10:36:16.239739Z",
     "start_time": "2024-11-20T10:36:16.235587Z"
    }
   },
   "cell_type": "code",
   "source": [
    "try:\n",
    "    fileobj2 =open(\"mycv.txt\", \"w\")\n",
    "    fileobj2.seek(10)\n",
    "    fileobj2.writelines([\"Ahmed\\n\", 'reham\\n', 'rehab\\n', \"Israa\", \"Aya\", \"mariam\"])\n",
    "    fileobj2.close()\n",
    "except Exception as e:\n",
    "    print(e)"
   ],
   "id": "f9983b307444fb12",
   "outputs": [],
   "execution_count": 26
  },
  {
   "metadata": {},
   "cell_type": "markdown",
   "source": [
    "# append \n",
    "<pre> if file doesn't exit --> create file , \n",
    "if exists keep old content , start adding string from the end of the file</pre>"
   ],
   "id": "43c09e3ad5be66a5"
  },
  {
   "metadata": {
    "ExecuteTime": {
     "end_time": "2024-11-20T10:39:12.263226Z",
     "start_time": "2024-11-20T10:39:12.254172Z"
    }
   },
   "cell_type": "code",
   "source": [
    "try:\n",
    "    fileobj2 =open(\"mmmm.txt\", \"a\")\n",
    "    fileobj2.write(\"Hiii\\n\")\n",
    "    fileobj2.close()\n",
    "except Exception as e:\n",
    "    print(e)"
   ],
   "id": "721ffe27aaae2093",
   "outputs": [],
   "execution_count": 31
  },
  {
   "metadata": {},
   "cell_type": "code",
   "outputs": [],
   "execution_count": null,
   "source": "",
   "id": "90aa0ced7565b371"
  }
 ],
 "metadata": {
  "kernelspec": {
   "display_name": "Python 3",
   "language": "python",
   "name": "python3"
  },
  "language_info": {
   "codemirror_mode": {
    "name": "ipython",
    "version": 2
   },
   "file_extension": ".py",
   "mimetype": "text/x-python",
   "name": "python",
   "nbconvert_exporter": "python",
   "pygments_lexer": "ipython2",
   "version": "2.7.6"
  }
 },
 "nbformat": 4,
 "nbformat_minor": 5
}
