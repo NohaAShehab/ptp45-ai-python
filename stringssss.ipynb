{
 "cells": [
  {
   "cell_type": "code",
   "id": "initial_id",
   "metadata": {
    "collapsed": true,
    "ExecuteTime": {
     "end_time": "2024-11-12T09:25:22.571911Z",
     "start_time": "2024-11-12T09:25:22.568241Z"
    }
   },
   "source": [
    "\"1- define a string\"\n",
    "iti  = \"Information Technology Institute\"\n"
   ],
   "outputs": [],
   "execution_count": 2
  },
  {
   "metadata": {
    "ExecuteTime": {
     "end_time": "2024-11-12T09:25:24.757629Z",
     "start_time": "2024-11-12T09:25:24.753095Z"
    }
   },
   "cell_type": "code",
   "source": [
    "\"2- get len of the string\"\n",
    "print(len(iti))"
   ],
   "id": "ff5176ffdc32c56f",
   "outputs": [
    {
     "name": "stdout",
     "output_type": "stream",
     "text": [
      "32\n"
     ]
    }
   ],
   "execution_count": 3
  },
  {
   "metadata": {
    "ExecuteTime": {
     "end_time": "2024-11-12T09:25:46.069712Z",
     "start_time": "2024-11-12T09:25:46.054251Z"
    }
   },
   "cell_type": "code",
   "source": [
    "\"3- count char occurrence\" \n",
    "print(iti.count(\"i\"))"
   ],
   "id": "a11cc70477ec2181",
   "outputs": [
    {
     "name": "stdout",
     "output_type": "stream",
     "text": [
      "2\n"
     ]
    }
   ],
   "execution_count": 4
  },
  {
   "metadata": {},
   "cell_type": "markdown",
   "source": "access char using index ",
   "id": "d7b641fa69ebd7e9"
  },
  {
   "metadata": {
    "ExecuteTime": {
     "end_time": "2024-11-12T09:26:19.791605Z",
     "start_time": "2024-11-12T09:26:19.788058Z"
    }
   },
   "cell_type": "code",
   "source": "print(iti[1])",
   "id": "247bcc4f7ce62926",
   "outputs": [
    {
     "name": "stdout",
     "output_type": "stream",
     "text": [
      "n\n"
     ]
    }
   ],
   "execution_count": 5
  },
  {
   "metadata": {
    "ExecuteTime": {
     "end_time": "2024-11-12T09:26:36.672713Z",
     "start_time": "2024-11-12T09:26:36.662135Z"
    }
   },
   "cell_type": "code",
   "source": "print(iti[1:6])",
   "id": "db61db9ab2aaac0b",
   "outputs": [
    {
     "name": "stdout",
     "output_type": "stream",
     "text": [
      "nform\n"
     ]
    }
   ],
   "execution_count": 6
  },
  {
   "metadata": {
    "ExecuteTime": {
     "end_time": "2024-11-12T09:27:01.024441Z",
     "start_time": "2024-11-12T09:27:01.015029Z"
    }
   },
   "cell_type": "code",
   "source": "print(iti[::])",
   "id": "c17f2e7fecf7713a",
   "outputs": [
    {
     "name": "stdout",
     "output_type": "stream",
     "text": [
      "Information Technology Institute\n"
     ]
    }
   ],
   "execution_count": 7
  },
  {
   "metadata": {
    "ExecuteTime": {
     "end_time": "2024-11-12T09:27:11.411631Z",
     "start_time": "2024-11-12T09:27:11.398127Z"
    }
   },
   "cell_type": "code",
   "source": "print(iti[::-1])  # return new string \n",
   "id": "92c5fa620f686daa",
   "outputs": [
    {
     "name": "stdout",
     "output_type": "stream",
     "text": [
      "etutitsnI ygolonhceT noitamrofnI\n"
     ]
    }
   ],
   "execution_count": 8
  },
  {
   "metadata": {},
   "cell_type": "markdown",
   "source": "get index of char ",
   "id": "ed6f5b0eed4f864e"
  },
  {
   "metadata": {
    "ExecuteTime": {
     "end_time": "2024-11-12T09:27:54.555715Z",
     "start_time": "2024-11-12T09:27:54.546076Z"
    }
   },
   "cell_type": "code",
   "source": "print(iti.index('n')) # get index of the first occurrence ",
   "id": "6c3d60d87722b51d",
   "outputs": [
    {
     "name": "stdout",
     "output_type": "stream",
     "text": [
      "1\n"
     ]
    }
   ],
   "execution_count": 9
  },
  {
   "metadata": {
    "ExecuteTime": {
     "end_time": "2024-11-12T09:28:47.882401Z",
     "start_time": "2024-11-12T09:28:47.868614Z"
    }
   },
   "cell_type": "code",
   "source": "print(iti.count(\"z\"))",
   "id": "31aaa059d6e8d04d",
   "outputs": [
    {
     "name": "stdout",
     "output_type": "stream",
     "text": [
      "0\n"
     ]
    }
   ],
   "execution_count": 10
  },
  {
   "metadata": {},
   "cell_type": "markdown",
   "source": "# in operator ",
   "id": "fe30598ceb5df8a0"
  },
  {
   "metadata": {
    "ExecuteTime": {
     "end_time": "2024-11-12T09:29:12.844358Z",
     "start_time": "2024-11-12T09:29:12.833423Z"
    }
   },
   "cell_type": "code",
   "source": [
    "# in operator \n",
    "print(\"z\" in iti)"
   ],
   "id": "218fbcdcac2945c4",
   "outputs": [
    {
     "name": "stdout",
     "output_type": "stream",
     "text": [
      "False\n"
     ]
    }
   ],
   "execution_count": 11
  },
  {
   "metadata": {},
   "cell_type": "markdown",
   "source": "# string is a sequence ",
   "id": "51cb1fb3e0fe6d56"
  },
  {
   "metadata": {
    "ExecuteTime": {
     "end_time": "2024-11-12T09:34:12.747815Z",
     "start_time": "2024-11-12T09:34:12.742916Z"
    }
   },
   "cell_type": "code",
   "source": [
    "# for in \n",
    "for abbass in iti:\n",
    "    print(abbass)"
   ],
   "id": "e3c54fc365228f93",
   "outputs": [
    {
     "name": "stdout",
     "output_type": "stream",
     "text": [
      "I\n",
      "n\n",
      "f\n",
      "o\n",
      "r\n",
      "m\n",
      "a\n",
      "t\n",
      "i\n",
      "o\n",
      "n\n",
      " \n",
      "T\n",
      "e\n",
      "c\n",
      "h\n",
      "n\n",
      "o\n",
      "l\n",
      "o\n",
      "g\n",
      "y\n",
      " \n",
      "I\n",
      "n\n",
      "s\n",
      "t\n",
      "i\n",
      "t\n",
      "u\n",
      "t\n",
      "e\n"
     ]
    }
   ],
   "execution_count": 12
  },
  {
   "metadata": {},
   "cell_type": "markdown",
   "source": "# operations on string ---> immutable \n",
   "id": "f5f75fffba8ac33f"
  },
  {
   "metadata": {},
   "cell_type": "markdown",
   "source": "1- string concat",
   "id": "ce753c08615feb81"
  },
  {
   "metadata": {
    "ExecuteTime": {
     "end_time": "2024-11-12T09:35:44.655160Z",
     "start_time": "2024-11-12T09:35:44.651596Z"
    }
   },
   "cell_type": "code",
   "source": [
    "fname= 'noha'\n",
    "midname='abdelhady'\n",
    "lname= 'shehab'\n"
   ],
   "id": "135918d80e2403b1",
   "outputs": [],
   "execution_count": 13
  },
  {
   "metadata": {
    "ExecuteTime": {
     "end_time": "2024-11-12T09:35:55.680202Z",
     "start_time": "2024-11-12T09:35:55.675314Z"
    }
   },
   "cell_type": "code",
   "source": [
    "fullname =  fname+midname+lname\n",
    "print(fullname)"
   ],
   "id": "3c9ac809a2d47b56",
   "outputs": [
    {
     "name": "stdout",
     "output_type": "stream",
     "text": [
      "nohaabdelhadyshehab\n"
     ]
    }
   ],
   "execution_count": 14
  },
  {
   "metadata": {
    "ExecuteTime": {
     "end_time": "2024-11-12T09:37:30.104646Z",
     "start_time": "2024-11-12T09:37:30.026650Z"
    }
   },
   "cell_type": "code",
   "source": [
    "num= 10 \n",
    "typess='mobiles'\n",
    "\n",
    "msg=\"I need to give the students\" + num + typess\n",
    "print(msg)"
   ],
   "id": "9c4e1bfcf639d3c5",
   "outputs": [
    {
     "ename": "TypeError",
     "evalue": "can only concatenate str (not \"int\") to str",
     "output_type": "error",
     "traceback": [
      "\u001B[0;31m---------------------------------------------------------------------------\u001B[0m",
      "\u001B[0;31mTypeError\u001B[0m                                 Traceback (most recent call last)",
      "Cell \u001B[0;32mIn[15], line 4\u001B[0m\n\u001B[1;32m      1\u001B[0m num\u001B[38;5;241m=\u001B[39m \u001B[38;5;241m10\u001B[39m \n\u001B[1;32m      2\u001B[0m typess\u001B[38;5;241m=\u001B[39m\u001B[38;5;124m'\u001B[39m\u001B[38;5;124mmobiles\u001B[39m\u001B[38;5;124m'\u001B[39m\n\u001B[0;32m----> 4\u001B[0m msg\u001B[38;5;241m=\u001B[39m\u001B[38;5;124;43m\"\u001B[39;49m\u001B[38;5;124;43mI need to give the students\u001B[39;49m\u001B[38;5;124;43m\"\u001B[39;49m\u001B[43m \u001B[49m\u001B[38;5;241;43m+\u001B[39;49m\u001B[43m \u001B[49m\u001B[43mnum\u001B[49m \u001B[38;5;241m+\u001B[39m typess\n\u001B[1;32m      5\u001B[0m \u001B[38;5;28mprint\u001B[39m(msg)\n",
      "\u001B[0;31mTypeError\u001B[0m: can only concatenate str (not \"int\") to str"
     ]
    }
   ],
   "execution_count": 15
  },
  {
   "metadata": {
    "ExecuteTime": {
     "end_time": "2024-11-12T09:38:00.385767Z",
     "start_time": "2024-11-12T09:38:00.381129Z"
    }
   },
   "cell_type": "code",
   "source": [
    "msg=\"I need to give the students\" +str( num) + typess\n",
    "print(msg)"
   ],
   "id": "d84ae9afa8da20a6",
   "outputs": [
    {
     "name": "stdout",
     "output_type": "stream",
     "text": [
      "I need to give the students10mobiles\n"
     ]
    }
   ],
   "execution_count": 17
  },
  {
   "metadata": {},
   "cell_type": "markdown",
   "source": "# formatting the string ",
   "id": "afefde575e6ea59a"
  },
  {
   "metadata": {},
   "cell_type": "markdown",
   "source": "1- formatfunction ",
   "id": "e6ebb835efbd71ba"
  },
  {
   "metadata": {
    "ExecuteTime": {
     "end_time": "2024-11-12T09:39:23.843823Z",
     "start_time": "2024-11-12T09:39:23.839675Z"
    }
   },
   "cell_type": "code",
   "source": [
    "tempp = \"I need to give the students {0} {1}\"\n",
    "print(tempp)"
   ],
   "id": "8850efaa041d8032",
   "outputs": [
    {
     "name": "stdout",
     "output_type": "stream",
     "text": [
      "I need to give the students {0} {1}\n"
     ]
    }
   ],
   "execution_count": 18
  },
  {
   "metadata": {
    "ExecuteTime": {
     "end_time": "2024-11-12T09:40:19.209383Z",
     "start_time": "2024-11-12T09:40:19.204318Z"
    }
   },
   "cell_type": "code",
   "source": [
    "# use format function to return with new string ?? \n",
    "newstr = tempp.format(22, \"laptops\")\n",
    "print(newstr)"
   ],
   "id": "a82d2478929d0357",
   "outputs": [
    {
     "name": "stdout",
     "output_type": "stream",
     "text": [
      "I need to give the students 22 laptops\n"
     ]
    }
   ],
   "execution_count": 19
  },
  {
   "metadata": {
    "ExecuteTime": {
     "end_time": "2024-11-12T09:41:08.076825Z",
     "start_time": "2024-11-12T09:41:08.072639Z"
    }
   },
   "cell_type": "code",
   "source": [
    "newstr2= tempp.format(\"tasks\", 30)\n",
    "print(newstr2)"
   ],
   "id": "1856cd30d0e8c873",
   "outputs": [
    {
     "name": "stdout",
     "output_type": "stream",
     "text": [
      "I need to give the students tasks 30\n"
     ]
    }
   ],
   "execution_count": 20
  },
  {
   "metadata": {},
   "cell_type": "markdown",
   "source": "# build format function --> {0}, ==> {keyword}",
   "id": "16a36c26d56300c2"
  },
  {
   "metadata": {
    "ExecuteTime": {
     "end_time": "2024-11-12T09:42:26.709195Z",
     "start_time": "2024-11-12T09:42:26.704373Z"
    }
   },
   "cell_type": "code",
   "source": "keywordtemp = \"I need to give the students {anynumber} {anygift}\"",
   "id": "5dece23c5de52214",
   "outputs": [],
   "execution_count": 21
  },
  {
   "metadata": {
    "ExecuteTime": {
     "end_time": "2024-11-12T09:42:29.519034Z",
     "start_time": "2024-11-12T09:42:29.504545Z"
    }
   },
   "cell_type": "code",
   "source": "print(keywordtemp)",
   "id": "cf357de97ec6524a",
   "outputs": [
    {
     "name": "stdout",
     "output_type": "stream",
     "text": [
      "I need to give the students {anynumber} {anygift}\n"
     ]
    }
   ],
   "execution_count": 22
  },
  {
   "metadata": {
    "ExecuteTime": {
     "end_time": "2024-11-12T09:43:19.732690Z",
     "start_time": "2024-11-12T09:43:19.727933Z"
    }
   },
   "cell_type": "code",
   "source": [
    "newmsg = keywordtemp.format(anynumber=24, anygift='tasks')  # keyword argument \n",
    "print(newmsg)"
   ],
   "id": "3ef0828be772aab7",
   "outputs": [
    {
     "name": "stdout",
     "output_type": "stream",
     "text": [
      "I need to give the students 24 tasks\n"
     ]
    }
   ],
   "execution_count": 23
  },
  {
   "metadata": {
    "ExecuteTime": {
     "end_time": "2024-11-12T09:43:32.947425Z",
     "start_time": "2024-11-12T09:43:32.943469Z"
    }
   },
   "cell_type": "code",
   "source": "print(keywordtemp)",
   "id": "693607208c1a7db",
   "outputs": [
    {
     "name": "stdout",
     "output_type": "stream",
     "text": [
      "I need to give the students {anynumber} {anygift}\n"
     ]
    }
   ],
   "execution_count": 24
  },
  {
   "metadata": {},
   "cell_type": "markdown",
   "source": [
    "# f-format string \n",
    "creating string depends on existing variables in memory "
   ],
   "id": "2ba8b01350eb788a"
  },
  {
   "metadata": {
    "ExecuteTime": {
     "end_time": "2024-11-12T09:45:38.550501Z",
     "start_time": "2024-11-12T09:45:38.545402Z"
    }
   },
   "cell_type": "code",
   "source": [
    "fname='noha'\n",
    "lname='shehab'\n",
    "outstr= f\"My name is {fname} {lname}\"\n",
    "print(outstr)"
   ],
   "id": "a59b38e1df46e2e5",
   "outputs": [
    {
     "name": "stdout",
     "output_type": "stream",
     "text": [
      "My name is noha shehab\n"
     ]
    }
   ],
   "execution_count": 26
  },
  {
   "metadata": {
    "ExecuteTime": {
     "end_time": "2024-11-12T09:46:21.554840Z",
     "start_time": "2024-11-12T09:46:21.526726Z"
    }
   },
   "cell_type": "code",
   "source": "anystr3= f\"the values of x= {x} , y = {y}\"",
   "id": "8632b1f9d127b215",
   "outputs": [
    {
     "ename": "NameError",
     "evalue": "name 'x' is not defined",
     "output_type": "error",
     "traceback": [
      "\u001B[0;31m---------------------------------------------------------------------------\u001B[0m",
      "\u001B[0;31mNameError\u001B[0m                                 Traceback (most recent call last)",
      "Cell \u001B[0;32mIn[27], line 1\u001B[0m\n\u001B[0;32m----> 1\u001B[0m anystr3\u001B[38;5;241m=\u001B[39m \u001B[38;5;124mf\u001B[39m\u001B[38;5;124m\"\u001B[39m\u001B[38;5;124mthe values of x= \u001B[39m\u001B[38;5;132;01m{\u001B[39;00m\u001B[43mx\u001B[49m\u001B[38;5;132;01m}\u001B[39;00m\u001B[38;5;124m , y = \u001B[39m\u001B[38;5;132;01m{\u001B[39;00my\u001B[38;5;132;01m}\u001B[39;00m\u001B[38;5;124m\"\u001B[39m\n",
      "\u001B[0;31mNameError\u001B[0m: name 'x' is not defined"
     ]
    }
   ],
   "execution_count": 27
  },
  {
   "metadata": {
    "ExecuteTime": {
     "end_time": "2024-11-12T09:47:09.729429Z",
     "start_time": "2024-11-12T09:47:09.721881Z"
    }
   },
   "cell_type": "code",
   "source": "anystr3= f\"the values of x= {10} , y = {55}\"",
   "id": "8670d89abc412fde",
   "outputs": [],
   "execution_count": 29
  },
  {
   "metadata": {
    "ExecuteTime": {
     "end_time": "2024-11-12T09:47:12.721569Z",
     "start_time": "2024-11-12T09:47:12.706408Z"
    }
   },
   "cell_type": "code",
   "source": "print(anystr3)",
   "id": "4513cc59624d6c4",
   "outputs": [
    {
     "name": "stdout",
     "output_type": "stream",
     "text": [
      "the values of x= 10 , y = 55\n"
     ]
    }
   ],
   "execution_count": 30
  },
  {
   "metadata": {},
   "cell_type": "markdown",
   "source": "# interpolation",
   "id": "1527374703c87416"
  },
  {
   "metadata": {
    "ExecuteTime": {
     "end_time": "2024-11-12T09:48:11.272735Z",
     "start_time": "2024-11-12T09:48:11.268570Z"
    }
   },
   "cell_type": "code",
   "source": [
    "fullname= fname+ midname + midname  + lname\n",
    "print(fullname)"
   ],
   "id": "26f24ef5b7aff71f",
   "outputs": [
    {
     "name": "stdout",
     "output_type": "stream",
     "text": [
      "nohaabdelhadyabdelhadyshehab\n"
     ]
    }
   ],
   "execution_count": 31
  },
  {
   "metadata": {
    "ExecuteTime": {
     "end_time": "2024-11-12T09:48:57.428682Z",
     "start_time": "2024-11-12T09:48:57.414024Z"
    }
   },
   "cell_type": "code",
   "source": [
    "fullname= fname + \" \" + midname * 2  + \"  \" +  lname\n",
    "print(fullname)"
   ],
   "id": "5a1c913b6ca161fa",
   "outputs": [
    {
     "name": "stdout",
     "output_type": "stream",
     "text": [
      "noha abdelhadyabdelhady  shehab\n"
     ]
    }
   ],
   "execution_count": 32
  },
  {
   "metadata": {},
   "cell_type": "markdown",
   "source": "# format string ",
   "id": "31b946712162238a"
  },
  {
   "metadata": {
    "ExecuteTime": {
     "end_time": "2024-11-12T09:50:28.395339Z",
     "start_time": "2024-11-12T09:50:28.390368Z"
    }
   },
   "cell_type": "code",
   "source": "msg = 'we love python'",
   "id": "659e8377a5ab43d5",
   "outputs": [],
   "execution_count": 33
  },
  {
   "metadata": {
    "ExecuteTime": {
     "end_time": "2024-11-12T09:50:35.972936Z",
     "start_time": "2024-11-12T09:50:35.968352Z"
    }
   },
   "cell_type": "code",
   "source": "print(msg.capitalize())",
   "id": "fce1e69fa5f940bf",
   "outputs": [
    {
     "name": "stdout",
     "output_type": "stream",
     "text": [
      "We love python\n"
     ]
    }
   ],
   "execution_count": 34
  },
  {
   "metadata": {
    "ExecuteTime": {
     "end_time": "2024-11-12T09:50:41.827898Z",
     "start_time": "2024-11-12T09:50:41.823151Z"
    }
   },
   "cell_type": "code",
   "source": "print(msg.upper())",
   "id": "d468ed187863bcfa",
   "outputs": [
    {
     "name": "stdout",
     "output_type": "stream",
     "text": [
      "WE LOVE PYTHON\n"
     ]
    }
   ],
   "execution_count": 35
  },
  {
   "metadata": {
    "ExecuteTime": {
     "end_time": "2024-11-12T09:50:51.161781Z",
     "start_time": "2024-11-12T09:50:51.145458Z"
    }
   },
   "cell_type": "code",
   "source": "print(msg.title())",
   "id": "1da58eefa828bcd3",
   "outputs": [
    {
     "name": "stdout",
     "output_type": "stream",
     "text": [
      "We Love Python\n"
     ]
    }
   ],
   "execution_count": 37
  },
  {
   "metadata": {},
   "cell_type": "markdown",
   "source": "# replace ",
   "id": "eeef1548157b1395"
  },
  {
   "metadata": {
    "ExecuteTime": {
     "end_time": "2024-11-12T09:55:24.305148Z",
     "start_time": "2024-11-12T09:55:24.298706Z"
    }
   },
   "cell_type": "code",
   "source": [
    "message = \"we love python\"  # o --> @ \n",
    "newmsg = ''\n",
    "for char in message:\n",
    "    if char=='o':\n",
    "        newmsg += '@' # reassign  # newmsg= newmsg + '@'\n",
    "    else:\n",
    "        newmsg += char\n",
    "print(newmsg)\n"
   ],
   "id": "cadea3a8cfa5c72f",
   "outputs": [
    {
     "name": "stdout",
     "output_type": "stream",
     "text": [
      "we l@ve pyth@n\n"
     ]
    }
   ],
   "execution_count": 41
  },
  {
   "metadata": {
    "ExecuteTime": {
     "end_time": "2024-11-12T09:54:41.694047Z",
     "start_time": "2024-11-12T09:54:41.675492Z"
    }
   },
   "cell_type": "code",
   "source": [
    "name= 'abbass'\n",
    "name= name + \"##\"\n",
    "print(name)"
   ],
   "id": "683d1c0aa7ca80f1",
   "outputs": [
    {
     "name": "stdout",
     "output_type": "stream",
     "text": [
      "abbass##\n"
     ]
    }
   ],
   "execution_count": 38
  },
  {
   "metadata": {
    "ExecuteTime": {
     "end_time": "2024-11-12T09:55:03.282523Z",
     "start_time": "2024-11-12T09:55:03.270582Z"
    }
   },
   "cell_type": "code",
   "source": [
    "num = 10 \n",
    "num +=300\n",
    "print(num)"
   ],
   "id": "ce43fdd0c729be2f",
   "outputs": [
    {
     "name": "stdout",
     "output_type": "stream",
     "text": [
      "310\n"
     ]
    }
   ],
   "execution_count": 39
  },
  {
   "metadata": {},
   "cell_type": "markdown",
   "source": "# use replace function",
   "id": "b65574b53408c34e"
  },
  {
   "metadata": {
    "ExecuteTime": {
     "end_time": "2024-11-12T09:57:54.518219Z",
     "start_time": "2024-11-12T09:57:54.504551Z"
    }
   },
   "cell_type": "code",
   "source": [
    "message = \"we love python\"\n",
    "newmessage = message.replace(\"o\", '@')  # replace all occurrences\n",
    "print(newmessage)"
   ],
   "id": "b557c33bd12a18e7",
   "outputs": [
    {
     "name": "stdout",
     "output_type": "stream",
     "text": [
      "we l@ve pyth@n\n"
     ]
    }
   ],
   "execution_count": 42
  },
  {
   "metadata": {
    "ExecuteTime": {
     "end_time": "2024-11-12T09:58:46.417793Z",
     "start_time": "2024-11-12T09:58:46.404958Z"
    }
   },
   "cell_type": "code",
   "source": [
    "message = \"we love python o o o o \"\n",
    "newmessage = message.replace(\"o\", '@', 4)  # replace first 2 \n",
    "print(newmessage)"
   ],
   "id": "13bc84e70db58696",
   "outputs": [
    {
     "name": "stdout",
     "output_type": "stream",
     "text": [
      "we l@ve pyth@n @ @ o o \n"
     ]
    }
   ],
   "execution_count": 44
  },
  {
   "metadata": {},
   "cell_type": "markdown",
   "source": "# ask user to enter a value ",
   "id": "4686cb952ad10a69"
  },
  {
   "metadata": {
    "ExecuteTime": {
     "end_time": "2024-11-12T10:02:19.731418Z",
     "start_time": "2024-11-12T10:02:14.649525Z"
    }
   },
   "cell_type": "code",
   "source": [
    "num1 = input(\"please enter num1: \")\n",
    "num2 = input(\"please enter num2: \")"
   ],
   "id": "20a61923d3e2fb77",
   "outputs": [],
   "execution_count": 45
  },
  {
   "metadata": {
    "ExecuteTime": {
     "end_time": "2024-11-12T10:02:30.956050Z",
     "start_time": "2024-11-12T10:02:30.950252Z"
    }
   },
   "cell_type": "code",
   "source": [
    "res = num1 + num2\n",
    "print(res)"
   ],
   "id": "6a89256d67304cee",
   "outputs": [
    {
     "name": "stdout",
     "output_type": "stream",
     "text": [
      "3123123\n"
     ]
    }
   ],
   "execution_count": 46
  },
  {
   "metadata": {},
   "cell_type": "markdown",
   "source": "<img src=\"userinput.jpeg\" width='400' height='400'> ",
   "id": "d4aafaee5a0c3b78"
  },
  {
   "metadata": {},
   "cell_type": "code",
   "outputs": [],
   "execution_count": null,
   "source": "",
   "id": "1f9331c00468600b"
  },
  {
   "metadata": {
    "ExecuteTime": {
     "end_time": "2024-11-12T10:03:35.623564Z",
     "start_time": "2024-11-12T10:03:32.791737Z"
    }
   },
   "cell_type": "code",
   "source": [
    "num1 = int(input(\"please enter num1: \"))\n",
    "num2 = int(input(\"please enter num2: \"))\n",
    "res = num1 + num2\n",
    "print(res)"
   ],
   "id": "f9e3143995597d49",
   "outputs": [
    {
     "ename": "ValueError",
     "evalue": "invalid literal for int() with base 10: 'ee'",
     "output_type": "error",
     "traceback": [
      "\u001B[0;31m---------------------------------------------------------------------------\u001B[0m",
      "\u001B[0;31mValueError\u001B[0m                                Traceback (most recent call last)",
      "Cell \u001B[0;32mIn[48], line 1\u001B[0m\n\u001B[0;32m----> 1\u001B[0m num1 \u001B[38;5;241m=\u001B[39m \u001B[38;5;28;43mint\u001B[39;49m\u001B[43m(\u001B[49m\u001B[38;5;28;43minput\u001B[39;49m\u001B[43m(\u001B[49m\u001B[38;5;124;43m\"\u001B[39;49m\u001B[38;5;124;43mplease enter num1: \u001B[39;49m\u001B[38;5;124;43m\"\u001B[39;49m\u001B[43m)\u001B[49m\u001B[43m)\u001B[49m\n\u001B[1;32m      2\u001B[0m num2 \u001B[38;5;241m=\u001B[39m \u001B[38;5;28mint\u001B[39m(\u001B[38;5;28minput\u001B[39m(\u001B[38;5;124m\"\u001B[39m\u001B[38;5;124mplease enter num2: \u001B[39m\u001B[38;5;124m\"\u001B[39m))\n\u001B[1;32m      3\u001B[0m res \u001B[38;5;241m=\u001B[39m num1 \u001B[38;5;241m+\u001B[39m num2\n",
      "\u001B[0;31mValueError\u001B[0m: invalid literal for int() with base 10: 'ee'"
     ]
    }
   ],
   "execution_count": 48
  },
  {
   "metadata": {
    "ExecuteTime": {
     "end_time": "2024-11-12T10:15:22.765630Z",
     "start_time": "2024-11-12T10:15:17.075350Z"
    }
   },
   "cell_type": "code",
   "source": [
    "num1 = input(\"please enter num1: \")\n",
    "num2 = input(\"please enter num2: \")\n",
    "if num1.isdigit() and num2.isdigit(): \n",
    "    num1 = int(num1)\n",
    "    num2 = int(num2)\n",
    "    res = num1 + num2\n",
    "    print(f\"res= {res}\")\n",
    "else:\n",
    "    print(\"please enter valid numbers .. \")"
   ],
   "id": "6b355eb910b873e9",
   "outputs": [
    {
     "name": "stdout",
     "output_type": "stream",
     "text": [
      "res= 67\n"
     ]
    }
   ],
   "execution_count": 50
  },
  {
   "metadata": {},
   "cell_type": "markdown",
   "source": "# Alaa needs to clean the data ",
   "id": "404344295fd7e43"
  },
  {
   "metadata": {
    "ExecuteTime": {
     "end_time": "2024-11-12T10:17:52.239550Z",
     "start_time": "2024-11-12T10:17:52.231953Z"
    }
   },
   "cell_type": "code",
   "source": [
    "bio= \"     My name is  noha                                               \"\n",
    "print(bio, len(bio))\n",
    "updatedbio= bio.strip()\n",
    "print(updatedbio, len(updatedbio))\n"
   ],
   "id": "121e7e1737373972",
   "outputs": [
    {
     "name": "stdout",
     "output_type": "stream",
     "text": [
      "     My name is  noha                                                68\n",
      "My name is  noha 16\n"
     ]
    }
   ],
   "execution_count": 51
  },
  {
   "metadata": {},
   "cell_type": "markdown",
   "source": "### check this ",
   "id": "d63810154d2a0d62"
  },
  {
   "metadata": {
    "ExecuteTime": {
     "end_time": "2024-11-12T10:24:25.444208Z",
     "start_time": "2024-11-12T10:24:25.439544Z"
    }
   },
   "cell_type": "code",
   "source": [
    "message  = \"@        we love pyth@n                 @\"\n",
    "print(message.strip(\"n  $@\"))"
   ],
   "id": "b835246d53cf7b11",
   "outputs": [
    {
     "name": "stdout",
     "output_type": "stream",
     "text": [
      "we love pyth\n"
     ]
    }
   ],
   "execution_count": 57
  },
  {
   "metadata": {},
   "cell_type": "code",
   "outputs": [],
   "execution_count": null,
   "source": "",
   "id": "4e607423c3e85aa7"
  }
 ],
 "metadata": {
  "kernelspec": {
   "display_name": "Python 3",
   "language": "python",
   "name": "python3"
  },
  "language_info": {
   "codemirror_mode": {
    "name": "ipython",
    "version": 2
   },
   "file_extension": ".py",
   "mimetype": "text/x-python",
   "name": "python",
   "nbconvert_exporter": "python",
   "pygments_lexer": "ipython2",
   "version": "2.7.6"
  }
 },
 "nbformat": 4,
 "nbformat_minor": 5
}
